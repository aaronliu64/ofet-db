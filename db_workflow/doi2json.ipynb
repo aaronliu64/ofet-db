{
 "cells": [
  {
   "cell_type": "markdown",
   "metadata": {},
   "source": [
    "### doi2dict function\n",
    "\n",
    "Given a doi string, converts to the metadata entry for the journal article"
   ]
  },
  {
   "cell_type": "code",
   "execution_count": 5,
   "metadata": {},
   "outputs": [],
   "source": [
    "import requests\n",
    "import json\n",
    "import pandas as pd\n",
    "import bibtexparser\n",
    "import pprint\n",
    "\n",
    "def doi2dict(doi):\n",
    "    #create url\n",
    "    url = \"http://dx.doi.org/\" + doi\n",
    "    \n",
    "    #create dictionary of http bibtex headers that requests will retrieve from the url\n",
    "    headers = {\"accept\": \"application/x-bibtex\"}\n",
    "    \n",
    "    #reqeusts information specified by bibtex from url\n",
    "    r = requests.get(url, headers = headers).text    \n",
    "    \n",
    "    #parse the returned bibtex text to a dictionary\n",
    "    #NOTE: USE bibtexparser.customization to split strings into list, etc. (https://bibtexparser.readthedocs.io/en/master/bibtexparser.html?highlight=bparser#module-bibtexparser.bparser)\n",
    "    bibdata = bibtexparser.bparser.BibTexParser().parse(r)\n",
    "    \n",
    "    #return dict of metadata\n",
    "    return bibdata.entries[0]\n",
    "\n",
    "doi = '10.1021/acsami.1c20994'\n",
    "doi2 = '10.1021/acscentsci.9b00476'\n",
    "\n",
    "doidict = doi2dict(doi2)"
   ]
  },
  {
   "cell_type": "code",
   "execution_count": 6,
   "metadata": {},
   "outputs": [
    {
     "data": {
      "text/plain": [
       "{'journal': '{ACS} Central Science',\n",
       " 'title': '{BigSMILES}: A Structurally-Based Line Notation for Describing Macromolecules',\n",
       " 'author': 'Tzyy-Shyang Lin and Connor W. Coley and Hidenobu Mochigase and Haley K. Beech and Wencong Wang and Zi Wang and Eliot Woods and Stephen L. Craig and Jeremiah A. Johnson and Julia A. Kalow and Klavs F. Jensen and Bradley D. Olsen',\n",
       " 'pages': '1523--1531',\n",
       " 'number': '9',\n",
       " 'volume': '5',\n",
       " 'publisher': 'American Chemical Society ({ACS})',\n",
       " 'month': 'sep',\n",
       " 'year': '2019',\n",
       " 'url': 'https://doi.org/10.1021%2Facscentsci.9b00476',\n",
       " 'doi': '10.1021/acscentsci.9b00476',\n",
       " 'ENTRYTYPE': 'article',\n",
       " 'ID': 'Lin_2019'}"
      ]
     },
     "execution_count": 6,
     "metadata": {},
     "output_type": "execute_result"
    }
   ],
   "source": [
    "doidict"
   ]
  },
  {
   "cell_type": "markdown",
   "metadata": {},
   "source": [
    "### Set up connection details for PostgreSQL"
   ]
  },
  {
   "cell_type": "code",
   "execution_count": 10,
   "metadata": {},
   "outputs": [],
   "source": [
    "# Postgres python\n",
    "import psycopg2 as pg\n",
    "import numpy as np\n",
    "from psycopg2.extras import Json \n",
    "import os\n",
    "from psycopg2.extras import Json\n",
    "from psycopg2.extensions import AsIs\n",
    "import functools\n",
    "import json\n",
    "import sys\n",
    "\n",
    "# Adapters necessary for converting python data types to PostgreSQL compatible data types \n",
    "def addapt_numpy_float64(numpy_float64):\n",
    "    return AsIs(numpy_float64)\n",
    "\n",
    "def addapt_numpy_int64(numpy_int64):\n",
    "    return AsIs(numpy_int64)\n",
    "\n",
    "def nan_to_null(f,\n",
    "        _NULL=AsIs('NULL'),\n",
    "        _Float=pg.extensions.Float):\n",
    "    if not np.isnan(f):\n",
    "        return _Float(f)\n",
    "    return _NULL\n",
    "\n",
    "pg.extensions.register_adapter(np.float64, addapt_numpy_float64)\n",
    "pg.extensions.register_adapter(np.int64, addapt_numpy_int64)\n",
    "pg.extensions.register_adapter(float, nan_to_null)\n",
    "\n",
    "param_dict = {\n",
    "    \"host\"      : \"127.0.0.1\",\n",
    "    \"database\"  : \"ofetdb_testenv\",\n",
    "    \"user\"      : \"postgres\",\n",
    "    \"password\"  : \"password\",\n",
    "    \"port\"      : \"5432\",\n",
    "}\n",
    "\n",
    "def connect(params_dict):\n",
    "    \"\"\" Connect to the PostgreSQL database server \"\"\"\n",
    "    conn = None\n",
    "    try:\n",
    "        # connect to the PostgreSQL server\n",
    "        print('Connecting to the PostgreSQL database...')\n",
    "        conn = pg.connect(**params_dict)\n",
    "    except (Exception, pg.DatabaseError) as error:\n",
    "        print(error)\n",
    "        sys.exit(1) \n",
    "    print(\"Connection successful\")\n",
    "    return conn"
   ]
  },
  {
   "cell_type": "code",
   "execution_count": 17,
   "metadata": {
    "scrolled": true
   },
   "outputs": [
    {
     "name": "stdout",
     "output_type": "stream",
     "text": [
      "'{\"journal\": \"{ACS} Central Science\", \"title\": \"{BigSMILES}: A Structurally-Based Line Notation for Describing Macromolecules\", \"author\": \"Tzyy-Shyang Lin and Connor W. Coley and Hidenobu Mochigase and Haley K. Beech and Wencong Wang and Zi Wang and Eliot Woods and Stephen L. Craig and Jeremiah A. Johnson and Julia A. Kalow and Klavs F. Jensen and Bradley D. Olsen\", \"pages\": \"1523--1531\", \"number\": \"9\", \"volume\": \"5\", \"publisher\": \"American Chemical Society ({ACS})\", \"month\": \"sep\", \"year\": \"2019\", \"url\": \"https://doi.org/10.1021%2Facscentsci.9b00476\", \"doi\": \"10.1021/acscentsci.9b00476\", \"ENTRYTYPE\": \"article\", \"ID\": \"Lin_2019\"}'\n"
     ]
    }
   ],
   "source": [
    "a = Json(doidict)\n",
    "print(a)"
   ]
  },
  {
   "cell_type": "code",
   "execution_count": 19,
   "metadata": {},
   "outputs": [
    {
     "name": "stdout",
     "output_type": "stream",
     "text": [
      "Connnection Successful\n",
      "Table(s) created successfully\n",
      "Operation successful\n"
     ]
    }
   ],
   "source": [
    "import psycopg2\n",
    "\n",
    "kwargs = {\n",
    "    'database': 'test',\n",
    "    'user': 'postgres',\n",
    "    'password': 'password',\n",
    "    'host': '127.0.0.1',\n",
    "    'port': '5432'\n",
    "}\n",
    "\n",
    "# %% Create Tables for EXPERIMENT_INFO\n",
    "\n",
    "conn = psycopg2.connect(**kwargs)\n",
    "\n",
    "print(\"Connnection Successful\")\n",
    "\n",
    "cur = conn.cursor()\n",
    "cur.execute(\n",
    "    '''\n",
    "    CREATE TABLE IF NOT EXISTS EXPERIMENT_INFO (\n",
    "        exp_id              SERIAL          PRIMARY KEY,\n",
    "        citation_type       VARCHAR(20),\n",
    "        meta                JSONB,\n",
    "        UNIQUE(citation_type, meta)\n",
    "    );\n",
    "    '''\n",
    ")\n",
    "\n",
    "print(\"Table(s) created successfully\")\n",
    "conn.commit()\n",
    "\n",
    "print(\"Operation successful\")\n",
    "conn.close()"
   ]
  },
  {
   "cell_type": "code",
   "execution_count": null,
   "metadata": {},
   "outputs": [],
   "source": []
  }
 ],
 "metadata": {
  "kernelspec": {
   "display_name": "Python 3",
   "language": "python",
   "name": "python3"
  },
  "language_info": {
   "codemirror_mode": {
    "name": "ipython",
    "version": 3
   },
   "file_extension": ".py",
   "mimetype": "text/x-python",
   "name": "python",
   "nbconvert_exporter": "python",
   "pygments_lexer": "ipython3",
   "version": "3.8.3"
  }
 },
 "nbformat": 4,
 "nbformat_minor": 4
}
