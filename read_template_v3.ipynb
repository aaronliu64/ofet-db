{
 "cells": [
  {
   "cell_type": "code",
   "execution_count": 1,
   "metadata": {},
   "outputs": [],
   "source": [
    "import pandas as pd\n",
    "import numpy as np"
   ]
  },
  {
   "cell_type": "code",
   "execution_count": 103,
   "metadata": {},
   "outputs": [],
   "source": [
    "def remove_emptyrows(df):\n",
    "    nan_mask = ~df.iloc[:,1].isna() #remove rows that have no value in the second column\n",
    "    return df[nan_mask]\n",
    "\n",
    "def read_sheet(filepath, sheet_name, usecols=\"A,B\"):\n",
    "\n",
    "    ## Read Experimental Source Info\n",
    "    df_expinfo = pd.read_excel(\n",
    "        filepath,\n",
    "        sheet_name=sheet_name,\n",
    "        usecols=usecols\n",
    "    )\n",
    "    \n",
    "    #remove empty rows\n",
    "    df_expinfo = remove_emptyrows(df_expinfo)\n",
    "    \n",
    "    #convert to dict\n",
    "    sheet_dict = dict(df_expinfo.values)\n",
    "    sheet_dict.pop('KEY', None) #Remove \"KEY\" from the list of keys, if it exists\n",
    "\n",
    "    return sheet_dict\n",
    "\n",
    "# f = pd.ExcelFile(fpath)\n"
   ]
  },
  {
   "cell_type": "code",
   "execution_count": 107,
   "metadata": {},
   "outputs": [],
   "source": [
    "fpath = 'db_feed\\L1.xlsx'\n",
    "exp_info = read_sheet(fpath, '1. Data Origin', usecols=\"A,B\")\n",
    "solution_makeup = read_sheet(fpath, '2. Solution', usecols=\"A,B\")\n",
    "solution_treatment = read_sheet(fpath, '2b. Solution Pre-treatment', usecols=\"A,B\")\n",
    "device_fab = read_sheet(fpath, '3. Substrate', usecols=\"A,B\")\n",
    "deposition = read_sheet(fpath, '4. Coating Process', usecols=\"A,B\")"
   ]
  },
  {
   "cell_type": "code",
   "execution_count": 111,
   "metadata": {},
   "outputs": [
    {
     "data": {
      "text/plain": [
       "{'First Name': 'Ron',\n",
       " 'Last Name': 'Volkovinsky',\n",
       " 'Your Email': 'rvolkovinsky3@gatech.edu',\n",
       " 'Origin': 'experiments',\n",
       " 'Citation Type': 'publications',\n",
       " 'Publication Type': 'research article',\n",
       " 'DOI': '10.1002/adfm.201002729'}"
      ]
     },
     "execution_count": 111,
     "metadata": {},
     "output_type": "execute_result"
    }
   ],
   "source": [
    "exp_info"
   ]
  },
  {
   "cell_type": "code",
   "execution_count": 112,
   "metadata": {},
   "outputs": [
    {
     "data": {
      "text/plain": [
       "{'Solvent 1 - Chemical name': 'chloroform',\n",
       " 'Solvent 1 - Volume fraction': 100,\n",
       " 'Polymer Semiconductor - Name': 'P3HT',\n",
       " 'Polymer Semiconductor - IUPAC Name': 'Poly(3-hexylthiophene-2,5-diyl)',\n",
       " 'Polymer Semiconductor - Molecular Weight (Mn)': 24,\n",
       " 'Polymer Semiconductor - Molecular Weight (Mw)': 47.7,\n",
       " 'Polymer Semiconductor - Polydispersity Index (PDI)': 1.9875,\n",
       " 'Polymer Semiconductor - Regioregularity': 93,\n",
       " 'Polymer Semiconductor - Manufacturer': 'Sigma Aldritch',\n",
       " 'Total Polymer Concentration': 4,\n",
       " 'Polymer Semiconductor - wt% in solution': 100}"
      ]
     },
     "execution_count": 112,
     "metadata": {},
     "output_type": "execute_result"
    }
   ],
   "source": [
    "solution_makeup"
   ]
  },
  {
   "cell_type": "code",
   "execution_count": 113,
   "metadata": {},
   "outputs": [
    {
     "data": {
      "text/plain": [
       "{'Sonication #': 'Description/Fixed Value',\n",
       " 'Sonication - exposure time': 0,\n",
       " 'Sonication - sonicator model': 'Bransonic 2510',\n",
       " 'Sonication - frequency': 40,\n",
       " 'Sonication - intensity': 130,\n",
       " 'Sonication - environment': 'Ambient'}"
      ]
     },
     "execution_count": 113,
     "metadata": {},
     "output_type": "execute_result"
    }
   ],
   "source": [
    "solution_treatment"
   ]
  },
  {
   "cell_type": "code",
   "execution_count": 114,
   "metadata": {},
   "outputs": [
    {
     "data": {
      "text/plain": [
       "{'Substrate - Material': 'N-Doped Si',\n",
       " 'Dielectric 1 - Material': 'SiO2',\n",
       " 'Dielectric 1 - Thickness': 200,\n",
       " 'Electrode - Channel length': 50,\n",
       " 'Electrode - Channel width': 2000,\n",
       " 'Electrode - Adhesion layer': 'Chromium',\n",
       " 'Electrode - Contact': 'Gold',\n",
       " 'Electrode - Architecture': 'BG-BC',\n",
       " 'Gate - Material': 'Silicon',\n",
       " 'Dielectric 1 - Capacitance': 0.172}"
      ]
     },
     "execution_count": 114,
     "metadata": {},
     "output_type": "execute_result"
    }
   ],
   "source": [
    "device_fab"
   ]
  },
  {
   "cell_type": "code",
   "execution_count": 115,
   "metadata": {},
   "outputs": [
    {
     "data": {
      "text/plain": [
       "{'Deposition - environment': 'Ambient',\n",
       " 'Spin Coating #': 'Description/Fixed Value',\n",
       " 'Spin - rate': 1500}"
      ]
     },
     "execution_count": 115,
     "metadata": {},
     "output_type": "execute_result"
    }
   ],
   "source": [
    "deposition"
   ]
  },
  {
   "cell_type": "code",
   "execution_count": null,
   "metadata": {},
   "outputs": [],
   "source": []
  }
 ],
 "metadata": {
  "kernelspec": {
   "display_name": "Python 3",
   "language": "python",
   "name": "python3"
  },
  "language_info": {
   "codemirror_mode": {
    "name": "ipython",
    "version": 3
   },
   "file_extension": ".py",
   "mimetype": "text/x-python",
   "name": "python",
   "nbconvert_exporter": "python",
   "pygments_lexer": "ipython3",
   "version": "3.8.3"
  }
 },
 "nbformat": 4,
 "nbformat_minor": 5
}
