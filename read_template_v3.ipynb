{
 "cells": [
  {
   "cell_type": "code",
   "execution_count": 1,
   "metadata": {},
   "outputs": [],
   "source": [
    "import pandas as pd\n",
    "import numpy as np"
   ]
  },
  {
   "cell_type": "code",
   "execution_count": 120,
   "metadata": {},
   "outputs": [],
   "source": [
    "def remove_emptyrows(df):\n",
    "    nan_mask = ~df.iloc[:,1].isna() #remove rows that have no value in the second column\n",
    "    return df[nan_mask]\n",
    "\n",
    "def read_sheet(filepath, sheet_name, usecols=\"A,B,D\"):\n",
    "\n",
    "    ## NOTE: ADD AN ARGUMENT TO DECIDE WHETHER OR NOT TO BRACKET THE SHEET\n",
    "    \n",
    "    ## Read Experimental Source Info\n",
    "    df = pd.read_excel(\n",
    "        filepath,\n",
    "        sheet_name=sheet_name,\n",
    "        usecols=usecols\n",
    "    )\n",
    "    \n",
    "    #remove empty rows\n",
    "    df_ = remove_emptyrows(df)\n",
    "\n",
    "    return df_ #returns a dataframe\n",
    "\n",
    "def split_df(df_):\n",
    "    \n",
    "    split_idx_mask = df_.iloc[:,0].str.contains('#') #Find the object splits\n",
    "    w = df_[split_idx_mask].index.values\n",
    "    \n",
    "    df_list = []\n",
    "    \n",
    "    for i in range(len(w)-1):\n",
    "        next_df = df_.loc[w[i]+1:w[i+1]-1,:]\n",
    "        df_list.append(next_df)    \n",
    "    \n",
    "    return df_list\n",
    "\n",
    "def table_to_dict(df_):\n",
    "    \n",
    "    json_mask = df_.META==True\n",
    "    step_dict = dict(df_[~json_mask].iloc[:,:2].values)\n",
    "    step_dict['meta'] = dict(df_[json_mask].iloc[:,:2].values)\n",
    "    \n",
    "    return step_dict\n",
    "\n",
    "# f = pd.ExcelFile(fpath)\n"
   ]
  },
  {
   "cell_type": "code",
   "execution_count": 135,
   "metadata": {},
   "outputs": [],
   "source": [
    "fpath = r'db_feed\\new_template_v4.xlsx'\n",
    "exp_info = read_sheet(fpath, 'Data Origin')\n",
    "# solution_makeup = read_sheet(fpath, '2. Solution', usecols=\"A,B\")\n",
    "# solution_treatment = read_sheet(fpath, '2b. Solution Pre-treatment', usecols=\"A,B\")\n",
    "substrate_pretreat = read_sheet(fpath, 'Substrate Pretreat')\n",
    "# device_fab = read_sheet(fpath, '3. Substrate', usecols=\"A,B\")\n",
    "post_process = read_sheet(fpath, 'Post-Processing')"
   ]
  },
  {
   "cell_type": "code",
   "execution_count": 136,
   "metadata": {},
   "outputs": [
    {
     "data": {
      "text/plain": [
       "[      Sample Info              Unnamed: 1  META\n",
       " 3      first_name                   Rahul   1.0\n",
       " 4       last_name               Venkatesh   1.0\n",
       " 5           email  rvenkatesh6@gatech.edu   1.0\n",
       " 8   Citation Type              laboratory   NaN\n",
       " 18            DOI      10.1038/srep24476    NaN]"
      ]
     },
     "execution_count": 136,
     "metadata": {},
     "output_type": "execute_result"
    }
   ],
   "source": [
    "def split_df(df_):\n",
    "    \n",
    "    split_idx_mask = df_.iloc[:,0].str.contains('#') #Find the object splits\n",
    "    w = df_[split_idx_mask].index.values\n",
    "    \n",
    "    df_list = []\n",
    "    \n",
    "    for i in range(len(w)-1):\n",
    "        next_df = df_.loc[w[i]+1:w[i+1]-1,:]\n",
    "        df_list.append(next_df)    \n",
    "    \n",
    "    return df_list\n",
    "\n",
    "df_list = split_df(exp_info)\n",
    "df_list"
   ]
  },
  {
   "cell_type": "code",
   "execution_count": 138,
   "metadata": {},
   "outputs": [
    {
     "data": {
      "text/plain": [
       "{'Citation Type': 'laboratory',\n",
       " 'DOI': '10.1038/srep24476 ',\n",
       " 'meta': {'first_name': 'Rahul',\n",
       "  'last_name': 'Venkatesh',\n",
       "  'email': 'rvenkatesh6@gatech.edu'}}"
      ]
     },
     "execution_count": 138,
     "metadata": {},
     "output_type": "execute_result"
    }
   ],
   "source": [
    "table_to_dict(df_list[0])"
   ]
  },
  {
   "cell_type": "code",
   "execution_count": null,
   "metadata": {},
   "outputs": [],
   "source": []
  },
  {
   "cell_type": "code",
   "execution_count": null,
   "metadata": {},
   "outputs": [],
   "source": []
  },
  {
   "cell_type": "code",
   "execution_count": null,
   "metadata": {},
   "outputs": [],
   "source": []
  },
  {
   "cell_type": "code",
   "execution_count": 111,
   "metadata": {},
   "outputs": [
    {
     "data": {
      "text/plain": [
       "{'First Name': 'Ron',\n",
       " 'Last Name': 'Volkovinsky',\n",
       " 'Your Email': 'rvolkovinsky3@gatech.edu',\n",
       " 'Origin': 'experiments',\n",
       " 'Citation Type': 'publications',\n",
       " 'Publication Type': 'research article',\n",
       " 'DOI': '10.1002/adfm.201002729'}"
      ]
     },
     "execution_count": 111,
     "metadata": {},
     "output_type": "execute_result"
    }
   ],
   "source": [
    "exp_info"
   ]
  },
  {
   "cell_type": "code",
   "execution_count": 112,
   "metadata": {},
   "outputs": [
    {
     "data": {
      "text/plain": [
       "{'Solvent 1 - Chemical name': 'chloroform',\n",
       " 'Solvent 1 - Volume fraction': 100,\n",
       " 'Polymer Semiconductor - Name': 'P3HT',\n",
       " 'Polymer Semiconductor - IUPAC Name': 'Poly(3-hexylthiophene-2,5-diyl)',\n",
       " 'Polymer Semiconductor - Molecular Weight (Mn)': 24,\n",
       " 'Polymer Semiconductor - Molecular Weight (Mw)': 47.7,\n",
       " 'Polymer Semiconductor - Polydispersity Index (PDI)': 1.9875,\n",
       " 'Polymer Semiconductor - Regioregularity': 93,\n",
       " 'Polymer Semiconductor - Manufacturer': 'Sigma Aldritch',\n",
       " 'Total Polymer Concentration': 4,\n",
       " 'Polymer Semiconductor - wt% in solution': 100}"
      ]
     },
     "execution_count": 112,
     "metadata": {},
     "output_type": "execute_result"
    }
   ],
   "source": [
    "solution_makeup"
   ]
  },
  {
   "cell_type": "code",
   "execution_count": 113,
   "metadata": {},
   "outputs": [
    {
     "data": {
      "text/plain": [
       "{'Sonication #': 'Description/Fixed Value',\n",
       " 'Sonication - exposure time': 0,\n",
       " 'Sonication - sonicator model': 'Bransonic 2510',\n",
       " 'Sonication - frequency': 40,\n",
       " 'Sonication - intensity': 130,\n",
       " 'Sonication - environment': 'Ambient'}"
      ]
     },
     "execution_count": 113,
     "metadata": {},
     "output_type": "execute_result"
    }
   ],
   "source": [
    "solution_treatment"
   ]
  },
  {
   "cell_type": "code",
   "execution_count": 114,
   "metadata": {},
   "outputs": [
    {
     "data": {
      "text/plain": [
       "{'Substrate - Material': 'N-Doped Si',\n",
       " 'Dielectric 1 - Material': 'SiO2',\n",
       " 'Dielectric 1 - Thickness': 200,\n",
       " 'Electrode - Channel length': 50,\n",
       " 'Electrode - Channel width': 2000,\n",
       " 'Electrode - Adhesion layer': 'Chromium',\n",
       " 'Electrode - Contact': 'Gold',\n",
       " 'Electrode - Architecture': 'BG-BC',\n",
       " 'Gate - Material': 'Silicon',\n",
       " 'Dielectric 1 - Capacitance': 0.172}"
      ]
     },
     "execution_count": 114,
     "metadata": {},
     "output_type": "execute_result"
    }
   ],
   "source": [
    "device_fab"
   ]
  },
  {
   "cell_type": "code",
   "execution_count": 115,
   "metadata": {},
   "outputs": [
    {
     "data": {
      "text/plain": [
       "{'Deposition - environment': 'Ambient',\n",
       " 'Spin Coating #': 'Description/Fixed Value',\n",
       " 'Spin - rate': 1500}"
      ]
     },
     "execution_count": 115,
     "metadata": {},
     "output_type": "execute_result"
    }
   ],
   "source": [
    "deposition"
   ]
  },
  {
   "cell_type": "code",
   "execution_count": null,
   "metadata": {},
   "outputs": [],
   "source": []
  }
 ],
 "metadata": {
  "kernelspec": {
   "display_name": "Python 3",
   "language": "python",
   "name": "python3"
  },
  "language_info": {
   "codemirror_mode": {
    "name": "ipython",
    "version": 3
   },
   "file_extension": ".py",
   "mimetype": "text/x-python",
   "name": "python",
   "nbconvert_exporter": "python",
   "pygments_lexer": "ipython3",
   "version": "3.8.3"
  }
 },
 "nbformat": 4,
 "nbformat_minor": 5
}
