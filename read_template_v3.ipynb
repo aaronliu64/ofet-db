{
 "cells": [
  {
   "cell_type": "code",
   "execution_count": 1,
   "id": "bbb04fc0",
   "metadata": {},
   "outputs": [],
   "source": [
    "import pandas as pd\n",
    "import numpy as np"
   ]
  },
  {
   "cell_type": "code",
   "execution_count": 11,
   "id": "7ebc2204",
   "metadata": {},
   "outputs": [],
   "source": [
    "def remove_emptyrows(df):\n",
    "    nan_mask = ~df.iloc[:,1].isna() #remove rows that have no value in the second column\n",
    "    return df[nan_mask]\n",
    "\n",
    "def read_sheet(filepath, sheet_name, ordering=False, usecols=\"A,B,D\"):\n",
    "\n",
    "    ## NOTE: ADD AN ARGUMENT TO DECIDE WHETHER OR NOT TO BRACKET THE SHEET\n",
    "    \n",
    "    ## Read Experimental Source Info\n",
    "    df = pd.read_excel(\n",
    "        filepath,\n",
    "        sheet_name=sheet_name,\n",
    "        usecols=usecols\n",
    "    )\n",
    "    \n",
    "    #remove empty rows\n",
    "    df_ = remove_emptyrows(df)\n",
    "    \n",
    "    sheet_dict = dict()\n",
    "\n",
    "    if ordering==True:\n",
    "        df_list = split_df(df_)\n",
    "        for i, df in enumerate(df_list):\n",
    "            sheet_dict[i] = table_to_dict(df)\n",
    "    else:\n",
    "        sheet_dict = table_to_dict(df_)\n",
    "    \n",
    "    return sheet_dict #returns a dataframe\n",
    "\n",
    "def split_df(df_):\n",
    "    \n",
    "    split_idx_mask = df_.iloc[:,0].str.contains('#') #Find the object splits\n",
    "    w = df_[split_idx_mask].index.values\n",
    "    \n",
    "    df_list = []\n",
    "    \n",
    "    for i in range(len(w)-1):\n",
    "        next_df = df_.loc[w[i]+1:w[i+1]-1,:]\n",
    "        df_list.append(next_df)    \n",
    "    \n",
    "    return df_list\n",
    "\n",
    "def table_to_dict(df_):\n",
    "    \n",
    "    json_mask = df_.META==True\n",
    "    step_dict = dict(df_[~json_mask].iloc[:,:2].values)\n",
    "    step_dict['meta'] = dict(df_[json_mask].iloc[:,:2].values)\n",
    "    \n",
    "    return step_dict\n",
    "\n",
    "# f = pd.ExcelFile(fpath)\n"
   ]
  },
  {
   "cell_type": "code",
   "execution_count": 12,
   "id": "542467f3",
   "metadata": {},
   "outputs": [
    {
     "name": "stderr",
     "output_type": "stream",
     "text": [
      "C:\\Users\\aliu319\\Anaconda3\\lib\\site-packages\\openpyxl\\worksheet\\_reader.py:312: UserWarning: Data Validation extension is not supported and will be removed\n",
      "  warn(msg)\n",
      "C:\\Users\\aliu319\\Anaconda3\\lib\\site-packages\\openpyxl\\worksheet\\_reader.py:312: UserWarning: Data Validation extension is not supported and will be removed\n",
      "  warn(msg)\n",
      "C:\\Users\\aliu319\\Anaconda3\\lib\\site-packages\\openpyxl\\worksheet\\_reader.py:312: UserWarning: Data Validation extension is not supported and will be removed\n",
      "  warn(msg)\n",
      "C:\\Users\\aliu319\\Anaconda3\\lib\\site-packages\\openpyxl\\worksheet\\_reader.py:312: UserWarning: Data Validation extension is not supported and will be removed\n",
      "  warn(msg)\n",
      "C:\\Users\\aliu319\\Anaconda3\\lib\\site-packages\\openpyxl\\worksheet\\_reader.py:312: UserWarning: Data Validation extension is not supported and will be removed\n",
      "  warn(msg)\n",
      "C:\\Users\\aliu319\\Anaconda3\\lib\\site-packages\\openpyxl\\worksheet\\_reader.py:312: UserWarning: Data Validation extension is not supported and will be removed\n",
      "  warn(msg)\n",
      "C:\\Users\\aliu319\\Anaconda3\\lib\\site-packages\\openpyxl\\worksheet\\_reader.py:312: UserWarning: Data Validation extension is not supported and will be removed\n",
      "  warn(msg)\n"
     ]
    }
   ],
   "source": [
    "fpath = r'db_feed\\new_template_v4.xlsx'\n",
    "exp_info = read_sheet(fpath, 'Data Origin')\n",
    "solution_makeup = read_sheet(fpath, 'Solution Makeup')\n",
    "solution_processing = read_sheet(fpath, 'Solution Processing', ordering=True)\n",
    "device_fab = read_sheet(fpath, 'Device Fabrication')\n",
    "substrate_pretreat = read_sheet(fpath, 'Substrate Pretreat', ordering=True)\n",
    "coating_process = read_sheet(fpath, 'Coating Process')\n",
    "post_process = read_sheet(fpath, 'Post-Processing', ordering=True)"
   ]
  },
  {
   "cell_type": "code",
   "execution_count": null,
   "id": "98212874",
   "metadata": {},
   "outputs": [],
   "source": []
  },
  {
   "cell_type": "code",
   "execution_count": 13,
   "id": "462ed077",
   "metadata": {},
   "outputs": [
    {
     "data": {
      "text/plain": [
       "{'Citation Type': 'literature',\n",
       " 'DOI': '10.1038/srep24476 ',\n",
       " 'meta': {'first_name': 'Rahul',\n",
       "  'last_name': 'Venkatesh',\n",
       "  'email': 'rvenkatesh6@gatech.edu'}}"
      ]
     },
     "execution_count": 13,
     "metadata": {},
     "output_type": "execute_result"
    }
   ],
   "source": [
    "exp_info"
   ]
  },
  {
   "cell_type": "code",
   "execution_count": 183,
   "id": "58328552",
   "metadata": {},
   "outputs": [
    {
     "data": {
      "text/plain": [
       "{'Solvent 1 - Chemical name': '1,2-dichlorobenzene',\n",
       " 'Solvent 1 - volume %': 100,\n",
       " 'Polymer 1 - Name': 'DPP-DTT',\n",
       " 'Polymer 1 - IUPAC Name': 'Poly[2,5-(2-octyldodecyl)-3,6-diketopyrrolopyrrole-alt-5,5-(2,5-di(thien-2-yl)thieno [3,2-b]thiophene)]',\n",
       " 'Polymer 1 - wt% in solution': 80,\n",
       " 'Polymer 1 - Molecular Weight (Mn)': 55,\n",
       " 'Polymer 1 - Molecular Weight (Mw)': 199,\n",
       " 'Polymer 1 - Polydispersity Index (PDI)': 3.62,\n",
       " 'Polymer 2 - Name': 'PS',\n",
       " 'Polymer 2 - IUPAC Name': 'polystyrene',\n",
       " 'Polymer 2 - wt% in solution': 20,\n",
       " 'Polymer 2 - Molecular Weight (Mn)': 2.18,\n",
       " 'Polymer 2 - Molecular Weight (Mw)': 2.2,\n",
       " 'Polymer 2 - Polydispersity Index (PDI)': 1.01,\n",
       " 'Total Polymer Concentration': 4,\n",
       " 'meta': {'Polymer 1 - supplier': 'Ossila'}}"
      ]
     },
     "execution_count": 183,
     "metadata": {},
     "output_type": "execute_result"
    }
   ],
   "source": [
    "solution_makeup"
   ]
  },
  {
   "cell_type": "code",
   "execution_count": 184,
   "id": "c8166b64",
   "metadata": {},
   "outputs": [
    {
     "data": {
      "text/plain": [
       "{0: {'treatment_type': 'mixing',\n",
       "  'process_step': 1,\n",
       "  'meta': {'mixing speed': 250, 'temperature': 60, 'time': 1}}}"
      ]
     },
     "execution_count": 184,
     "metadata": {},
     "output_type": "execute_result"
    }
   ],
   "source": [
    "solution_processing"
   ]
  },
  {
   "cell_type": "code",
   "execution_count": 185,
   "id": "28ebd35a",
   "metadata": {},
   "outputs": [
    {
     "data": {
      "text/plain": [
       "{'electrode_configuration': 'BG-TC',\n",
       " 'channel_length': 80,\n",
       " 'channel_width': 1500,\n",
       " 'adhesion_layer': 'Chromium',\n",
       " 'electrode_material': 'Gold',\n",
       " 'gate_material': 'N-Doped Si',\n",
       " 'Dielectric 1 - Material': 'SiO2',\n",
       " 'Dielectric 1 - Thickness': 350,\n",
       " 'meta': {'Dielectric 1 - Capacitance': 0.172}}"
      ]
     },
     "execution_count": 185,
     "metadata": {},
     "output_type": "execute_result"
    }
   ],
   "source": [
    "device_fab"
   ]
  },
  {
   "cell_type": "code",
   "execution_count": 15,
   "id": "74036167",
   "metadata": {},
   "outputs": [
    {
     "data": {
      "text/plain": [
       "{'treatment_type': 'chemical_treat',\n",
       " 'process_step': 1,\n",
       " 'meta': {'environment': 'Ambient',\n",
       "  'chemical name': 'methanol',\n",
       "  'temperature': 25,\n",
       "  'exposure_time': 0.25}}"
      ]
     },
     "execution_count": 15,
     "metadata": {},
     "output_type": "execute_result"
    }
   ],
   "source": [
    "substrate_pretreat[0]"
   ]
  },
  {
   "cell_type": "code",
   "execution_count": 187,
   "id": "961e9c10",
   "metadata": {},
   "outputs": [
    {
     "data": {
      "text/plain": [
       "{'deposition_type': 'spin',\n",
       " 'meta': {'coating_environment': 'Ambient',\n",
       "  'spin_rate': 1500,\n",
       "  'spin_time': 60}}"
      ]
     },
     "execution_count": 187,
     "metadata": {},
     "output_type": "execute_result"
    }
   ],
   "source": [
    "coating_process"
   ]
  },
  {
   "cell_type": "code",
   "execution_count": 180,
   "id": "efc74d5e",
   "metadata": {},
   "outputs": [
    {
     "data": {
      "text/plain": [
       "{0: {'treatment_type': 'annealing', 'meta': {}}}"
      ]
     },
     "execution_count": 180,
     "metadata": {},
     "output_type": "execute_result"
    }
   ],
   "source": [
    "post_process"
   ]
  },
  {
   "cell_type": "code",
   "execution_count": null,
   "id": "388054d4",
   "metadata": {},
   "outputs": [],
   "source": []
  },
  {
   "cell_type": "code",
   "execution_count": null,
   "id": "efb5c378",
   "metadata": {},
   "outputs": [],
   "source": []
  },
  {
   "cell_type": "code",
   "execution_count": null,
   "id": "0600b184",
   "metadata": {},
   "outputs": [],
   "source": []
  },
  {
   "cell_type": "code",
   "execution_count": null,
   "id": "fc71f362",
   "metadata": {},
   "outputs": [],
   "source": []
  }
 ],
 "metadata": {
  "kernelspec": {
   "display_name": "Python 3 (ipykernel)",
   "language": "python",
   "name": "python3"
  },
  "language_info": {
   "codemirror_mode": {
    "name": "ipython",
    "version": 3
   },
   "file_extension": ".py",
   "mimetype": "text/x-python",
   "name": "python",
   "nbconvert_exporter": "python",
   "pygments_lexer": "ipython3",
   "version": "3.9.12"
  }
 },
 "nbformat": 4,
 "nbformat_minor": 5
}
