{
 "cells": [
  {
   "cell_type": "code",
   "execution_count": 2,
   "metadata": {},
   "outputs": [],
   "source": [
    "import pandas as pd\n",
    "import numpy as np"
   ]
  },
  {
   "cell_type": "code",
   "execution_count": 3,
   "metadata": {},
   "outputs": [],
   "source": [
    "def remove_emptyrows(df):\n",
    "    nan_mask = ~df.iloc[:,1].isna() #remove rows that have no value in the second column\n",
    "    return df[nan_mask]\n",
    "\n",
    "def read_sheet(filepath, sheet_name, ordering=False, usecols=\"A,B,D\"):\n",
    "\n",
    "    ## NOTE: ADD AN ARGUMENT TO DECIDE WHETHER OR NOT TO BRACKET THE SHEET\n",
    "    \n",
    "    ## Read Experimental Source Info\n",
    "    df = pd.read_excel(\n",
    "        filepath,\n",
    "        sheet_name=sheet_name,\n",
    "        usecols=usecols\n",
    "    )\n",
    "    \n",
    "    #remove empty rows\n",
    "    df_ = remove_emptyrows(df)\n",
    "    \n",
    "    sheet_dict = dict()\n",
    "\n",
    "    if ordering==True:\n",
    "        df_list = split_df(df_)\n",
    "        for i, df in enumerate(df_list):\n",
    "            sheet_dict[i] = table_to_dict(df)\n",
    "    else:\n",
    "        sheet_dict = table_to_dict(df_)\n",
    "    \n",
    "    return sheet_dict #returns a dataframe\n",
    "\n",
    "def split_df(df_):\n",
    "    \n",
    "    split_idx_mask = df_.iloc[:,0].str.contains('#') #Find the object splits\n",
    "    w = df_[split_idx_mask].index.values\n",
    "    \n",
    "    df_list = []\n",
    "    \n",
    "    for i in range(len(w)-1):\n",
    "        next_df = df_.loc[w[i]+1:w[i+1]-1,:]\n",
    "        df_list.append(next_df)    \n",
    "    \n",
    "    return df_list\n",
    "\n",
    "def table_to_dict(df_):\n",
    "    \n",
    "    json_mask = df_.META==True\n",
    "    step_dict = dict(df_[~json_mask].iloc[:,:2].values)\n",
    "    step_dict['meta'] = dict(df_[json_mask].iloc[:,:2].values)\n",
    "    \n",
    "    return step_dict\n",
    "\n",
    "# f = pd.ExcelFile(fpath)\n"
   ]
  },
  {
   "cell_type": "code",
   "execution_count": 4,
   "metadata": {},
   "outputs": [],
   "source": [
    "fpath = r'db_feed\\new_template_v4.xlsx'\n",
    "exp_info = read_sheet(fpath, 'Data Origin')\n",
    "solution_makeup = read_sheet(fpath, 'Solution Makeup')\n",
    "solution_processing = read_sheet(fpath, 'Solution Processing', ordering=True)\n",
    "device_fab = read_sheet(fpath, 'Device Fabrication')\n",
    "substrate_pretreat = read_sheet(fpath, 'Substrate Pretreat', ordering=True)\n",
    "coating_process = read_sheet(fpath, 'Coating Process')\n",
    "post_process = read_sheet(fpath, 'Post-Processing', ordering=True)"
   ]
  },
  {
   "cell_type": "code",
   "execution_count": 182,
   "metadata": {},
   "outputs": [
    {
     "data": {
      "text/plain": [
       "{'YOUR NAME (Data Contributor) #': 'Fill info below:',\n",
       " 'Citation Type': 'literature',\n",
       " 'DOI': '10.1038/srep24476 ',\n",
       " 'meta': {'first_name': 'Rahul',\n",
       "  'last_name': 'Venkatesh',\n",
       "  'email': 'rvenkatesh6@gatech.edu'}}"
      ]
     },
     "execution_count": 182,
     "metadata": {},
     "output_type": "execute_result"
    }
   ],
   "source": [
    "exp_info"
   ]
  },
  {
   "cell_type": "code",
   "execution_count": 183,
   "metadata": {},
   "outputs": [
    {
     "data": {
      "text/plain": [
       "{'Solvent 1 - Chemical name': '1,2-dichlorobenzene',\n",
       " 'Solvent 1 - volume %': 100,\n",
       " 'Polymer 1 - Name': 'DPP-DTT',\n",
       " 'Polymer 1 - IUPAC Name': 'Poly[2,5-(2-octyldodecyl)-3,6-diketopyrrolopyrrole-alt-5,5-(2,5-di(thien-2-yl)thieno [3,2-b]thiophene)]',\n",
       " 'Polymer 1 - wt% in solution': 80,\n",
       " 'Polymer 1 - Molecular Weight (Mn)': 55,\n",
       " 'Polymer 1 - Molecular Weight (Mw)': 199,\n",
       " 'Polymer 1 - Polydispersity Index (PDI)': 3.62,\n",
       " 'Polymer 2 - Name': 'PS',\n",
       " 'Polymer 2 - IUPAC Name': 'polystyrene',\n",
       " 'Polymer 2 - wt% in solution': 20,\n",
       " 'Polymer 2 - Molecular Weight (Mn)': 2.18,\n",
       " 'Polymer 2 - Molecular Weight (Mw)': 2.2,\n",
       " 'Polymer 2 - Polydispersity Index (PDI)': 1.01,\n",
       " 'Total Polymer Concentration': 4,\n",
       " 'meta': {'Polymer 1 - supplier': 'Ossila'}}"
      ]
     },
     "execution_count": 183,
     "metadata": {},
     "output_type": "execute_result"
    }
   ],
   "source": [
    "solution_makeup"
   ]
  },
  {
   "cell_type": "code",
   "execution_count": 184,
   "metadata": {},
   "outputs": [
    {
     "data": {
      "text/plain": [
       "{0: {'treatment_type': 'mixing',\n",
       "  'process_step': 1,\n",
       "  'meta': {'mixing speed': 250, 'temperature': 60, 'time': 1}}}"
      ]
     },
     "execution_count": 184,
     "metadata": {},
     "output_type": "execute_result"
    }
   ],
   "source": [
    "solution_processing"
   ]
  },
  {
   "cell_type": "code",
   "execution_count": 1,
   "metadata": {},
   "outputs": [
    {
     "ename": "NameError",
     "evalue": "name 'device_fab' is not defined",
     "output_type": "error",
     "traceback": [
      "\u001b[1;31m---------------------------------------------------------------------------\u001b[0m",
      "\u001b[1;31mNameError\u001b[0m                                 Traceback (most recent call last)",
      "\u001b[1;32m<ipython-input-1-36f79c2a2ad6>\u001b[0m in \u001b[0;36m<module>\u001b[1;34m\u001b[0m\n\u001b[1;32m----> 1\u001b[1;33m \u001b[0mdevice_fab\u001b[0m\u001b[1;33m\u001b[0m\u001b[1;33m\u001b[0m\u001b[0m\n\u001b[0m",
      "\u001b[1;31mNameError\u001b[0m: name 'device_fab' is not defined"
     ]
    }
   ],
   "source": [
    "device_fab"
   ]
  },
  {
   "cell_type": "code",
   "execution_count": 7,
   "metadata": {},
   "outputs": [
    {
     "name": "stdout",
     "output_type": "stream",
     "text": [
      "{0: {'treatment_type': 'chemical_treat',\n",
      "     'process_step': 1,\n",
      "     'meta': {'environment': 'Ambient',\n",
      "              'chemical name': 'methanol',\n",
      "              'temperature': 25,\n",
      "              'exposure_time': 0.25}},\n",
      " 1: {'treatment_type': 'uv_ozone',\n",
      "     'process_step': 2,\n",
      "     'meta': {'exposure time': 30}},\n",
      " 2: {'treatment_type': 'sam',\n",
      "     'process_step': 3,\n",
      "     'meta': {'environment': 'Nitrogen',\n",
      "              'SAM name': 'octadecyltrichlorosilane (OTS-18)',\n",
      "              'temperature': 25,\n",
      "              'exposure_time': 8}}}\n"
     ]
    }
   ],
   "source": [
    "import pprint as pp\n",
    "\n",
    "pp.pp(substrate_pretreat)"
   ]
  },
  {
   "cell_type": "code",
   "execution_count": 187,
   "metadata": {},
   "outputs": [
    {
     "data": {
      "text/plain": [
       "{'deposition_type': 'spin',\n",
       " 'meta': {'coating_environment': 'Ambient',\n",
       "  'spin_rate': 1500,\n",
       "  'spin_time': 60}}"
      ]
     },
     "execution_count": 187,
     "metadata": {},
     "output_type": "execute_result"
    }
   ],
   "source": [
    "coating_process"
   ]
  },
  {
   "cell_type": "code",
   "execution_count": 180,
   "metadata": {},
   "outputs": [
    {
     "data": {
      "text/plain": [
       "{0: {'treatment_type': 'annealing', 'meta': {}}}"
      ]
     },
     "execution_count": 180,
     "metadata": {},
     "output_type": "execute_result"
    }
   ],
   "source": [
    "post_process"
   ]
  },
  {
   "cell_type": "code",
   "execution_count": null,
   "metadata": {},
   "outputs": [],
   "source": []
  },
  {
   "cell_type": "code",
   "execution_count": null,
   "metadata": {},
   "outputs": [],
   "source": []
  },
  {
   "cell_type": "code",
   "execution_count": null,
   "metadata": {},
   "outputs": [],
   "source": []
  },
  {
   "cell_type": "code",
   "execution_count": null,
   "metadata": {},
   "outputs": [],
   "source": []
  }
 ],
 "metadata": {
  "kernelspec": {
   "display_name": "Python 3",
   "language": "python",
   "name": "python3"
  },
  "language_info": {
   "codemirror_mode": {
    "name": "ipython",
    "version": 3
   },
   "file_extension": ".py",
   "mimetype": "text/x-python",
   "name": "python",
   "nbconvert_exporter": "python",
   "pygments_lexer": "ipython3",
   "version": "3.8.3"
  }
 },
 "nbformat": 4,
 "nbformat_minor": 5
}
