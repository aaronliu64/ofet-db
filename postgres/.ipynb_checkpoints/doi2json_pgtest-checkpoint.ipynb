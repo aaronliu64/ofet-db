{
 "cells": [
  {
   "cell_type": "code",
   "execution_count": 1,
   "metadata": {},
   "outputs": [],
   "source": [
    "import requests\n",
    "import json\n",
    "import pandas as pd\n",
    "import bibtexparser\n",
    "import pprint\n",
    "\n",
    "\n",
    "def doi2dict(doi):\n",
    "    #create url\n",
    "    url = \"http://dx.doi.org/\" + doi\n",
    "    \n",
    "    #create dictionary of http bibtex headers that requests will retrieve from the url\n",
    "    headers = {\"accept\": \"application/x-bibtex\"}\n",
    "    \n",
    "    #reqeusts information specified by bibtex from url\n",
    "    r = requests.get(url, headers = headers).text    \n",
    "    \n",
    "    #parse the returned bibtex text to a dictionary\n",
    "    #NOTE: USE bibtexparser.customization to split strings into list, etc. (https://bibtexparser.readthedocs.io/en/master/bibtexparser.html?highlight=bparser#module-bibtexparser.bparser)\n",
    "    bibdata = bibtexparser.bparser.BibTexParser().parse(r)\n",
    "    \n",
    "    # # print doi metadata\n",
    "    # pp = pprint.PrettyPrinter(indent=4)\n",
    "    # pp.pprint(bibdata.entries[0])\n",
    "    \n",
    "    #return dict of metadata\n",
    "    return bibdata.entries[0]\n",
    "\n",
    "doi = '10.1021/acsami.1c20994'\n",
    "doi2 = '10.1021/acscentsci.9b00476'\n",
    "\n",
    "doidict = doi2dict(doi)\n",
    "\n",
    "#create json file with corresponding doi id, dump info into file.\n",
    "with open(doidict['ID'] + '.json', 'w+') as outfile:\n",
    "    json.dump(doidict, outfile)"
   ]
  },
  {
   "cell_type": "code",
   "execution_count": 2,
   "metadata": {},
   "outputs": [
    {
     "data": {
      "text/plain": [
       "{'journal': '{ACS} Applied Materials {\\\\&}amp$\\\\mathsemicolon$ Interfaces',\n",
       " 'title': 'The Solution is the Solution: Data-Driven Elucidation of Solution-to-Device Feature Transfer for $\\\\uppi$-Conjugated Polymer Semiconductors',\n",
       " 'author': 'Connor P. Callaway and Aaron L. Liu and Rahul Venkatesh and Yulong Zheng and Myeongyeon Lee and J. Carson Meredith and Martha Grover and Chad Risko and Elsa Reichmanis',\n",
       " 'pages': '3613--3620',\n",
       " 'number': '3',\n",
       " 'volume': '14',\n",
       " 'publisher': 'American Chemical Society ({ACS})',\n",
       " 'month': 'jan',\n",
       " 'year': '2022',\n",
       " 'url': 'https://doi.org/10.1021%2Facsami.1c20994',\n",
       " 'doi': '10.1021/acsami.1c20994',\n",
       " 'ENTRYTYPE': 'article',\n",
       " 'ID': 'Callaway_2022'}"
      ]
     },
     "execution_count": 2,
     "metadata": {},
     "output_type": "execute_result"
    }
   ],
   "source": [
    "doidict"
   ]
  },
  {
   "cell_type": "code",
   "execution_count": null,
   "metadata": {},
   "outputs": [],
   "source": []
  }
 ],
 "metadata": {
  "kernelspec": {
   "display_name": "Python 3",
   "language": "python",
   "name": "python3"
  },
  "language_info": {
   "codemirror_mode": {
    "name": "ipython",
    "version": 3
   },
   "file_extension": ".py",
   "mimetype": "text/x-python",
   "name": "python",
   "nbconvert_exporter": "python",
   "pygments_lexer": "ipython3",
   "version": "3.8.3"
  }
 },
 "nbformat": 4,
 "nbformat_minor": 5
}
