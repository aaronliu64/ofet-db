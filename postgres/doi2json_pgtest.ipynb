{
 "cells": [
  {
   "cell_type": "code",
   "execution_count": 64,
   "metadata": {},
   "outputs": [],
   "source": [
    "import requests\n",
    "import json\n",
    "import pandas as pd\n",
    "import bibtexparser\n",
    "import pprint\n",
    "\n",
    "# Postgres python\n",
    "import psycopg2\n",
    "from psycopg2.extras import Json\n",
    "\n",
    "def doi2dict(doi):\n",
    "    #create url\n",
    "    url = \"http://dx.doi.org/\" + doi\n",
    "    \n",
    "    #create dictionary of http bibtex headers that requests will retrieve from the url\n",
    "    headers = {\"accept\": \"application/x-bibtex\"}\n",
    "    \n",
    "    #reqeusts information specified by bibtex from url\n",
    "    r = requests.get(url, headers = headers).text    \n",
    "    \n",
    "    #parse the returned bibtex text to a dictionary\n",
    "    #NOTE: USE bibtexparser.customization to split strings into list, etc. (https://bibtexparser.readthedocs.io/en/master/bibtexparser.html?highlight=bparser#module-bibtexparser.bparser)\n",
    "    bibdata = bibtexparser.bparser.BibTexParser().parse(r)\n",
    "    \n",
    "    # # print doi metadata\n",
    "    # pp = pprint.PrettyPrinter(indent=4)\n",
    "    # pp.pprint(bibdata.entries[0])\n",
    "    \n",
    "    #return dict of metadata\n",
    "    return bibdata.entries[0]\n",
    "\n",
    "doi = '10.1021/acsami.1c20994'\n",
    "doi2 = '10.1021/acscentsci.9b00476'\n",
    "\n",
    "doidict = doi2dict(doi)\n",
    "doidict2 = doi2dict(doi2)\n",
    "\n",
    "#create json file with corresponding doi id, dump info into file.\n",
    "with open(doidict['ID'] + '.json', 'w+') as outfile:\n",
    "    json.dump(doidict, outfile)"
   ]
  },
  {
   "cell_type": "code",
   "execution_count": 66,
   "metadata": {},
   "outputs": [
    {
     "data": {
      "text/plain": [
       "[{'journal': '{ACS} Applied Materials {\\\\&}amp$\\\\mathsemicolon$ Interfaces',\n",
       "  'title': 'The Solution is the Solution: Data-Driven Elucidation of Solution-to-Device Feature Transfer for $\\\\uppi$-Conjugated Polymer Semiconductors',\n",
       "  'author': 'Connor P. Callaway and Aaron L. Liu and Rahul Venkatesh and Yulong Zheng and Myeongyeon Lee and J. Carson Meredith and Martha Grover and Chad Risko and Elsa Reichmanis',\n",
       "  'pages': '3613--3620',\n",
       "  'number': '3',\n",
       "  'volume': '14',\n",
       "  'publisher': 'American Chemical Society ({ACS})',\n",
       "  'month': 'jan',\n",
       "  'year': '2022',\n",
       "  'url': 'https://doi.org/10.1021%2Facsami.1c20994',\n",
       "  'doi': '10.1021/acsami.1c20994',\n",
       "  'ENTRYTYPE': 'article',\n",
       "  'ID': 'Callaway_2022'},\n",
       " {'journal': '{ACS} Central Science',\n",
       "  'title': '{BigSMILES}: A Structurally-Based Line Notation for Describing Macromolecules',\n",
       "  'author': 'Tzyy-Shyang Lin and Connor W. Coley and Hidenobu Mochigase and Haley K. Beech and Wencong Wang and Zi Wang and Eliot Woods and Stephen L. Craig and Jeremiah A. Johnson and Julia A. Kalow and Klavs F. Jensen and Bradley D. Olsen',\n",
       "  'pages': '1523--1531',\n",
       "  'number': '9',\n",
       "  'volume': '5',\n",
       "  'publisher': 'American Chemical Society ({ACS})',\n",
       "  'month': 'sep',\n",
       "  'year': '2019',\n",
       "  'url': 'https://doi.org/10.1021%2Facscentsci.9b00476',\n",
       "  'doi': '10.1021/acscentsci.9b00476',\n",
       "  'ENTRYTYPE': 'article',\n",
       "  'ID': 'Lin_2019'}]"
      ]
     },
     "execution_count": 66,
     "metadata": {},
     "output_type": "execute_result"
    }
   ],
   "source": [
    "json_list = [doidict, doidict2]\n",
    "json_list"
   ]
  },
  {
   "cell_type": "code",
   "execution_count": 72,
   "metadata": {},
   "outputs": [
    {
     "name": "stdout",
     "output_type": "stream",
     "text": [
      "Connection successful\n",
      "Operation successful\n"
     ]
    }
   ],
   "source": [
    "conn = psycopg2.connect(\n",
    "   database=\"testdb\", \n",
    "   user = \"postgres\", \n",
    "   password = \"password\", \n",
    "   host = \"127.0.0.1\",\n",
    "   # host = \"130.207.79.186\",\n",
    "   # host = \"192.168.1.21\",\n",
    "   port = \"5432\")\n",
    "\n",
    "print(\"Connection successful\")\n",
    "\n",
    "cur = conn.cursor()\n",
    "cur.execute(\n",
    "    '''\n",
    "    CREATE TABLE IF NOT EXISTS LITERATURE (\n",
    "        id SERIAL PRIMARY KEY,\n",
    "        doi JSONB UNIQUE\n",
    "    );\n",
    "      '''\n",
    ")\n",
    "for doc in json_list:\n",
    "    query = \"\"\"\n",
    "    INSERT INTO LITERATURE(doi) \n",
    "    VALUES(%s)\n",
    "    ON CONFLICT (doi)\n",
    "    DO NOTHING;\n",
    "    \"\"\" % Json(doc) #use the psycopg2.Json object to convert to a readable json\n",
    "    try:\n",
    "        cur.execute(query)\n",
    "        conn.commit()\n",
    "    except (Exception, psycopg2.DatabaseError) as error:\n",
    "        print(\"Error: %s\" % error)\n",
    "        conn.rollback()\n",
    "        cur.close()\n",
    "\n",
    "# cur.execute(\"SELECT * from LITERATURE\")\n",
    "# rows = cur.fetchall()\n",
    "# pp = pprint.PrettyPrinter(indent=4)\n",
    "# pp.pprint(rows)\n",
    "\n",
    "conn.commit()\n",
    "print(\"Operation successful\")\n",
    "conn.close()"
   ]
  }
 ],
 "metadata": {
  "kernelspec": {
   "display_name": "base",
   "language": "python",
   "name": "python3"
  },
  "language_info": {
   "codemirror_mode": {
    "name": "ipython",
    "version": 3
   },
   "file_extension": ".py",
   "mimetype": "text/x-python",
   "name": "python",
   "nbconvert_exporter": "python",
   "pygments_lexer": "ipython3",
   "version": "3.8.3 (default, Jul  2 2020, 17:30:36) [MSC v.1916 64 bit (AMD64)]"
  },
  "vscode": {
   "interpreter": {
    "hash": "11a3eb75390a4188f80072b0c2217ecd9012898c03c4b16f3a26d9012a556a73"
   }
  }
 },
 "nbformat": 4,
 "nbformat_minor": 5
}
