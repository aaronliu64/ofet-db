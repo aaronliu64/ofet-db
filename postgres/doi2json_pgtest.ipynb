{
 "cells": [
  {
   "cell_type": "code",
   "execution_count": 64,
   "metadata": {},
   "outputs": [],
   "source": [
    "import requests\n",
    "import json\n",
    "import pandas as pd\n",
    "import bibtexparser\n",
    "import pprint\n",
    "\n",
    "# Postgres python\n",
    "import psycopg2\n",
    "from psycopg2.extras import Json\n",
    "\n",
    "def doi2dict(doi):\n",
    "    #create url\n",
    "    url = \"http://dx.doi.org/\" + doi\n",
    "    \n",
    "    #create dictionary of http bibtex headers that requests will retrieve from the url\n",
    "    headers = {\"accept\": \"application/x-bibtex\"}\n",
    "    \n",
    "    #reqeusts information specified by bibtex from url\n",
    "    r = requests.get(url, headers = headers).text    \n",
    "    \n",
    "    #parse the returned bibtex text to a dictionary\n",
    "    #NOTE: USE bibtexparser.customization to split strings into list, etc. (https://bibtexparser.readthedocs.io/en/master/bibtexparser.html?highlight=bparser#module-bibtexparser.bparser)\n",
    "    bibdata = bibtexparser.bparser.BibTexParser().parse(r)\n",
    "    \n",
    "    # # print doi metadata\n",
    "    # pp = pprint.PrettyPrinter(indent=4)\n",
    "    # pp.pprint(bibdata.entries[0])\n",
    "    \n",
    "    #return dict of metadata\n",
    "    return bibdata.entries[0]\n",
    "\n",
    "doi = '10.1021/acsami.1c20994'\n",
    "doi2 = '10.1021/acscentsci.9b00476'\n",
    "\n",
    "doidict = doi2dict(doi)\n",
    "doidict2 = doi2dict(doi2)\n",
    "\n",
    "#create json file with corresponding doi id, dump info into file.\n",
    "with open(doidict['ID'] + '.json', 'w+') as outfile:\n",
    "    json.dump(doidict, outfile)"
   ]
  },
  {
   "cell_type": "code",
   "execution_count": 72,
   "metadata": {},
   "outputs": [
    {
     "name": "stdout",
     "output_type": "stream",
     "text": [
      "Connection successful\n",
      "Operation successful\n"
     ]
    }
   ],
   "source": [
    "conn = psycopg2.connect(\n",
    "   database=\"testdb\", \n",
    "   user = \"postgres\", \n",
    "   password = \"password\", \n",
    "   host = \"127.0.0.1\",\n",
    "   # host = \"130.207.79.186\",\n",
    "   # host = \"192.168.1.21\",\n",
    "   port = \"5432\")\n",
    "\n",
    "print(\"Connection successful\")\n",
    "\n",
    "cur = conn.cursor()\n",
    "cur.execute(\n",
    "    '''\n",
    "    CREATE TABLE IF NOT EXISTS LITERATURE (\n",
    "        id SERIAL PRIMARY KEY,\n",
    "        doi JSONB UNIQUE\n",
    "    );\n",
    "      '''\n",
    ")\n",
    "for doc in json_list:\n",
    "    query = \"\"\"\n",
    "    INSERT INTO LITERATURE(doi) \n",
    "    VALUES(%s)\n",
    "    ON CONFLICT (doi)\n",
    "    DO NOTHING;\n",
    "    \"\"\" % Json(doc) #use the psycopg2.Json object to convert to a readable json\n",
    "    try:\n",
    "        cur.execute(query)\n",
    "        conn.commit()\n",
    "    except (Exception, psycopg2.DatabaseError) as error:\n",
    "        print(\"Error: %s\" % error)\n",
    "        conn.rollback()\n",
    "        cur.close()\n",
    "\n",
    "# cur.execute(\"SELECT * from LITERATURE\")\n",
    "# rows = cur.fetchall()\n",
    "# pp = pprint.PrettyPrinter(indent=4)\n",
    "# pp.pprint(rows)\n",
    "\n",
    "conn.commit()\n",
    "print(\"Operation successful\")\n",
    "conn.close()"
   ]
  }
 ],
 "metadata": {
  "kernelspec": {
   "display_name": "Python 3",
   "language": "python",
   "name": "python3"
  },
  "language_info": {
   "codemirror_mode": {
    "name": "ipython",
    "version": 3
   },
   "file_extension": ".py",
   "mimetype": "text/x-python",
   "name": "python",
   "nbconvert_exporter": "python",
   "pygments_lexer": "ipython3",
   "version": "3.8.3"
  },
  "vscode": {
   "interpreter": {
    "hash": "11a3eb75390a4188f80072b0c2217ecd9012898c03c4b16f3a26d9012a556a73"
   }
  }
 },
 "nbformat": 4,
 "nbformat_minor": 5
}
