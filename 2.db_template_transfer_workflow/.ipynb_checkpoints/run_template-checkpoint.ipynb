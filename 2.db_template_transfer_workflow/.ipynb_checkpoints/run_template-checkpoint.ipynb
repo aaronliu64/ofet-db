{
 "cells": [
  {
   "cell_type": "code",
   "execution_count": 3,
   "metadata": {},
   "outputs": [
    {
     "name": "stdout",
     "output_type": "stream",
     "text": [
      "Solution makeup information saved successfully with id: 1\n",
      "Solution treatment saved successfully with id : 1\n",
      "Device fabrication information saved successfully with id: 1\n",
      "Substrate pretreatment saved successfully with id : 1\n",
      "Film deposition information saved successfully with id: 1\n",
      "Post Process treatment saved successfully with id: 1\n",
      "Device measurement information saved successfully with id: 1\n",
      "Other measurement information saved successfully with id: 2\n",
      "Other measurement information saved successfully with id: 3\n",
      "Record stored successfully\n"
     ]
    }
   ],
   "source": [
    "import warnings\n",
    "\n",
    "# #define file parh\n",
    "# fpath = r'..\\db_feed\\v6_example.xlsx'  # Add path for template file\n",
    "# #fpath = r'..\\db_feed\\v6_example_blend.xlsx'  # Add path for template file\n",
    "# #fpath = r'..\\db_feed\\v6_example_blend_2.xlsx'  # Add path for template file\n",
    "# #fpath = r'..\\db_feed\\v6_example_4.xlsx'  # Add path for template file\n",
    "\n",
    "# #dictionary to connect to postgres database\n",
    "# param_dict = {\n",
    "#     \"host\": \"127.0.0.1\",\n",
    "#     \"database\": \"ofetdb_testenv_RV\",\n",
    "#     \"user\": \"postgres\",\n",
    "#     \"password\": \"Rahul2411!\",\n",
    "#     \"port\": \"5432\",\n",
    "# }\n",
    "\n",
    "# warning = warnings.filterwarnings(\"ignore\", category=UserWarning, module=\"openpyxl\")\n",
    "\n",
    "# #run template to import to all tables\n",
    "%run read_template_v12_jb_consolidated.ipynb\n"
   ]
  }
 ],
 "metadata": {
  "kernelspec": {
   "display_name": "Python 3",
   "language": "python",
   "name": "python3"
  },
  "language_info": {
   "codemirror_mode": {
    "name": "ipython",
    "version": 3
   },
   "file_extension": ".py",
   "mimetype": "text/x-python",
   "name": "python",
   "nbconvert_exporter": "python",
   "pygments_lexer": "ipython3",
   "version": "3.7.3"
  }
 },
 "nbformat": 4,
 "nbformat_minor": 5
}
