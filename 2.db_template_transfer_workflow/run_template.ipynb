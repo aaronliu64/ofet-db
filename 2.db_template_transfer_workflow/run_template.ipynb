{
 "cells": [
  {
   "cell_type": "code",
   "execution_count": 5,
   "metadata": {},
   "outputs": [
    {
     "name": "stdout",
     "output_type": "stream",
     "text": [
      "Solution makeup information saved successfully with id: 1\n",
      "Solution treatment saved successfully with id : 1\n",
      "Device fabrication information saved successfully with id: 1\n",
      "Substrate pretreatment saved successfully with id : 1\n",
      "Film deposition information saved successfully with id: 1\n",
      "Connecting to the PostgreSQL database...\n",
      "Connection successful\n",
      "Operation Successful\n",
      "Connecting to the PostgreSQL database...\n",
      "Connection successful\n",
      "Operation Successful\n",
      "Connecting to the PostgreSQL database...\n",
      "Connection successful\n",
      "Error: there is no unique or exclusion constraint matching the ON CONFLICT specification\n",
      "\n",
      "Connecting to the PostgreSQL database...\n",
      "Connection successful\n",
      "Operation Successful\n",
      "Device measurement information saved successfully with id: 4\n",
      "Connecting to the PostgreSQL database...\n",
      "Connection successful\n",
      "Operation Successful\n",
      "Other measurement information saved successfully with id: 5\n",
      "Connecting to the PostgreSQL database...\n",
      "Connection successful\n",
      "Operation Successful\n",
      "Other measurement information saved successfully with id: 6\n",
      "Record stored successfully\n"
     ]
    }
   ],
   "source": [
    "import warnings\n",
    "\n",
    "#define file parh\n",
    "fpath = r'..\\db_feed\\v6_example.xlsx'  # Add path for template file\n",
    "#fpath = r'..\\db_feed\\v6_example_blend.xlsx'  # Add path for template file\n",
    "#fpath = r'..\\db_feed\\v6_example_blend_2.xlsx'  # Add path for template file\n",
    "#fpath = r'..\\db_feed\\v6_example_4.xlsx'  # Add path for template file\n",
    "\n",
    "#dictionary to connect to postgres database\n",
    "param_dict = {\n",
    "    \"host\": \"127.0.0.1\",\n",
    "    \"database\": \"ofetdb_testenv_RV\",\n",
    "    \"user\": \"postgres\",\n",
    "    \"password\": \"Rahul2411!\",\n",
    "    \"port\": \"5432\",\n",
    "}\n",
    "\n",
    "warning = warnings.filterwarnings(\"ignore\", category=UserWarning, module=\"openpyxl\")\n",
    "\n",
    "#run template to import to all tables\n",
    "%run read_template_v12_jb_cosolidated.ipynb\n"
   ]
  }
 ],
 "metadata": {
  "kernelspec": {
   "display_name": "Python 3",
   "language": "python",
   "name": "python3"
  },
  "language_info": {
   "codemirror_mode": {
    "name": "ipython",
    "version": 3
   },
   "file_extension": ".py",
   "mimetype": "text/x-python",
   "name": "python",
   "nbconvert_exporter": "python",
   "pygments_lexer": "ipython3",
   "version": "3.7.3"
  }
 },
 "nbformat": 4,
 "nbformat_minor": 5
}
