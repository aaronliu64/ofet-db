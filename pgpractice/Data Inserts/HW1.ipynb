{
 "cells": [
  {
   "cell_type": "markdown",
   "metadata": {},
   "source": [
    "### Exercises\n",
    "\n",
    "Here are a few database problems to work on.\n",
    "\n",
    "\n",
    "1. Create tables for a sample database of laboratory reagents (solution, solvent, polymer)\n",
    "2. Perform insert commands from a set of Excel files that contain a starting set of data\n",
    "3. Perform uploads of NEW data on the existing database you just created. Foreign keys should be accurate as new solutions are added. If a solution record already exists, then decide whether it should be updated, or ignored. If the new solution was made with a solvent that was not there before, it should be able to add a new solvent to the SOLVENT table. Same with POLYMER.\n",
    "4. Use SQLAlchemy instead of psycopg2 to perform some of the insert functions"
   ]
  },
  {
   "cell_type": "code",
   "execution_count": null,
   "metadata": {},
   "outputs": [],
   "source": []
  }
 ],
 "metadata": {
  "kernelspec": {
   "display_name": "Python 3",
   "language": "python",
   "name": "python3"
  },
  "language_info": {
   "codemirror_mode": {
    "name": "ipython",
    "version": 3
   },
   "file_extension": ".py",
   "mimetype": "text/x-python",
   "name": "python",
   "nbconvert_exporter": "python",
   "pygments_lexer": "ipython3",
   "version": "3.8.3"
  }
 },
 "nbformat": 4,
 "nbformat_minor": 4
}
