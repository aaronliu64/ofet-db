{
 "cells": [
  {
   "cell_type": "markdown",
   "metadata": {},
   "source": [
    "### JSON Objects in PostgreSQL\n",
    "\n",
    "**Author**: Aaron Liu & Ron Volkovinsky\n",
    "\n",
    "**Date**: 5/10/2023\n",
    "\n",
    "**Objective**: Practice basic insert queries using SQL, and the corresponding programming to automate the process in psycopg2\n",
    "\n",
    "## Setup\n",
    "\n",
    "Some functions in python are already given in the cells below:\n",
    "\n",
    "**DOI JSON retrieval (doi2dict)**\n",
    "(Credit Ron Volkovinsky)"
   ]
  },
  {
   "cell_type": "code",
   "execution_count": 1,
   "metadata": {},
   "outputs": [],
   "source": [
    "import requests\n",
    "import json\n",
    "import pandas as pd\n",
    "import bibtexparser\n",
    "import pprint\n",
    "\n",
    "def doi2dict(doi):\n",
    "    #create url\n",
    "    url = \"http://dx.doi.org/\" + doi\n",
    "    \n",
    "    #create dictionary of http bibtex headers that requests will retrieve from the url\n",
    "    headers = {\"accept\": \"application/x-bibtex\"}\n",
    "    \n",
    "    #reqeusts information specified by bibtex from url\n",
    "    r = requests.get(url, headers = headers).text    \n",
    "\n",
    "    #parse the returned bibtex text to a dictionary\n",
    "    #NOTE: USE bibtexparser.customization to split strings into list, etc. (https://bibtexparser.readthedocs.io/en/master/bibtexparser.html?highlight=bparser#module-bibtexparser.bparser)\n",
    "    bibdata = bibtexparser.bparser.BibTexParser().parse(r)\n",
    "    \n",
    "    #return dict of metadata\n",
    "    return bibdata.entries[0]\n",
    "\n",
    "doi = '10.1021/acsami.1c20994'\n",
    "doi2 = '10.1021/acscentsci.9b00476'\n",
    "\n",
    "doidict = doi2dict(doi2)"
   ]
  },
  {
   "cell_type": "code",
   "execution_count": 2,
   "metadata": {},
   "outputs": [
    {
     "data": {
      "text/plain": [
       "{'journal': '{ACS} Central Science',\n",
       " 'title': '{BigSMILES}: A Structurally-Based Line Notation for Describing Macromolecules',\n",
       " 'author': 'Tzyy-Shyang Lin and Connor W. Coley and Hidenobu Mochigase and Haley K. Beech and Wencong Wang and Zi Wang and Eliot Woods and Stephen L. Craig and Jeremiah A. Johnson and Julia A. Kalow and Klavs F. Jensen and Bradley D. Olsen',\n",
       " 'pages': '1523--1531',\n",
       " 'number': '9',\n",
       " 'volume': '5',\n",
       " 'publisher': 'American Chemical Society ({ACS})',\n",
       " 'month': 'sep',\n",
       " 'year': '2019',\n",
       " 'url': 'https://doi.org/10.1021%2Facscentsci.9b00476',\n",
       " 'doi': '10.1021/acscentsci.9b00476',\n",
       " 'ENTRYTYPE': 'article',\n",
       " 'ID': 'Lin_2019'}"
      ]
     },
     "execution_count": 2,
     "metadata": {},
     "output_type": "execute_result"
    }
   ],
   "source": [
    "doidict"
   ]
  },
  {
   "cell_type": "markdown",
   "metadata": {},
   "source": [
    "**Connection Details**\n",
    "\n",
    "Fill in your connection details here. Note that `127.0.0.1`, `localhost`, and your **local IP address** (found using the `ipconfig` command in your command line) are all synonymous with your local computer as a server. If you are connecting to an external server, you of course need to find the appropriate connection details of that server.\n",
    "\n",
    "I recommend creating your own database as a test environment for interacting with your database. You must do this either through psql or pgAdmin, externally from Python. Call the database whatever you want, like `pg_practice` or `ofetdb_testenv`, etc. Either way, the default username and password are what go into the connection details. The port by default for PostgreSQL is almost always `5432`, unless this was specified differently during your installation of PostgreSQL."
   ]
  },
  {
   "cell_type": "code",
   "execution_count": 3,
   "metadata": {},
   "outputs": [
    {
     "name": "stdout",
     "output_type": "stream",
     "text": [
      "Connecting to the PostgreSQL database...\n",
      "Connection successful\n",
      "Connection Closed\n"
     ]
    }
   ],
   "source": [
    "import psycopg2 as pg\n",
    "import sys\n",
    "\n",
    "conn_kwargs = {\n",
    "    \"host\"      : \"localhost\",\n",
    "    \"database\"  : \"test\", ## FILL IN CONNECTION DETAILS HERE\n",
    "    \"user\"      : \"postgres\",\n",
    "    \"password\"  : \"myL220q1W@\",\n",
    "    \"port\"      : \"5432\",\n",
    "}\n",
    "\n",
    "def connect(**params_dict):\n",
    "    \"\"\" Connect to the PostgreSQL database server \"\"\"\n",
    "    conn = None\n",
    "    try:\n",
    "        # connect to the PostgreSQL server\n",
    "        print('Connecting to the PostgreSQL database...')\n",
    "        conn = pg.connect(**params_dict)\n",
    "    except (Exception, pg.DatabaseError) as error:\n",
    "        print(error)\n",
    "        sys.exit(1) \n",
    "    print(\"Connection successful\")\n",
    "    return conn\n",
    "\n",
    "conn = connect(**conn_kwargs)\n",
    "\n",
    "conn.close()\n",
    "print(\"Connection Closed\")"
   ]
  },
  {
   "cell_type": "code",
   "execution_count": 4,
   "metadata": {},
   "outputs": [],
   "source": [
    "# Postgres python\n",
    "import psycopg2 as pg\n",
    "import numpy as np\n",
    "from psycopg2.extensions import AsIs\n",
    "\n",
    "# import os\n",
    "# import functools\n",
    "# import sys\n",
    "\n",
    "# Adapters necessary for converting python data types to PostgreSQL compatible data types \n",
    "def addapt_numpy_float64(numpy_float64):\n",
    "    return AsIs(numpy_float64)\n",
    "\n",
    "def addapt_numpy_int64(numpy_int64):\n",
    "    return AsIs(numpy_int64)\n",
    "\n",
    "def nan_to_null(f,\n",
    "        _NULL=AsIs('NULL'),\n",
    "        _Float=pg.extensions.Float):\n",
    "    if not np.isnan(f):\n",
    "        return _Float(f)\n",
    "    return _NULL\n",
    "\n",
    "pg.extensions.register_adapter(np.float64, addapt_numpy_float64)\n",
    "pg.extensions.register_adapter(np.int64, addapt_numpy_int64)\n",
    "pg.extensions.register_adapter(float, nan_to_null)\n",
    "\n",
    "def pg_query(sql, tup):\n",
    "    \n",
    "    try:\n",
    "        # Database connection\n",
    "        conn = pg.connect(**conn_kwargs)\n",
    "        cur = conn.cursor()\n",
    "        \n",
    "        # Pass SQL query, using string and placeholders\n",
    "        cur.execute(sql, tup)\n",
    "        \n",
    "#         # Fetch result\n",
    "#         fetched = cur.fetchone()[0]\n",
    "        \n",
    "        # Commit result\n",
    "        conn.commit()\n",
    "        print(\"Operation Successful\")\n",
    "\n",
    "        cur.close()\n",
    "        conn.close()\n",
    "        \n",
    "    except (Exception, pg.DatabaseError) as error:\n",
    "        # If database connection unsuccessful, then close connection \n",
    "        print(\"Error: %s\" % error)\n",
    "        conn.rollback()\n",
    "        cur.close()\n",
    "        conn.close()\n",
    "    \n",
    "    return "
   ]
  },
  {
   "cell_type": "code",
   "execution_count": 29,
   "metadata": {},
   "outputs": [
    {
     "name": "stdout",
     "output_type": "stream",
     "text": [
      "Connecting to the PostgreSQL database...\n",
      "Connection successful\n",
      "Operation successful\n"
     ]
    }
   ],
   "source": [
    "# Create a table that holds journal article information\n",
    "conn = connect(**conn_kwargs)\n",
    "\n",
    "cur = conn.cursor()\n",
    "\n",
    "sql = '''\n",
    "\n",
    "    DROP TABLE IF EXISTS EXPERIMENT_INFO;\n",
    "\n",
    "    CREATE TABLE EXPERIMENT_INFO (\n",
    "        exp_id              SERIAL          PRIMARY KEY,\n",
    "        citation_type       VARCHAR(20),\n",
    "        meta                JSONB,\n",
    "        UNIQUE(citation_type, meta)\n",
    "    );\n",
    "'''\n",
    "\n",
    "cur.execute(sql)\n",
    "conn.commit()\n",
    "\n",
    "print(\"Operation successful\")\n",
    "conn.close()"
   ]
  },
  {
   "cell_type": "code",
   "execution_count": 6,
   "metadata": {},
   "outputs": [
    {
     "data": {
      "text/plain": [
       "{'journal': '{ACS} Central Science',\n",
       " 'title': '{BigSMILES}: A Structurally-Based Line Notation for Describing Macromolecules',\n",
       " 'author': 'Tzyy-Shyang Lin and Connor W. Coley and Hidenobu Mochigase and Haley K. Beech and Wencong Wang and Zi Wang and Eliot Woods and Stephen L. Craig and Jeremiah A. Johnson and Julia A. Kalow and Klavs F. Jensen and Bradley D. Olsen',\n",
       " 'pages': '1523--1531',\n",
       " 'number': '9',\n",
       " 'volume': '5',\n",
       " 'publisher': 'American Chemical Society ({ACS})',\n",
       " 'month': 'sep',\n",
       " 'year': '2019',\n",
       " 'url': 'https://doi.org/10.1021%2Facscentsci.9b00476',\n",
       " 'doi': '10.1021/acscentsci.9b00476',\n",
       " 'ENTRYTYPE': 'article',\n",
       " 'ID': 'Lin_2019'}"
      ]
     },
     "execution_count": 6,
     "metadata": {},
     "output_type": "execute_result"
    }
   ],
   "source": [
    "doidict"
   ]
  },
  {
   "cell_type": "code",
   "execution_count": 7,
   "metadata": {},
   "outputs": [
    {
     "name": "stdout",
     "output_type": "stream",
     "text": [
      "'{\"journal\": \"{ACS} Applied Materials {\\\\&}amp$\\\\mathsemicolon$ Interfaces\", \"title\": \"The Solution is the Solution: Data-Driven Elucidation of Solution-to-Device Feature Transfer for $\\\\uppi$-Conjugated Polymer Semiconductors\", \"author\": \"Connor P. Callaway and Aaron L. Liu and Rahul Venkatesh and Yulong Zheng and Myeongyeon Lee and J. Carson Meredith and Martha Grover and Chad Risko and Elsa Reichmanis\", \"pages\": \"3613--3620\", \"number\": \"3\", \"volume\": \"14\", \"publisher\": \"American Chemical Society ({ACS})\", \"month\": \"jan\", \"year\": \"2022\", \"url\": \"https://doi.org/10.1021%2Facsami.1c20994\", \"doi\": \"10.1021/acsami.1c20994\", \"ENTRYTYPE\": \"article\", \"ID\": \"Callaway_2022\"}'\n"
     ]
    }
   ],
   "source": [
    "from psycopg2.extras import Json\n",
    "\n",
    "doi = '10.1021/acsami.1c20994'\n",
    "doi2 = '10.1021/acscentsci.9b00476'\n",
    "\n",
    "doidict = doi2dict(doi)\n",
    "\n",
    "a = Json(doidict)\n",
    "\n",
    "print(a)"
   ]
  },
  {
   "cell_type": "code",
   "execution_count": 8,
   "metadata": {},
   "outputs": [
    {
     "name": "stdout",
     "output_type": "stream",
     "text": [
      "Connection Successful\n",
      "Table(s) created successfully\n",
      "Operation successful\n"
     ]
    }
   ],
   "source": [
    "import psycopg2\n",
    "\n",
    "kwargs = {\n",
    "    'database': 'test',\n",
    "    'user': 'postgres',\n",
    "    'password': 'myL220q1W@',\n",
    "    'host': '127.0.0.1',\n",
    "    'port': '5432'\n",
    "}\n",
    "\n",
    "# %% Create Tables for EXPERIMENT_INFO\n",
    "\n",
    "conn = psycopg2.connect(**kwargs)\n",
    "\n",
    "print(\"Connection Successful\")\n",
    "\n",
    "cur = conn.cursor()\n",
    "cur.execute(\n",
    "    '''\n",
    "    CREATE TABLE IF NOT EXISTS EXPERIMENT_INFO (\n",
    "        exp_id              SERIAL          PRIMARY KEY,\n",
    "        citation_type       VARCHAR(20),\n",
    "        meta                JSONB,\n",
    "        UNIQUE(citation_type, meta)\n",
    "    );\n",
    "    '''\n",
    ")\n",
    "\n",
    "print(\"Table(s) created successfully\")\n",
    "conn.commit()\n",
    "\n",
    "print(\"Operation successful\")\n",
    "conn.close()"
   ]
  },
  {
   "cell_type": "code",
   "execution_count": 9,
   "metadata": {},
   "outputs": [
    {
     "data": {
      "text/plain": [
       "<psycopg2._json.Json at 0x1d9092ea670>"
      ]
     },
     "execution_count": 9,
     "metadata": {},
     "output_type": "execute_result"
    }
   ],
   "source": [
    "Json(doidict)"
   ]
  },
  {
   "cell_type": "code",
   "execution_count": 10,
   "metadata": {},
   "outputs": [
    {
     "name": "stdout",
     "output_type": "stream",
     "text": [
      "Connection Successful\n",
      "Table(s) created successfully\n",
      "Operation successful\n"
     ]
    }
   ],
   "source": [
    "sql = \"INSERT INTO experiment_info(%s) VALUES %s\"\n",
    "\n",
    "columns = ['citation_type', 'meta']\n",
    "values = ['literature', Json(doidict)]\n",
    "\n",
    "tup = (AsIs(','.join(columns)), tuple(values))\n",
    "\n",
    "conn = pg.connect(**kwargs)\n",
    "\n",
    "print(\"Connection Successful\")\n",
    "\n",
    "cur = conn.cursor()\n",
    "cur.execute(sql, tup)\n",
    "\n",
    "print(\"Table(s) created successfully\")\n",
    "conn.commit()\n",
    "\n",
    "print(\"Operation successful\")\n",
    "conn.close()\n"
   ]
  },
  {
   "cell_type": "markdown",
   "metadata": {},
   "source": [
    "### Exercise\n",
    "\n",
    "Populate a journal article DOI table\n",
    "\n",
    "1. Create a table called Articles. We want the table to contain columns that store a unique id for each row, the year it was published, and a metadata field with variable information mined using bibtexparser\n",
    "2. Populate the table with all the information using the Excel file \"articles.xlsx\" provided"
   ]
  },
  {
   "cell_type": "code",
   "execution_count": 11,
   "metadata": {},
   "outputs": [
    {
     "data": {
      "text/html": [
       "<div>\n",
       "<style scoped>\n",
       "    .dataframe tbody tr th:only-of-type {\n",
       "        vertical-align: middle;\n",
       "    }\n",
       "\n",
       "    .dataframe tbody tr th {\n",
       "        vertical-align: top;\n",
       "    }\n",
       "\n",
       "    .dataframe thead th {\n",
       "        text-align: right;\n",
       "    }\n",
       "</style>\n",
       "<table border=\"1\" class=\"dataframe\">\n",
       "  <thead>\n",
       "    <tr style=\"text-align: right;\">\n",
       "      <th></th>\n",
       "      <th>doi</th>\n",
       "    </tr>\n",
       "  </thead>\n",
       "  <tbody>\n",
       "    <tr>\n",
       "      <th>0</th>\n",
       "      <td>10.1002/adfm.201002729</td>\n",
       "    </tr>\n",
       "    <tr>\n",
       "      <th>1</th>\n",
       "      <td>10.1021/am3027822</td>\n",
       "    </tr>\n",
       "    <tr>\n",
       "      <th>2</th>\n",
       "      <td>10.1016/j.orgel.2011.06.027</td>\n",
       "    </tr>\n",
       "    <tr>\n",
       "      <th>3</th>\n",
       "      <td>10.1021/cm049617w</td>\n",
       "    </tr>\n",
       "    <tr>\n",
       "      <th>4</th>\n",
       "      <td>10.1103/PhysRevB.74.115318</td>\n",
       "    </tr>\n",
       "    <tr>\n",
       "      <th>5</th>\n",
       "      <td>10.1021/nn401323f</td>\n",
       "    </tr>\n",
       "    <tr>\n",
       "      <th>6</th>\n",
       "      <td>10.1063/1.2400796</td>\n",
       "    </tr>\n",
       "    <tr>\n",
       "      <th>7</th>\n",
       "      <td>10.1002/adfm.201403708</td>\n",
       "    </tr>\n",
       "    <tr>\n",
       "      <th>8</th>\n",
       "      <td>10.1002/adfm.201403708</td>\n",
       "    </tr>\n",
       "    <tr>\n",
       "      <th>9</th>\n",
       "      <td>10.1007/s11801-011-0122-z</td>\n",
       "    </tr>\n",
       "    <tr>\n",
       "      <th>10</th>\n",
       "      <td>10.1002/adma.200305275</td>\n",
       "    </tr>\n",
       "    <tr>\n",
       "      <th>11</th>\n",
       "      <td>10.1002/adma.200305275</td>\n",
       "    </tr>\n",
       "    <tr>\n",
       "      <th>12</th>\n",
       "      <td>10.1021/ma047415f</td>\n",
       "    </tr>\n",
       "    <tr>\n",
       "      <th>13</th>\n",
       "      <td>10.1021/ma2000515</td>\n",
       "    </tr>\n",
       "    <tr>\n",
       "      <th>14</th>\n",
       "      <td>10.1021/ma2000515</td>\n",
       "    </tr>\n",
       "    <tr>\n",
       "      <th>15</th>\n",
       "      <td>10.1021/jp4116047</td>\n",
       "    </tr>\n",
       "    <tr>\n",
       "      <th>16</th>\n",
       "      <td>10.1002/polb.23022</td>\n",
       "    </tr>\n",
       "    <tr>\n",
       "      <th>17</th>\n",
       "      <td>10.1002/polb.23022</td>\n",
       "    </tr>\n",
       "    <tr>\n",
       "      <th>18</th>\n",
       "      <td>10.1063/1.2222065</td>\n",
       "    </tr>\n",
       "    <tr>\n",
       "      <th>19</th>\n",
       "      <td>10.1063/1.2222065</td>\n",
       "    </tr>\n",
       "    <tr>\n",
       "      <th>20</th>\n",
       "      <td>10.1016/j.synthmet.2006.04.013</td>\n",
       "    </tr>\n",
       "    <tr>\n",
       "      <th>21</th>\n",
       "      <td>10.1002/adfm.200400017</td>\n",
       "    </tr>\n",
       "    <tr>\n",
       "      <th>22</th>\n",
       "      <td>10.1002/adfm.201301007</td>\n",
       "    </tr>\n",
       "  </tbody>\n",
       "</table>\n",
       "</div>"
      ],
      "text/plain": [
       "                               doi\n",
       "0           10.1002/adfm.201002729\n",
       "1                10.1021/am3027822\n",
       "2      10.1016/j.orgel.2011.06.027\n",
       "3                10.1021/cm049617w\n",
       "4       10.1103/PhysRevB.74.115318\n",
       "5                10.1021/nn401323f\n",
       "6                10.1063/1.2400796\n",
       "7           10.1002/adfm.201403708\n",
       "8           10.1002/adfm.201403708\n",
       "9        10.1007/s11801-011-0122-z\n",
       "10          10.1002/adma.200305275\n",
       "11          10.1002/adma.200305275\n",
       "12               10.1021/ma047415f\n",
       "13              10.1021/ma2000515 \n",
       "14               10.1021/ma2000515\n",
       "15               10.1021/jp4116047\n",
       "16              10.1002/polb.23022\n",
       "17              10.1002/polb.23022\n",
       "18               10.1063/1.2222065\n",
       "19               10.1063/1.2222065\n",
       "20  10.1016/j.synthmet.2006.04.013\n",
       "21          10.1002/adfm.200400017\n",
       "22          10.1002/adfm.201301007"
      ]
     },
     "execution_count": 11,
     "metadata": {},
     "output_type": "execute_result"
    }
   ],
   "source": [
    "import pandas as pd\n",
    "df = pd.read_excel('articles.xlsx')\n",
    "df"
   ]
  },
  {
   "cell_type": "code",
   "execution_count": 12,
   "metadata": {},
   "outputs": [
    {
     "data": {
      "text/plain": [
       "'10.1002/adfm.201002729'"
      ]
     },
     "execution_count": 12,
     "metadata": {},
     "output_type": "execute_result"
    }
   ],
   "source": [
    "df.doi[0]"
   ]
  },
  {
   "cell_type": "code",
   "execution_count": 13,
   "metadata": {},
   "outputs": [
    {
     "data": {
      "text/plain": [
       "str"
      ]
     },
     "execution_count": 13,
     "metadata": {},
     "output_type": "execute_result"
    }
   ],
   "source": [
    "type(df.doi[0])"
   ]
  },
  {
   "cell_type": "code",
   "execution_count": 30,
   "metadata": {},
   "outputs": [
    {
     "name": "stdout",
     "output_type": "stream",
     "text": [
      "Connecting to the PostgreSQL database...\n",
      "Connection successful\n",
      "Operation successful\n"
     ]
    }
   ],
   "source": [
    "conn = connect(**conn_kwargs)\n",
    "\n",
    "cur = conn.cursor()\n",
    "\n",
    "sql = '''\n",
    "\n",
    "    DROP TABLE IF EXISTS Articles;\n",
    "\n",
    "    CREATE TABLE Articles (\n",
    "        exp_id              SERIAL          PRIMARY KEY,\n",
    "        citation_type       VARCHAR(20),\n",
    "        meta                JSONB,\n",
    "        UNIQUE(citation_type, meta)\n",
    "    );\n",
    "'''\n",
    "\n",
    "cur.execute(sql)\n",
    "conn.commit()\n",
    "\n",
    "print(\"Operation successful\")\n",
    "conn.close()"
   ]
  },
  {
   "cell_type": "code",
   "execution_count": 58,
   "metadata": {},
   "outputs": [
    {
     "name": "stdout",
     "output_type": "stream",
     "text": [
      "{'journal': 'Advanced Functional Materials', 'title': 'Tunable Crystallinity in Regioregular Poly(3-Hexylthiophene) Thin Films and Its Impact on Field Effect Mobility', 'author': 'Avishek R. Aiyar and Jung-Il Hong and Rakesh Nambiar and David M. Collard and Elsa Reichmanis', 'pages': '2652--2659', 'number': '14', 'volume': '21', 'publisher': 'Wiley', 'month': 'may', 'year': '2011', 'url': 'https://doi.org/10.1002%2Fadfm.201002729', 'doi': '10.1002/adfm.201002729', 'ENTRYTYPE': 'article', 'ID': 'Aiyar_2011'}\n",
      "{'journal': '{ACS} Applied Materials {\\\\&}amp$\\\\mathsemicolon$ Interfaces', 'title': 'Ultrasound-Induced Ordering in Poly(3-hexylthiophene): Role of Molecular and Process Parameters on Morphology and Charge Transport', 'author': 'Avishek R. Aiyar and Jung-Il Hong and Jessica Izumi and Dalsu Choi and Nabil Kleinhenz and Elsa Reichmanis', 'pages': '2368--2377', 'number': '7', 'volume': '5', 'publisher': 'American Chemical Society ({ACS})', 'month': 'mar', 'year': '2013', 'url': 'https://doi.org/10.1021%2Fam3027822', 'doi': '10.1021/am3027822', 'ENTRYTYPE': 'article', 'ID': 'Aiyar_2013'}\n",
      "{'journal': 'Organic Electronics', 'title': 'Effect of solution aging on morphology and electrical characteristics of regioregular P3HT {FETs} fabricated by spin coating and spray coating', 'author': 'U. Bielecka and P. Lutsyk and K. Janus and J. Sworakowski and W. Bartkowiak', 'pages': '1768--1776', 'number': '11', 'volume': '12', 'publisher': 'Elsevier {BV}', 'month': 'nov', 'year': '2011', 'url': 'https://doi.org/10.1016%2Fj.orgel.2011.06.027', 'doi': '10.1016/j.orgel.2011.06.027', 'ENTRYTYPE': 'article', 'ID': 'Bielecka_2011'}\n",
      "{'journal': 'Chemistry of Materials', 'title': 'Enhanced Mobility of Poly(3-hexylthiophene) Transistors by Spin-Coating from High-Boiling-Point Solvents', 'author': 'Jui-Fen Chang and Baoquan Sun and Dag W. Breiby and Martin M. Nielsen and Theis I. SÃ¶lling and Mark Giles and Iain McCulloch and Henning Sirringhaus', 'pages': '4772--4776', 'number': '23', 'volume': '16', 'publisher': 'American Chemical Society ({ACS})', 'month': 'jul', 'year': '2004', 'url': 'https://doi.org/10.1021%2Fcm049617w', 'doi': '10.1021/cm049617w', 'ENTRYTYPE': 'article', 'ID': 'Chang_2004'}\n",
      "{'journal': 'Physical Review B', 'title': 'Molecular-weight dependence of interchain polaron delocalization and exciton bandwidth in high-mobility conjugated polymers', 'author': 'Jui-Fen Chang and Jenny Clark and Ni Zhao and Henning Sirringhaus and Dag W. Breiby and Jens W. Andreasen and Martin M. Nielsen and Mark Giles and Martin Heeney and Iain McCulloch', 'number': '11', 'volume': '74', 'publisher': 'American Physical Society ({APS})', 'month': 'sep', 'year': '2006', 'url': 'https://doi.org/10.1103%2Fphysrevb.74.115318', 'doi': '10.1103/physrevb.74.115318', 'ENTRYTYPE': 'article', 'ID': 'Chang_2006'}\n",
      "{'journal': '{ACS} Nano', 'title': 'Solvent Based Hydrogen Bonding: Impact on Poly(3-hexylthiophene) Nanoscale Morphology and Charge Transport Characteristics', 'author': 'Mincheol Chang and Dalsu Choi and Boyi Fu and Elsa Reichmanis', 'pages': '5402--5413', 'number': '6', 'volume': '7', 'publisher': 'American Chemical Society ({ACS})', 'month': 'may', 'year': '2013', 'url': 'https://doi.org/10.1021%2Fnn401323f', 'doi': '10.1021/nn401323f', 'ENTRYTYPE': 'article', 'ID': 'Chang_2013'}\n",
      "{'journal': 'Journal of Applied Physics', 'title': 'Thermal annealing-induced enhancement of the field-effect mobility of regioregular poly(3-hexylthiophene) films', 'author': 'Shinuk Cho and Kwanghee Lee and Jonathan Yuen and Guangming Wang and Daniel Moses and Alan J. Heeger and Mathieu Surin and Roberto Lazzaroni', 'pages': '114503', 'number': '11', 'volume': '100', 'publisher': '{AIP} Publishing', 'year': '2006', 'url': 'https://doi.org/10.1063%2F1.2400796', 'doi': '10.1063/1.2400796', 'ENTRYTYPE': 'article', 'ID': 'Cho_2006'}\n",
      "{'journal': 'Advanced Functional Materials', 'title': 'Controlled Assembly of Poly(3-hexylthiophene): Managing the Disorder to Order Transition on the Nano- through Meso-Scales', 'author': 'Dalsu Choi and Mincheol Chang and Elsa Reichmanis', 'pages': '920--927', 'number': '6', 'volume': '25', 'publisher': 'Wiley', 'month': 'dec', 'year': '2014', 'url': 'https://doi.org/10.1002%2Fadfm.201403708', 'doi': '10.1002/adfm.201403708', 'ENTRYTYPE': 'article', 'ID': 'Choi_2014'}\n",
      "{'journal': 'Advanced Functional Materials', 'title': 'Controlled Assembly of Poly(3-hexylthiophene): Managing the Disorder to Order Transition on the Nano- through Meso-Scales', 'author': 'Dalsu Choi and Mincheol Chang and Elsa Reichmanis', 'pages': '920--927', 'number': '6', 'volume': '25', 'publisher': 'Wiley', 'month': 'dec', 'year': '2014', 'url': 'https://doi.org/10.1002%2Fadfm.201403708', 'doi': '10.1002/adfm.201403708', 'ENTRYTYPE': 'article', 'ID': 'Choi_2014'}\n",
      "{'journal': 'Optoelectronics Letters', 'title': 'Effects of P3HT concentration on the performance of organic field effect transistors', 'author': 'Chun-xia Jiang and Xiao-man Cheng and Xiao-ming Wu and Xiao-yan Yang and Bin Yin and Yu-lin Hua and Jun Wei and Shou-gen Yin', 'pages': '30--32', 'number': '1', 'volume': '7', 'publisher': 'Springer Science and Business Media {LLC}', 'month': 'jan', 'year': '2011', 'url': 'https://doi.org/10.1007%2Fs11801-011-0122-z', 'doi': '10.1007/s11801-011-0122-z', 'ENTRYTYPE': 'article', 'ID': 'Jiang_2011'}\n",
      "{'journal': 'Advanced Materials', 'title': 'Controlling the Field-Effect Mobility of Regioregular Polythiophene by Changing the Molecular Weight', 'author': \"R.J. Kline and M.D. McGehee and E.N. Kadnikova and J. Liu and J.M.J. Fr{\\\\'{e}}chet\", 'pages': '1519--1522', 'number': '18', 'volume': '15', 'publisher': 'Wiley', 'month': 'sep', 'year': '2003', 'url': 'https://doi.org/10.1002%2Fadma.200305275', 'doi': '10.1002/adma.200305275', 'ENTRYTYPE': 'article', 'ID': 'Kline_2003'}\n",
      "{'journal': 'Advanced Materials', 'title': 'Controlling the Field-Effect Mobility of Regioregular Polythiophene by Changing the Molecular Weight', 'author': \"R.J. Kline and M.D. McGehee and E.N. Kadnikova and J. Liu and J.M.J. Fr{\\\\'{e}}chet\", 'pages': '1519--1522', 'number': '18', 'volume': '15', 'publisher': 'Wiley', 'month': 'sep', 'year': '2003', 'url': 'https://doi.org/10.1002%2Fadma.200305275', 'doi': '10.1002/adma.200305275', 'ENTRYTYPE': 'article', 'ID': 'Kline_2003'}\n",
      "{'journal': 'Macromolecules', 'title': 'Dependence of Regioregular Poly(3-hexylthiophene) Film Morphology and Field-Effect Mobility on Molecular Weight', 'author': \"R. Joseph Kline and Michael D. McGehee and Ekaterina N. Kadnikova and Jinsong Liu and Jean M. J. Fr{\\\\'{e}}chet and Michael F. Toney\", 'pages': '3312--3319', 'number': '8', 'volume': '38', 'publisher': 'American Chemical Society ({ACS})', 'month': 'mar', 'year': '2005', 'url': 'https://doi.org/10.1021%2Fma047415f', 'doi': '10.1021/ma047415f', 'ENTRYTYPE': 'article', 'ID': 'Kline_2005'}\n",
      "{'journal': 'Macromolecules', 'title': 'Mesoscale Morphology and Charge Transport in Colloidal Networks of Poly(3-hexylthiophene)', 'author': 'Gregory M. Newbloom and Felix S. Kim and Samson A. Jenekhe and Danilo C. Pozzo', 'pages': '3801--3809', 'number': '10', 'volume': '44', 'publisher': 'American Chemical Society ({ACS})', 'month': 'may', 'year': '2011', 'url': 'https://doi.org/10.1021%2Fma2000515', 'doi': '10.1021/ma2000515', 'ENTRYTYPE': 'article', 'ID': 'Newbloom_2011'}\n",
      "{'journal': 'Macromolecules', 'title': 'Mesoscale Morphology and Charge Transport in Colloidal Networks of Poly(3-hexylthiophene)', 'author': 'Gregory M. Newbloom and Felix S. Kim and Samson A. Jenekhe and Danilo C. Pozzo', 'pages': '3801--3809', 'number': '10', 'volume': '44', 'publisher': 'American Chemical Society ({ACS})', 'month': 'may', 'year': '2011', 'url': 'https://doi.org/10.1021%2Fma2000515', 'doi': '10.1021/ma2000515', 'ENTRYTYPE': 'article', 'ID': 'Newbloom_2011'}\n",
      "{'journal': 'The Journal of Physical Chemistry C', 'title': 'Charge Transport in Ordered and Disordered Regions in Pristine and Sonicated-Poly(3-hexylthiophene) Films', 'author': 'Byoungnam Park and Doo-Hyun Ko', 'pages': '1746--1752', 'number': '3', 'volume': '118', 'publisher': 'American Chemical Society ({ACS})', 'month': 'jan', 'year': '2014', 'url': 'https://doi.org/10.1021%2Fjp4116047', 'doi': '10.1021/jp4116047', 'ENTRYTYPE': 'article', 'ID': 'Park_2014'}\n"
     ]
    },
    {
     "name": "stdout",
     "output_type": "stream",
     "text": [
      "{'journal': 'Journal of Polymer Science Part B: Polymer Physics', 'title': 'Control of aggregate formation in poly(3-hexylthiophene) by solvent, molecular weight, and synthetic method', 'author': 'Christina Scharsich and Ruth H. Lohwasser and Michael Sommer and Udom Asawapirom and Ullrich Scherf and Mukundan Thelakkat and Dieter Neher and Anna KÃ¶hler', 'pages': '442--453', 'number': '6', 'volume': '50', 'publisher': 'Wiley', 'month': 'dec', 'year': '2011', 'url': 'https://doi.org/10.1002%2Fpolb.23022', 'doi': '10.1002/polb.23022', 'ENTRYTYPE': 'article', 'ID': 'Scharsich_2011'}\n",
      "{'journal': 'Journal of Polymer Science Part B: Polymer Physics', 'title': 'Control of aggregate formation in poly(3-hexylthiophene) by solvent, molecular weight, and synthetic method', 'author': 'Christina Scharsich and Ruth H. Lohwasser and Michael Sommer and Udom Asawapirom and Ullrich Scherf and Mukundan Thelakkat and Dieter Neher and Anna KÃ¶hler', 'pages': '442--453', 'number': '6', 'volume': '50', 'publisher': 'Wiley', 'month': 'dec', 'year': '2011', 'url': 'https://doi.org/10.1002%2Fpolb.23022', 'doi': '10.1002/polb.23022', 'ENTRYTYPE': 'article', 'ID': 'Scharsich_2011'}\n",
      "{'journal': 'Journal of Applied Physics', 'title': 'Relationship between the microscopic morphology and the charge transport properties in poly(3-hexylthiophene) field-effect transistors', 'author': 'M. Surin and Ph. Lecl{\\\\`{e}}re and R. Lazzaroni and J. D. Yuen and G. Wang and D. Moses and A. J. Heeger and S. Cho and K. Lee', 'pages': '033712', 'number': '3', 'volume': '100', 'publisher': '{AIP} Publishing', 'month': 'aug', 'year': '2006', 'url': 'https://doi.org/10.1063%2F1.2222065', 'doi': '10.1063/1.2222065', 'ENTRYTYPE': 'article', 'ID': 'Surin_2006'}\n",
      "{'journal': 'Journal of Applied Physics', 'title': 'Relationship between the microscopic morphology and the charge transport properties in poly(3-hexylthiophene) field-effect transistors', 'author': 'M. Surin and Ph. Lecl{\\\\`{e}}re and R. Lazzaroni and J. D. Yuen and G. Wang and D. Moses and A. J. Heeger and S. Cho and K. Lee', 'pages': '033712', 'number': '3', 'volume': '100', 'publisher': '{AIP} Publishing', 'month': 'aug', 'year': '2006', 'url': 'https://doi.org/10.1063%2F1.2222065', 'doi': '10.1063/1.2222065', 'ENTRYTYPE': 'article', 'ID': 'Surin_2006'}\n",
      "{'journal': 'Synthetic Metals', 'title': 'N-Aryl carbazole derivatives for non-doped red {OLEDs}', 'author': 'Hui-ying Fu and Huan-rong Wu and Xiao-yuan Hou and Fei Xiao and Bing-xian Shao', 'pages': '809--814', 'number': '11-13', 'volume': '156', 'publisher': 'Elsevier {BV}', 'month': 'jun', 'year': '2006', 'url': 'https://doi.org/10.1016%2Fj.synthmet.2006.04.013', 'doi': '10.1016/j.synthmet.2006.04.013', 'ENTRYTYPE': 'article', 'ID': 'Fu_2006'}\n"
     ]
    },
    {
     "ename": "SSLError",
     "evalue": "HTTPSConnectionPool(host='dx.doi.org', port=443): Max retries exceeded with url: /10.1002/adfm.200400017 (Caused by SSLError(SSLError(1, '[SSL: SSLV3_ALERT_HANDSHAKE_FAILURE] sslv3 alert handshake failure (_ssl.c:1129)')))",
     "output_type": "error",
     "traceback": [
      "\u001b[1;31m---------------------------------------------------------------------------\u001b[0m",
      "\u001b[1;31mSSLError\u001b[0m                                  Traceback (most recent call last)",
      "File \u001b[1;32m~\\anaconda3\\lib\\site-packages\\urllib3\\connectionpool.py:703\u001b[0m, in \u001b[0;36mHTTPConnectionPool.urlopen\u001b[1;34m(self, method, url, body, headers, retries, redirect, assert_same_host, timeout, pool_timeout, release_conn, chunked, body_pos, **response_kw)\u001b[0m\n\u001b[0;32m    702\u001b[0m \u001b[38;5;66;03m# Make the request on the httplib connection object.\u001b[39;00m\n\u001b[1;32m--> 703\u001b[0m httplib_response \u001b[38;5;241m=\u001b[39m \u001b[38;5;28;43mself\u001b[39;49m\u001b[38;5;241;43m.\u001b[39;49m\u001b[43m_make_request\u001b[49m\u001b[43m(\u001b[49m\n\u001b[0;32m    704\u001b[0m \u001b[43m    \u001b[49m\u001b[43mconn\u001b[49m\u001b[43m,\u001b[49m\n\u001b[0;32m    705\u001b[0m \u001b[43m    \u001b[49m\u001b[43mmethod\u001b[49m\u001b[43m,\u001b[49m\n\u001b[0;32m    706\u001b[0m \u001b[43m    \u001b[49m\u001b[43murl\u001b[49m\u001b[43m,\u001b[49m\n\u001b[0;32m    707\u001b[0m \u001b[43m    \u001b[49m\u001b[43mtimeout\u001b[49m\u001b[38;5;241;43m=\u001b[39;49m\u001b[43mtimeout_obj\u001b[49m\u001b[43m,\u001b[49m\n\u001b[0;32m    708\u001b[0m \u001b[43m    \u001b[49m\u001b[43mbody\u001b[49m\u001b[38;5;241;43m=\u001b[39;49m\u001b[43mbody\u001b[49m\u001b[43m,\u001b[49m\n\u001b[0;32m    709\u001b[0m \u001b[43m    \u001b[49m\u001b[43mheaders\u001b[49m\u001b[38;5;241;43m=\u001b[39;49m\u001b[43mheaders\u001b[49m\u001b[43m,\u001b[49m\n\u001b[0;32m    710\u001b[0m \u001b[43m    \u001b[49m\u001b[43mchunked\u001b[49m\u001b[38;5;241;43m=\u001b[39;49m\u001b[43mchunked\u001b[49m\u001b[43m,\u001b[49m\n\u001b[0;32m    711\u001b[0m \u001b[43m\u001b[49m\u001b[43m)\u001b[49m\n\u001b[0;32m    713\u001b[0m \u001b[38;5;66;03m# If we're going to release the connection in ``finally:``, then\u001b[39;00m\n\u001b[0;32m    714\u001b[0m \u001b[38;5;66;03m# the response doesn't need to know about the connection. Otherwise\u001b[39;00m\n\u001b[0;32m    715\u001b[0m \u001b[38;5;66;03m# it will also try to release it and we'll have a double-release\u001b[39;00m\n\u001b[0;32m    716\u001b[0m \u001b[38;5;66;03m# mess.\u001b[39;00m\n",
      "File \u001b[1;32m~\\anaconda3\\lib\\site-packages\\urllib3\\connectionpool.py:386\u001b[0m, in \u001b[0;36mHTTPConnectionPool._make_request\u001b[1;34m(self, conn, method, url, timeout, chunked, **httplib_request_kw)\u001b[0m\n\u001b[0;32m    385\u001b[0m \u001b[38;5;28;01mtry\u001b[39;00m:\n\u001b[1;32m--> 386\u001b[0m     \u001b[38;5;28;43mself\u001b[39;49m\u001b[38;5;241;43m.\u001b[39;49m\u001b[43m_validate_conn\u001b[49m\u001b[43m(\u001b[49m\u001b[43mconn\u001b[49m\u001b[43m)\u001b[49m\n\u001b[0;32m    387\u001b[0m \u001b[38;5;28;01mexcept\u001b[39;00m (SocketTimeout, BaseSSLError) \u001b[38;5;28;01mas\u001b[39;00m e:\n\u001b[0;32m    388\u001b[0m     \u001b[38;5;66;03m# Py2 raises this as a BaseSSLError, Py3 raises it as socket timeout.\u001b[39;00m\n",
      "File \u001b[1;32m~\\anaconda3\\lib\\site-packages\\urllib3\\connectionpool.py:1040\u001b[0m, in \u001b[0;36mHTTPSConnectionPool._validate_conn\u001b[1;34m(self, conn)\u001b[0m\n\u001b[0;32m   1039\u001b[0m \u001b[38;5;28;01mif\u001b[39;00m \u001b[38;5;129;01mnot\u001b[39;00m \u001b[38;5;28mgetattr\u001b[39m(conn, \u001b[38;5;124m\"\u001b[39m\u001b[38;5;124msock\u001b[39m\u001b[38;5;124m\"\u001b[39m, \u001b[38;5;28;01mNone\u001b[39;00m):  \u001b[38;5;66;03m# AppEngine might not have  `.sock`\u001b[39;00m\n\u001b[1;32m-> 1040\u001b[0m     \u001b[43mconn\u001b[49m\u001b[38;5;241;43m.\u001b[39;49m\u001b[43mconnect\u001b[49m\u001b[43m(\u001b[49m\u001b[43m)\u001b[49m\n\u001b[0;32m   1042\u001b[0m \u001b[38;5;28;01mif\u001b[39;00m \u001b[38;5;129;01mnot\u001b[39;00m conn\u001b[38;5;241m.\u001b[39mis_verified:\n",
      "File \u001b[1;32m~\\anaconda3\\lib\\site-packages\\urllib3\\connection.py:414\u001b[0m, in \u001b[0;36mHTTPSConnection.connect\u001b[1;34m(self)\u001b[0m\n\u001b[0;32m    412\u001b[0m     context\u001b[38;5;241m.\u001b[39mload_default_certs()\n\u001b[1;32m--> 414\u001b[0m \u001b[38;5;28mself\u001b[39m\u001b[38;5;241m.\u001b[39msock \u001b[38;5;241m=\u001b[39m \u001b[43mssl_wrap_socket\u001b[49m\u001b[43m(\u001b[49m\n\u001b[0;32m    415\u001b[0m \u001b[43m    \u001b[49m\u001b[43msock\u001b[49m\u001b[38;5;241;43m=\u001b[39;49m\u001b[43mconn\u001b[49m\u001b[43m,\u001b[49m\n\u001b[0;32m    416\u001b[0m \u001b[43m    \u001b[49m\u001b[43mkeyfile\u001b[49m\u001b[38;5;241;43m=\u001b[39;49m\u001b[38;5;28;43mself\u001b[39;49m\u001b[38;5;241;43m.\u001b[39;49m\u001b[43mkey_file\u001b[49m\u001b[43m,\u001b[49m\n\u001b[0;32m    417\u001b[0m \u001b[43m    \u001b[49m\u001b[43mcertfile\u001b[49m\u001b[38;5;241;43m=\u001b[39;49m\u001b[38;5;28;43mself\u001b[39;49m\u001b[38;5;241;43m.\u001b[39;49m\u001b[43mcert_file\u001b[49m\u001b[43m,\u001b[49m\n\u001b[0;32m    418\u001b[0m \u001b[43m    \u001b[49m\u001b[43mkey_password\u001b[49m\u001b[38;5;241;43m=\u001b[39;49m\u001b[38;5;28;43mself\u001b[39;49m\u001b[38;5;241;43m.\u001b[39;49m\u001b[43mkey_password\u001b[49m\u001b[43m,\u001b[49m\n\u001b[0;32m    419\u001b[0m \u001b[43m    \u001b[49m\u001b[43mca_certs\u001b[49m\u001b[38;5;241;43m=\u001b[39;49m\u001b[38;5;28;43mself\u001b[39;49m\u001b[38;5;241;43m.\u001b[39;49m\u001b[43mca_certs\u001b[49m\u001b[43m,\u001b[49m\n\u001b[0;32m    420\u001b[0m \u001b[43m    \u001b[49m\u001b[43mca_cert_dir\u001b[49m\u001b[38;5;241;43m=\u001b[39;49m\u001b[38;5;28;43mself\u001b[39;49m\u001b[38;5;241;43m.\u001b[39;49m\u001b[43mca_cert_dir\u001b[49m\u001b[43m,\u001b[49m\n\u001b[0;32m    421\u001b[0m \u001b[43m    \u001b[49m\u001b[43mca_cert_data\u001b[49m\u001b[38;5;241;43m=\u001b[39;49m\u001b[38;5;28;43mself\u001b[39;49m\u001b[38;5;241;43m.\u001b[39;49m\u001b[43mca_cert_data\u001b[49m\u001b[43m,\u001b[49m\n\u001b[0;32m    422\u001b[0m \u001b[43m    \u001b[49m\u001b[43mserver_hostname\u001b[49m\u001b[38;5;241;43m=\u001b[39;49m\u001b[43mserver_hostname\u001b[49m\u001b[43m,\u001b[49m\n\u001b[0;32m    423\u001b[0m \u001b[43m    \u001b[49m\u001b[43mssl_context\u001b[49m\u001b[38;5;241;43m=\u001b[39;49m\u001b[43mcontext\u001b[49m\u001b[43m,\u001b[49m\n\u001b[0;32m    424\u001b[0m \u001b[43m    \u001b[49m\u001b[43mtls_in_tls\u001b[49m\u001b[38;5;241;43m=\u001b[39;49m\u001b[43mtls_in_tls\u001b[49m\u001b[43m,\u001b[49m\n\u001b[0;32m    425\u001b[0m \u001b[43m\u001b[49m\u001b[43m)\u001b[49m\n\u001b[0;32m    427\u001b[0m \u001b[38;5;66;03m# If we're using all defaults and the connection\u001b[39;00m\n\u001b[0;32m    428\u001b[0m \u001b[38;5;66;03m# is TLSv1 or TLSv1.1 we throw a DeprecationWarning\u001b[39;00m\n\u001b[0;32m    429\u001b[0m \u001b[38;5;66;03m# for the host.\u001b[39;00m\n",
      "File \u001b[1;32m~\\anaconda3\\lib\\site-packages\\urllib3\\util\\ssl_.py:449\u001b[0m, in \u001b[0;36mssl_wrap_socket\u001b[1;34m(sock, keyfile, certfile, cert_reqs, ca_certs, server_hostname, ssl_version, ciphers, ssl_context, ca_cert_dir, key_password, ca_cert_data, tls_in_tls)\u001b[0m\n\u001b[0;32m    448\u001b[0m \u001b[38;5;28;01mif\u001b[39;00m send_sni:\n\u001b[1;32m--> 449\u001b[0m     ssl_sock \u001b[38;5;241m=\u001b[39m \u001b[43m_ssl_wrap_socket_impl\u001b[49m\u001b[43m(\u001b[49m\n\u001b[0;32m    450\u001b[0m \u001b[43m        \u001b[49m\u001b[43msock\u001b[49m\u001b[43m,\u001b[49m\u001b[43m \u001b[49m\u001b[43mcontext\u001b[49m\u001b[43m,\u001b[49m\u001b[43m \u001b[49m\u001b[43mtls_in_tls\u001b[49m\u001b[43m,\u001b[49m\u001b[43m \u001b[49m\u001b[43mserver_hostname\u001b[49m\u001b[38;5;241;43m=\u001b[39;49m\u001b[43mserver_hostname\u001b[49m\n\u001b[0;32m    451\u001b[0m \u001b[43m    \u001b[49m\u001b[43m)\u001b[49m\n\u001b[0;32m    452\u001b[0m \u001b[38;5;28;01melse\u001b[39;00m:\n",
      "File \u001b[1;32m~\\anaconda3\\lib\\site-packages\\urllib3\\util\\ssl_.py:493\u001b[0m, in \u001b[0;36m_ssl_wrap_socket_impl\u001b[1;34m(sock, ssl_context, tls_in_tls, server_hostname)\u001b[0m\n\u001b[0;32m    492\u001b[0m \u001b[38;5;28;01mif\u001b[39;00m server_hostname:\n\u001b[1;32m--> 493\u001b[0m     \u001b[38;5;28;01mreturn\u001b[39;00m \u001b[43mssl_context\u001b[49m\u001b[38;5;241;43m.\u001b[39;49m\u001b[43mwrap_socket\u001b[49m\u001b[43m(\u001b[49m\u001b[43msock\u001b[49m\u001b[43m,\u001b[49m\u001b[43m \u001b[49m\u001b[43mserver_hostname\u001b[49m\u001b[38;5;241;43m=\u001b[39;49m\u001b[43mserver_hostname\u001b[49m\u001b[43m)\u001b[49m\n\u001b[0;32m    494\u001b[0m \u001b[38;5;28;01melse\u001b[39;00m:\n",
      "File \u001b[1;32m~\\anaconda3\\lib\\ssl.py:500\u001b[0m, in \u001b[0;36mSSLContext.wrap_socket\u001b[1;34m(self, sock, server_side, do_handshake_on_connect, suppress_ragged_eofs, server_hostname, session)\u001b[0m\n\u001b[0;32m    494\u001b[0m \u001b[38;5;28;01mdef\u001b[39;00m \u001b[38;5;21mwrap_socket\u001b[39m(\u001b[38;5;28mself\u001b[39m, sock, server_side\u001b[38;5;241m=\u001b[39m\u001b[38;5;28;01mFalse\u001b[39;00m,\n\u001b[0;32m    495\u001b[0m                 do_handshake_on_connect\u001b[38;5;241m=\u001b[39m\u001b[38;5;28;01mTrue\u001b[39;00m,\n\u001b[0;32m    496\u001b[0m                 suppress_ragged_eofs\u001b[38;5;241m=\u001b[39m\u001b[38;5;28;01mTrue\u001b[39;00m,\n\u001b[0;32m    497\u001b[0m                 server_hostname\u001b[38;5;241m=\u001b[39m\u001b[38;5;28;01mNone\u001b[39;00m, session\u001b[38;5;241m=\u001b[39m\u001b[38;5;28;01mNone\u001b[39;00m):\n\u001b[0;32m    498\u001b[0m     \u001b[38;5;66;03m# SSLSocket class handles server_hostname encoding before it calls\u001b[39;00m\n\u001b[0;32m    499\u001b[0m     \u001b[38;5;66;03m# ctx._wrap_socket()\u001b[39;00m\n\u001b[1;32m--> 500\u001b[0m     \u001b[38;5;28;01mreturn\u001b[39;00m \u001b[38;5;28;43mself\u001b[39;49m\u001b[38;5;241;43m.\u001b[39;49m\u001b[43msslsocket_class\u001b[49m\u001b[38;5;241;43m.\u001b[39;49m\u001b[43m_create\u001b[49m\u001b[43m(\u001b[49m\n\u001b[0;32m    501\u001b[0m \u001b[43m        \u001b[49m\u001b[43msock\u001b[49m\u001b[38;5;241;43m=\u001b[39;49m\u001b[43msock\u001b[49m\u001b[43m,\u001b[49m\n\u001b[0;32m    502\u001b[0m \u001b[43m        \u001b[49m\u001b[43mserver_side\u001b[49m\u001b[38;5;241;43m=\u001b[39;49m\u001b[43mserver_side\u001b[49m\u001b[43m,\u001b[49m\n\u001b[0;32m    503\u001b[0m \u001b[43m        \u001b[49m\u001b[43mdo_handshake_on_connect\u001b[49m\u001b[38;5;241;43m=\u001b[39;49m\u001b[43mdo_handshake_on_connect\u001b[49m\u001b[43m,\u001b[49m\n\u001b[0;32m    504\u001b[0m \u001b[43m        \u001b[49m\u001b[43msuppress_ragged_eofs\u001b[49m\u001b[38;5;241;43m=\u001b[39;49m\u001b[43msuppress_ragged_eofs\u001b[49m\u001b[43m,\u001b[49m\n\u001b[0;32m    505\u001b[0m \u001b[43m        \u001b[49m\u001b[43mserver_hostname\u001b[49m\u001b[38;5;241;43m=\u001b[39;49m\u001b[43mserver_hostname\u001b[49m\u001b[43m,\u001b[49m\n\u001b[0;32m    506\u001b[0m \u001b[43m        \u001b[49m\u001b[43mcontext\u001b[49m\u001b[38;5;241;43m=\u001b[39;49m\u001b[38;5;28;43mself\u001b[39;49m\u001b[43m,\u001b[49m\n\u001b[0;32m    507\u001b[0m \u001b[43m        \u001b[49m\u001b[43msession\u001b[49m\u001b[38;5;241;43m=\u001b[39;49m\u001b[43msession\u001b[49m\n\u001b[0;32m    508\u001b[0m \u001b[43m    \u001b[49m\u001b[43m)\u001b[49m\n",
      "File \u001b[1;32m~\\anaconda3\\lib\\ssl.py:1040\u001b[0m, in \u001b[0;36mSSLSocket._create\u001b[1;34m(cls, sock, server_side, do_handshake_on_connect, suppress_ragged_eofs, server_hostname, context, session)\u001b[0m\n\u001b[0;32m   1039\u001b[0m             \u001b[38;5;28;01mraise\u001b[39;00m \u001b[38;5;167;01mValueError\u001b[39;00m(\u001b[38;5;124m\"\u001b[39m\u001b[38;5;124mdo_handshake_on_connect should not be specified for non-blocking sockets\u001b[39m\u001b[38;5;124m\"\u001b[39m)\n\u001b[1;32m-> 1040\u001b[0m         \u001b[38;5;28;43mself\u001b[39;49m\u001b[38;5;241;43m.\u001b[39;49m\u001b[43mdo_handshake\u001b[49m\u001b[43m(\u001b[49m\u001b[43m)\u001b[49m\n\u001b[0;32m   1041\u001b[0m \u001b[38;5;28;01mexcept\u001b[39;00m (\u001b[38;5;167;01mOSError\u001b[39;00m, \u001b[38;5;167;01mValueError\u001b[39;00m):\n",
      "File \u001b[1;32m~\\anaconda3\\lib\\ssl.py:1309\u001b[0m, in \u001b[0;36mSSLSocket.do_handshake\u001b[1;34m(self, block)\u001b[0m\n\u001b[0;32m   1308\u001b[0m         \u001b[38;5;28mself\u001b[39m\u001b[38;5;241m.\u001b[39msettimeout(\u001b[38;5;28;01mNone\u001b[39;00m)\n\u001b[1;32m-> 1309\u001b[0m     \u001b[38;5;28;43mself\u001b[39;49m\u001b[38;5;241;43m.\u001b[39;49m\u001b[43m_sslobj\u001b[49m\u001b[38;5;241;43m.\u001b[39;49m\u001b[43mdo_handshake\u001b[49m\u001b[43m(\u001b[49m\u001b[43m)\u001b[49m\n\u001b[0;32m   1310\u001b[0m \u001b[38;5;28;01mfinally\u001b[39;00m:\n",
      "\u001b[1;31mSSLError\u001b[0m: [SSL: SSLV3_ALERT_HANDSHAKE_FAILURE] sslv3 alert handshake failure (_ssl.c:1129)",
      "\nDuring handling of the above exception, another exception occurred:\n",
      "\u001b[1;31mMaxRetryError\u001b[0m                             Traceback (most recent call last)",
      "File \u001b[1;32m~\\anaconda3\\lib\\site-packages\\requests\\adapters.py:440\u001b[0m, in \u001b[0;36mHTTPAdapter.send\u001b[1;34m(self, request, stream, timeout, verify, cert, proxies)\u001b[0m\n\u001b[0;32m    439\u001b[0m \u001b[38;5;28;01mif\u001b[39;00m \u001b[38;5;129;01mnot\u001b[39;00m chunked:\n\u001b[1;32m--> 440\u001b[0m     resp \u001b[38;5;241m=\u001b[39m \u001b[43mconn\u001b[49m\u001b[38;5;241;43m.\u001b[39;49m\u001b[43murlopen\u001b[49m\u001b[43m(\u001b[49m\n\u001b[0;32m    441\u001b[0m \u001b[43m        \u001b[49m\u001b[43mmethod\u001b[49m\u001b[38;5;241;43m=\u001b[39;49m\u001b[43mrequest\u001b[49m\u001b[38;5;241;43m.\u001b[39;49m\u001b[43mmethod\u001b[49m\u001b[43m,\u001b[49m\n\u001b[0;32m    442\u001b[0m \u001b[43m        \u001b[49m\u001b[43murl\u001b[49m\u001b[38;5;241;43m=\u001b[39;49m\u001b[43murl\u001b[49m\u001b[43m,\u001b[49m\n\u001b[0;32m    443\u001b[0m \u001b[43m        \u001b[49m\u001b[43mbody\u001b[49m\u001b[38;5;241;43m=\u001b[39;49m\u001b[43mrequest\u001b[49m\u001b[38;5;241;43m.\u001b[39;49m\u001b[43mbody\u001b[49m\u001b[43m,\u001b[49m\n\u001b[0;32m    444\u001b[0m \u001b[43m        \u001b[49m\u001b[43mheaders\u001b[49m\u001b[38;5;241;43m=\u001b[39;49m\u001b[43mrequest\u001b[49m\u001b[38;5;241;43m.\u001b[39;49m\u001b[43mheaders\u001b[49m\u001b[43m,\u001b[49m\n\u001b[0;32m    445\u001b[0m \u001b[43m        \u001b[49m\u001b[43mredirect\u001b[49m\u001b[38;5;241;43m=\u001b[39;49m\u001b[38;5;28;43;01mFalse\u001b[39;49;00m\u001b[43m,\u001b[49m\n\u001b[0;32m    446\u001b[0m \u001b[43m        \u001b[49m\u001b[43massert_same_host\u001b[49m\u001b[38;5;241;43m=\u001b[39;49m\u001b[38;5;28;43;01mFalse\u001b[39;49;00m\u001b[43m,\u001b[49m\n\u001b[0;32m    447\u001b[0m \u001b[43m        \u001b[49m\u001b[43mpreload_content\u001b[49m\u001b[38;5;241;43m=\u001b[39;49m\u001b[38;5;28;43;01mFalse\u001b[39;49;00m\u001b[43m,\u001b[49m\n\u001b[0;32m    448\u001b[0m \u001b[43m        \u001b[49m\u001b[43mdecode_content\u001b[49m\u001b[38;5;241;43m=\u001b[39;49m\u001b[38;5;28;43;01mFalse\u001b[39;49;00m\u001b[43m,\u001b[49m\n\u001b[0;32m    449\u001b[0m \u001b[43m        \u001b[49m\u001b[43mretries\u001b[49m\u001b[38;5;241;43m=\u001b[39;49m\u001b[38;5;28;43mself\u001b[39;49m\u001b[38;5;241;43m.\u001b[39;49m\u001b[43mmax_retries\u001b[49m\u001b[43m,\u001b[49m\n\u001b[0;32m    450\u001b[0m \u001b[43m        \u001b[49m\u001b[43mtimeout\u001b[49m\u001b[38;5;241;43m=\u001b[39;49m\u001b[43mtimeout\u001b[49m\n\u001b[0;32m    451\u001b[0m \u001b[43m    \u001b[49m\u001b[43m)\u001b[49m\n\u001b[0;32m    453\u001b[0m \u001b[38;5;66;03m# Send the request.\u001b[39;00m\n\u001b[0;32m    454\u001b[0m \u001b[38;5;28;01melse\u001b[39;00m:\n",
      "File \u001b[1;32m~\\anaconda3\\lib\\site-packages\\urllib3\\connectionpool.py:785\u001b[0m, in \u001b[0;36mHTTPConnectionPool.urlopen\u001b[1;34m(self, method, url, body, headers, retries, redirect, assert_same_host, timeout, pool_timeout, release_conn, chunked, body_pos, **response_kw)\u001b[0m\n\u001b[0;32m    783\u001b[0m     e \u001b[38;5;241m=\u001b[39m ProtocolError(\u001b[38;5;124m\"\u001b[39m\u001b[38;5;124mConnection aborted.\u001b[39m\u001b[38;5;124m\"\u001b[39m, e)\n\u001b[1;32m--> 785\u001b[0m retries \u001b[38;5;241m=\u001b[39m \u001b[43mretries\u001b[49m\u001b[38;5;241;43m.\u001b[39;49m\u001b[43mincrement\u001b[49m\u001b[43m(\u001b[49m\n\u001b[0;32m    786\u001b[0m \u001b[43m    \u001b[49m\u001b[43mmethod\u001b[49m\u001b[43m,\u001b[49m\u001b[43m \u001b[49m\u001b[43murl\u001b[49m\u001b[43m,\u001b[49m\u001b[43m \u001b[49m\u001b[43merror\u001b[49m\u001b[38;5;241;43m=\u001b[39;49m\u001b[43me\u001b[49m\u001b[43m,\u001b[49m\u001b[43m \u001b[49m\u001b[43m_pool\u001b[49m\u001b[38;5;241;43m=\u001b[39;49m\u001b[38;5;28;43mself\u001b[39;49m\u001b[43m,\u001b[49m\u001b[43m \u001b[49m\u001b[43m_stacktrace\u001b[49m\u001b[38;5;241;43m=\u001b[39;49m\u001b[43msys\u001b[49m\u001b[38;5;241;43m.\u001b[39;49m\u001b[43mexc_info\u001b[49m\u001b[43m(\u001b[49m\u001b[43m)\u001b[49m\u001b[43m[\u001b[49m\u001b[38;5;241;43m2\u001b[39;49m\u001b[43m]\u001b[49m\n\u001b[0;32m    787\u001b[0m \u001b[43m\u001b[49m\u001b[43m)\u001b[49m\n\u001b[0;32m    788\u001b[0m retries\u001b[38;5;241m.\u001b[39msleep()\n",
      "File \u001b[1;32m~\\anaconda3\\lib\\site-packages\\urllib3\\util\\retry.py:592\u001b[0m, in \u001b[0;36mRetry.increment\u001b[1;34m(self, method, url, response, error, _pool, _stacktrace)\u001b[0m\n\u001b[0;32m    591\u001b[0m \u001b[38;5;28;01mif\u001b[39;00m new_retry\u001b[38;5;241m.\u001b[39mis_exhausted():\n\u001b[1;32m--> 592\u001b[0m     \u001b[38;5;28;01mraise\u001b[39;00m MaxRetryError(_pool, url, error \u001b[38;5;129;01mor\u001b[39;00m ResponseError(cause))\n\u001b[0;32m    594\u001b[0m log\u001b[38;5;241m.\u001b[39mdebug(\u001b[38;5;124m\"\u001b[39m\u001b[38;5;124mIncremented Retry for (url=\u001b[39m\u001b[38;5;124m'\u001b[39m\u001b[38;5;132;01m%s\u001b[39;00m\u001b[38;5;124m'\u001b[39m\u001b[38;5;124m): \u001b[39m\u001b[38;5;132;01m%r\u001b[39;00m\u001b[38;5;124m\"\u001b[39m, url, new_retry)\n",
      "\u001b[1;31mMaxRetryError\u001b[0m: HTTPSConnectionPool(host='dx.doi.org', port=443): Max retries exceeded with url: /10.1002/adfm.200400017 (Caused by SSLError(SSLError(1, '[SSL: SSLV3_ALERT_HANDSHAKE_FAILURE] sslv3 alert handshake failure (_ssl.c:1129)')))",
      "\nDuring handling of the above exception, another exception occurred:\n",
      "\u001b[1;31mSSLError\u001b[0m                                  Traceback (most recent call last)",
      "Input \u001b[1;32mIn [58]\u001b[0m, in \u001b[0;36m<cell line: 16>\u001b[1;34m()\u001b[0m\n\u001b[0;32m      1\u001b[0m \u001b[38;5;66;03m#for row in df.iterrows():\u001b[39;00m\n\u001b[0;32m      2\u001b[0m \u001b[38;5;66;03m#    doidict = doi2dict(row)\u001b[39;00m\n\u001b[0;32m      3\u001b[0m \u001b[38;5;66;03m#    print(dodict)\u001b[39;00m\n\u001b[1;32m   (...)\u001b[0m\n\u001b[0;32m     13\u001b[0m \u001b[38;5;66;03m#    print(dodict)\u001b[39;00m\n\u001b[0;32m     14\u001b[0m \u001b[38;5;66;03m#InvalidSchema: No connection adapters were found for 'doi  http://dx.doi.org/10.1002/adfm.201002729\\nName: 0, dtype: object'\u001b[39;00m\n\u001b[0;32m     16\u001b[0m \u001b[38;5;28;01mfor\u001b[39;00m row \u001b[38;5;129;01min\u001b[39;00m df\u001b[38;5;241m.\u001b[39mitertuples():\n\u001b[1;32m---> 17\u001b[0m     doidict \u001b[38;5;241m=\u001b[39m \u001b[43mdoi2dict\u001b[49m\u001b[43m(\u001b[49m\u001b[43mrow\u001b[49m\u001b[43m[\u001b[49m\u001b[38;5;241;43m1\u001b[39;49m\u001b[43m]\u001b[49m\u001b[43m)\u001b[49m\n\u001b[0;32m     18\u001b[0m     \u001b[38;5;28mprint\u001b[39m(doidict)\n",
      "Input \u001b[1;32mIn [1]\u001b[0m, in \u001b[0;36mdoi2dict\u001b[1;34m(doi)\u001b[0m\n\u001b[0;32m     12\u001b[0m headers \u001b[38;5;241m=\u001b[39m {\u001b[38;5;124m\"\u001b[39m\u001b[38;5;124maccept\u001b[39m\u001b[38;5;124m\"\u001b[39m: \u001b[38;5;124m\"\u001b[39m\u001b[38;5;124mapplication/x-bibtex\u001b[39m\u001b[38;5;124m\"\u001b[39m}\n\u001b[0;32m     14\u001b[0m \u001b[38;5;66;03m#reqeusts information specified by bibtex from url\u001b[39;00m\n\u001b[1;32m---> 15\u001b[0m r \u001b[38;5;241m=\u001b[39m \u001b[43mrequests\u001b[49m\u001b[38;5;241;43m.\u001b[39;49m\u001b[43mget\u001b[49m\u001b[43m(\u001b[49m\u001b[43murl\u001b[49m\u001b[43m,\u001b[49m\u001b[43m \u001b[49m\u001b[43mheaders\u001b[49m\u001b[43m \u001b[49m\u001b[38;5;241;43m=\u001b[39;49m\u001b[43m \u001b[49m\u001b[43mheaders\u001b[49m\u001b[43m)\u001b[49m\u001b[38;5;241m.\u001b[39mtext    \n\u001b[0;32m     17\u001b[0m \u001b[38;5;66;03m#parse the returned bibtex text to a dictionary\u001b[39;00m\n\u001b[0;32m     18\u001b[0m \u001b[38;5;66;03m#NOTE: USE bibtexparser.customization to split strings into list, etc. (https://bibtexparser.readthedocs.io/en/master/bibtexparser.html?highlight=bparser#module-bibtexparser.bparser)\u001b[39;00m\n\u001b[0;32m     19\u001b[0m bibdata \u001b[38;5;241m=\u001b[39m bibtexparser\u001b[38;5;241m.\u001b[39mbparser\u001b[38;5;241m.\u001b[39mBibTexParser()\u001b[38;5;241m.\u001b[39mparse(r)\n",
      "File \u001b[1;32m~\\anaconda3\\lib\\site-packages\\requests\\api.py:75\u001b[0m, in \u001b[0;36mget\u001b[1;34m(url, params, **kwargs)\u001b[0m\n\u001b[0;32m     64\u001b[0m \u001b[38;5;28;01mdef\u001b[39;00m \u001b[38;5;21mget\u001b[39m(url, params\u001b[38;5;241m=\u001b[39m\u001b[38;5;28;01mNone\u001b[39;00m, \u001b[38;5;241m*\u001b[39m\u001b[38;5;241m*\u001b[39mkwargs):\n\u001b[0;32m     65\u001b[0m     \u001b[38;5;124mr\u001b[39m\u001b[38;5;124;03m\"\"\"Sends a GET request.\u001b[39;00m\n\u001b[0;32m     66\u001b[0m \n\u001b[0;32m     67\u001b[0m \u001b[38;5;124;03m    :param url: URL for the new :class:`Request` object.\u001b[39;00m\n\u001b[1;32m   (...)\u001b[0m\n\u001b[0;32m     72\u001b[0m \u001b[38;5;124;03m    :rtype: requests.Response\u001b[39;00m\n\u001b[0;32m     73\u001b[0m \u001b[38;5;124;03m    \"\"\"\u001b[39;00m\n\u001b[1;32m---> 75\u001b[0m     \u001b[38;5;28;01mreturn\u001b[39;00m request(\u001b[38;5;124m'\u001b[39m\u001b[38;5;124mget\u001b[39m\u001b[38;5;124m'\u001b[39m, url, params\u001b[38;5;241m=\u001b[39mparams, \u001b[38;5;241m*\u001b[39m\u001b[38;5;241m*\u001b[39mkwargs)\n",
      "File \u001b[1;32m~\\anaconda3\\lib\\site-packages\\requests\\api.py:61\u001b[0m, in \u001b[0;36mrequest\u001b[1;34m(method, url, **kwargs)\u001b[0m\n\u001b[0;32m     57\u001b[0m \u001b[38;5;66;03m# By using the 'with' statement we are sure the session is closed, thus we\u001b[39;00m\n\u001b[0;32m     58\u001b[0m \u001b[38;5;66;03m# avoid leaving sockets open which can trigger a ResourceWarning in some\u001b[39;00m\n\u001b[0;32m     59\u001b[0m \u001b[38;5;66;03m# cases, and look like a memory leak in others.\u001b[39;00m\n\u001b[0;32m     60\u001b[0m \u001b[38;5;28;01mwith\u001b[39;00m sessions\u001b[38;5;241m.\u001b[39mSession() \u001b[38;5;28;01mas\u001b[39;00m session:\n\u001b[1;32m---> 61\u001b[0m     \u001b[38;5;28;01mreturn\u001b[39;00m session\u001b[38;5;241m.\u001b[39mrequest(method\u001b[38;5;241m=\u001b[39mmethod, url\u001b[38;5;241m=\u001b[39murl, \u001b[38;5;241m*\u001b[39m\u001b[38;5;241m*\u001b[39mkwargs)\n",
      "File \u001b[1;32m~\\anaconda3\\lib\\site-packages\\requests\\sessions.py:529\u001b[0m, in \u001b[0;36mSession.request\u001b[1;34m(self, method, url, params, data, headers, cookies, files, auth, timeout, allow_redirects, proxies, hooks, stream, verify, cert, json)\u001b[0m\n\u001b[0;32m    524\u001b[0m send_kwargs \u001b[38;5;241m=\u001b[39m {\n\u001b[0;32m    525\u001b[0m     \u001b[38;5;124m'\u001b[39m\u001b[38;5;124mtimeout\u001b[39m\u001b[38;5;124m'\u001b[39m: timeout,\n\u001b[0;32m    526\u001b[0m     \u001b[38;5;124m'\u001b[39m\u001b[38;5;124mallow_redirects\u001b[39m\u001b[38;5;124m'\u001b[39m: allow_redirects,\n\u001b[0;32m    527\u001b[0m }\n\u001b[0;32m    528\u001b[0m send_kwargs\u001b[38;5;241m.\u001b[39mupdate(settings)\n\u001b[1;32m--> 529\u001b[0m resp \u001b[38;5;241m=\u001b[39m \u001b[38;5;28mself\u001b[39m\u001b[38;5;241m.\u001b[39msend(prep, \u001b[38;5;241m*\u001b[39m\u001b[38;5;241m*\u001b[39msend_kwargs)\n\u001b[0;32m    531\u001b[0m \u001b[38;5;28;01mreturn\u001b[39;00m resp\n",
      "File \u001b[1;32m~\\anaconda3\\lib\\site-packages\\requests\\sessions.py:667\u001b[0m, in \u001b[0;36mSession.send\u001b[1;34m(self, request, **kwargs)\u001b[0m\n\u001b[0;32m    664\u001b[0m \u001b[38;5;28;01mif\u001b[39;00m allow_redirects:\n\u001b[0;32m    665\u001b[0m     \u001b[38;5;66;03m# Redirect resolving generator.\u001b[39;00m\n\u001b[0;32m    666\u001b[0m     gen \u001b[38;5;241m=\u001b[39m \u001b[38;5;28mself\u001b[39m\u001b[38;5;241m.\u001b[39mresolve_redirects(r, request, \u001b[38;5;241m*\u001b[39m\u001b[38;5;241m*\u001b[39mkwargs)\n\u001b[1;32m--> 667\u001b[0m     history \u001b[38;5;241m=\u001b[39m [resp \u001b[38;5;28;01mfor\u001b[39;00m resp \u001b[38;5;129;01min\u001b[39;00m gen]\n\u001b[0;32m    668\u001b[0m \u001b[38;5;28;01melse\u001b[39;00m:\n\u001b[0;32m    669\u001b[0m     history \u001b[38;5;241m=\u001b[39m []\n",
      "File \u001b[1;32m~\\anaconda3\\lib\\site-packages\\requests\\sessions.py:667\u001b[0m, in \u001b[0;36m<listcomp>\u001b[1;34m(.0)\u001b[0m\n\u001b[0;32m    664\u001b[0m \u001b[38;5;28;01mif\u001b[39;00m allow_redirects:\n\u001b[0;32m    665\u001b[0m     \u001b[38;5;66;03m# Redirect resolving generator.\u001b[39;00m\n\u001b[0;32m    666\u001b[0m     gen \u001b[38;5;241m=\u001b[39m \u001b[38;5;28mself\u001b[39m\u001b[38;5;241m.\u001b[39mresolve_redirects(r, request, \u001b[38;5;241m*\u001b[39m\u001b[38;5;241m*\u001b[39mkwargs)\n\u001b[1;32m--> 667\u001b[0m     history \u001b[38;5;241m=\u001b[39m [resp \u001b[38;5;28;01mfor\u001b[39;00m resp \u001b[38;5;129;01min\u001b[39;00m gen]\n\u001b[0;32m    668\u001b[0m \u001b[38;5;28;01melse\u001b[39;00m:\n\u001b[0;32m    669\u001b[0m     history \u001b[38;5;241m=\u001b[39m []\n",
      "File \u001b[1;32m~\\anaconda3\\lib\\site-packages\\requests\\sessions.py:237\u001b[0m, in \u001b[0;36mSessionRedirectMixin.resolve_redirects\u001b[1;34m(self, resp, req, stream, timeout, verify, cert, proxies, yield_requests, **adapter_kwargs)\u001b[0m\n\u001b[0;32m    234\u001b[0m     \u001b[38;5;28;01myield\u001b[39;00m req\n\u001b[0;32m    235\u001b[0m \u001b[38;5;28;01melse\u001b[39;00m:\n\u001b[1;32m--> 237\u001b[0m     resp \u001b[38;5;241m=\u001b[39m \u001b[38;5;28mself\u001b[39m\u001b[38;5;241m.\u001b[39msend(\n\u001b[0;32m    238\u001b[0m         req,\n\u001b[0;32m    239\u001b[0m         stream\u001b[38;5;241m=\u001b[39mstream,\n\u001b[0;32m    240\u001b[0m         timeout\u001b[38;5;241m=\u001b[39mtimeout,\n\u001b[0;32m    241\u001b[0m         verify\u001b[38;5;241m=\u001b[39mverify,\n\u001b[0;32m    242\u001b[0m         cert\u001b[38;5;241m=\u001b[39mcert,\n\u001b[0;32m    243\u001b[0m         proxies\u001b[38;5;241m=\u001b[39mproxies,\n\u001b[0;32m    244\u001b[0m         allow_redirects\u001b[38;5;241m=\u001b[39m\u001b[38;5;28;01mFalse\u001b[39;00m,\n\u001b[0;32m    245\u001b[0m         \u001b[38;5;241m*\u001b[39m\u001b[38;5;241m*\u001b[39madapter_kwargs\n\u001b[0;32m    246\u001b[0m     )\n\u001b[0;32m    248\u001b[0m     extract_cookies_to_jar(\u001b[38;5;28mself\u001b[39m\u001b[38;5;241m.\u001b[39mcookies, prepared_request, resp\u001b[38;5;241m.\u001b[39mraw)\n\u001b[0;32m    250\u001b[0m     \u001b[38;5;66;03m# extract redirect url, if any, for the next loop\u001b[39;00m\n",
      "File \u001b[1;32m~\\anaconda3\\lib\\site-packages\\requests\\sessions.py:645\u001b[0m, in \u001b[0;36mSession.send\u001b[1;34m(self, request, **kwargs)\u001b[0m\n\u001b[0;32m    642\u001b[0m start \u001b[38;5;241m=\u001b[39m preferred_clock()\n\u001b[0;32m    644\u001b[0m \u001b[38;5;66;03m# Send the request\u001b[39;00m\n\u001b[1;32m--> 645\u001b[0m r \u001b[38;5;241m=\u001b[39m adapter\u001b[38;5;241m.\u001b[39msend(request, \u001b[38;5;241m*\u001b[39m\u001b[38;5;241m*\u001b[39mkwargs)\n\u001b[0;32m    647\u001b[0m \u001b[38;5;66;03m# Total elapsed time of the request (approximately)\u001b[39;00m\n\u001b[0;32m    648\u001b[0m elapsed \u001b[38;5;241m=\u001b[39m preferred_clock() \u001b[38;5;241m-\u001b[39m start\n",
      "File \u001b[1;32m~\\anaconda3\\lib\\site-packages\\requests\\adapters.py:517\u001b[0m, in \u001b[0;36mHTTPAdapter.send\u001b[1;34m(self, request, stream, timeout, verify, cert, proxies)\u001b[0m\n\u001b[0;32m    513\u001b[0m         \u001b[38;5;28;01mraise\u001b[39;00m ProxyError(e, request\u001b[38;5;241m=\u001b[39mrequest)\n\u001b[0;32m    515\u001b[0m     \u001b[38;5;28;01mif\u001b[39;00m \u001b[38;5;28misinstance\u001b[39m(e\u001b[38;5;241m.\u001b[39mreason, _SSLError):\n\u001b[0;32m    516\u001b[0m         \u001b[38;5;66;03m# This branch is for urllib3 v1.22 and later.\u001b[39;00m\n\u001b[1;32m--> 517\u001b[0m         \u001b[38;5;28;01mraise\u001b[39;00m SSLError(e, request\u001b[38;5;241m=\u001b[39mrequest)\n\u001b[0;32m    519\u001b[0m     \u001b[38;5;28;01mraise\u001b[39;00m \u001b[38;5;167;01mConnectionError\u001b[39;00m(e, request\u001b[38;5;241m=\u001b[39mrequest)\n\u001b[0;32m    521\u001b[0m \u001b[38;5;28;01mexcept\u001b[39;00m ClosedPoolError \u001b[38;5;28;01mas\u001b[39;00m e:\n",
      "\u001b[1;31mSSLError\u001b[0m: HTTPSConnectionPool(host='dx.doi.org', port=443): Max retries exceeded with url: /10.1002/adfm.200400017 (Caused by SSLError(SSLError(1, '[SSL: SSLV3_ALERT_HANDSHAKE_FAILURE] sslv3 alert handshake failure (_ssl.c:1129)')))"
     ]
    }
   ],
   "source": [
    "#Failed\n",
    "\n",
    "for row in df.iterrows():\n",
    "    doidict = doi2dict(row)\n",
    "    print(dodict)\n",
    " TypeError: can only concatenate str (not \"tuple\") to str\n",
    "\n",
    "for row in df.itertuples():\n",
    "    doidict = doi2dict(row)\n",
    "    print(doidict)\n",
    " TypeError: can only concatenate str (not \"Pandas\") to str\n",
    "\n",
    "for row in df.iterrows():\n",
    "    doidict = doi2dict(row[1])\n",
    "    print(dodict)\n",
    "InvalidSchema: No connection adapters were found for 'doi  http://dx.doi.org/10.1002/adfm.201002729\\nName: 0, dtype: object'"
   ]
  },
  {
   "cell_type": "code",
   "execution_count": 93,
   "metadata": {},
   "outputs": [
    {
     "name": "stdout",
     "output_type": "stream",
     "text": [
      "{'journal': 'Advanced Functional Materials', 'title': 'Tunable Crystallinity in Regioregular Poly(3-Hexylthiophene) Thin Films and Its Impact on Field Effect Mobility', 'author': 'Avishek R. Aiyar and Jung-Il Hong and Rakesh Nambiar and David M. Collard and Elsa Reichmanis', 'pages': '2652--2659', 'number': '14', 'volume': '21', 'publisher': 'Wiley', 'month': 'may', 'year': '2011', 'url': 'https://doi.org/10.1002%2Fadfm.201002729', 'doi': '10.1002/adfm.201002729', 'ENTRYTYPE': 'article', 'ID': 'Aiyar_2011'}\n",
      "{'journal': '{ACS} Applied Materials {\\\\&}amp$\\\\mathsemicolon$ Interfaces', 'title': 'Ultrasound-Induced Ordering in Poly(3-hexylthiophene): Role of Molecular and Process Parameters on Morphology and Charge Transport', 'author': 'Avishek R. Aiyar and Jung-Il Hong and Jessica Izumi and Dalsu Choi and Nabil Kleinhenz and Elsa Reichmanis', 'pages': '2368--2377', 'number': '7', 'volume': '5', 'publisher': 'American Chemical Society ({ACS})', 'month': 'mar', 'year': '2013', 'url': 'https://doi.org/10.1021%2Fam3027822', 'doi': '10.1021/am3027822', 'ENTRYTYPE': 'article', 'ID': 'Aiyar_2013'}\n",
      "{'journal': 'Organic Electronics', 'title': 'Effect of solution aging on morphology and electrical characteristics of regioregular P3HT {FETs} fabricated by spin coating and spray coating', 'author': 'U. Bielecka and P. Lutsyk and K. Janus and J. Sworakowski and W. Bartkowiak', 'pages': '1768--1776', 'number': '11', 'volume': '12', 'publisher': 'Elsevier {BV}', 'month': 'nov', 'year': '2011', 'url': 'https://doi.org/10.1016%2Fj.orgel.2011.06.027', 'doi': '10.1016/j.orgel.2011.06.027', 'ENTRYTYPE': 'article', 'ID': 'Bielecka_2011'}\n",
      "{'journal': 'Chemistry of Materials', 'title': 'Enhanced Mobility of Poly(3-hexylthiophene) Transistors by Spin-Coating from High-Boiling-Point Solvents', 'author': 'Jui-Fen Chang and Baoquan Sun and Dag W. Breiby and Martin M. Nielsen and Theis I. SÃ¶lling and Mark Giles and Iain McCulloch and Henning Sirringhaus', 'pages': '4772--4776', 'number': '23', 'volume': '16', 'publisher': 'American Chemical Society ({ACS})', 'month': 'jul', 'year': '2004', 'url': 'https://doi.org/10.1021%2Fcm049617w', 'doi': '10.1021/cm049617w', 'ENTRYTYPE': 'article', 'ID': 'Chang_2004'}\n",
      "{'journal': 'Physical Review B', 'title': 'Molecular-weight dependence of interchain polaron delocalization and exciton bandwidth in high-mobility conjugated polymers', 'author': 'Jui-Fen Chang and Jenny Clark and Ni Zhao and Henning Sirringhaus and Dag W. Breiby and Jens W. Andreasen and Martin M. Nielsen and Mark Giles and Martin Heeney and Iain McCulloch', 'number': '11', 'volume': '74', 'publisher': 'American Physical Society ({APS})', 'month': 'sep', 'year': '2006', 'url': 'https://doi.org/10.1103%2Fphysrevb.74.115318', 'doi': '10.1103/physrevb.74.115318', 'ENTRYTYPE': 'article', 'ID': 'Chang_2006'}\n",
      "{'journal': '{ACS} Nano', 'title': 'Solvent Based Hydrogen Bonding: Impact on Poly(3-hexylthiophene) Nanoscale Morphology and Charge Transport Characteristics', 'author': 'Mincheol Chang and Dalsu Choi and Boyi Fu and Elsa Reichmanis', 'pages': '5402--5413', 'number': '6', 'volume': '7', 'publisher': 'American Chemical Society ({ACS})', 'month': 'may', 'year': '2013', 'url': 'https://doi.org/10.1021%2Fnn401323f', 'doi': '10.1021/nn401323f', 'ENTRYTYPE': 'article', 'ID': 'Chang_2013'}\n",
      "{'journal': 'Journal of Applied Physics', 'title': 'Thermal annealing-induced enhancement of the field-effect mobility of regioregular poly(3-hexylthiophene) films', 'author': 'Shinuk Cho and Kwanghee Lee and Jonathan Yuen and Guangming Wang and Daniel Moses and Alan J. Heeger and Mathieu Surin and Roberto Lazzaroni', 'pages': '114503', 'number': '11', 'volume': '100', 'publisher': '{AIP} Publishing', 'year': '2006', 'url': 'https://doi.org/10.1063%2F1.2400796', 'doi': '10.1063/1.2400796', 'ENTRYTYPE': 'article', 'ID': 'Cho_2006'}\n",
      "{'journal': 'Advanced Functional Materials', 'title': 'Controlled Assembly of Poly(3-hexylthiophene): Managing the Disorder to Order Transition on the Nano- through Meso-Scales', 'author': 'Dalsu Choi and Mincheol Chang and Elsa Reichmanis', 'pages': '920--927', 'number': '6', 'volume': '25', 'publisher': 'Wiley', 'month': 'dec', 'year': '2014', 'url': 'https://doi.org/10.1002%2Fadfm.201403708', 'doi': '10.1002/adfm.201403708', 'ENTRYTYPE': 'article', 'ID': 'Choi_2014'}\n",
      "{'journal': 'Advanced Functional Materials', 'title': 'Controlled Assembly of Poly(3-hexylthiophene): Managing the Disorder to Order Transition on the Nano- through Meso-Scales', 'author': 'Dalsu Choi and Mincheol Chang and Elsa Reichmanis', 'pages': '920--927', 'number': '6', 'volume': '25', 'publisher': 'Wiley', 'month': 'dec', 'year': '2014', 'url': 'https://doi.org/10.1002%2Fadfm.201403708', 'doi': '10.1002/adfm.201403708', 'ENTRYTYPE': 'article', 'ID': 'Choi_2014'}\n",
      "{'journal': 'Optoelectronics Letters', 'title': 'Effects of P3HT concentration on the performance of organic field effect transistors', 'author': 'Chun-xia Jiang and Xiao-man Cheng and Xiao-ming Wu and Xiao-yan Yang and Bin Yin and Yu-lin Hua and Jun Wei and Shou-gen Yin', 'pages': '30--32', 'number': '1', 'volume': '7', 'publisher': 'Springer Science and Business Media {LLC}', 'month': 'jan', 'year': '2011', 'url': 'https://doi.org/10.1007%2Fs11801-011-0122-z', 'doi': '10.1007/s11801-011-0122-z', 'ENTRYTYPE': 'article', 'ID': 'Jiang_2011'}\n",
      "{'journal': 'Advanced Materials', 'title': 'Controlling the Field-Effect Mobility of Regioregular Polythiophene by Changing the Molecular Weight', 'author': \"R.J. Kline and M.D. McGehee and E.N. Kadnikova and J. Liu and J.M.J. Fr{\\\\'{e}}chet\", 'pages': '1519--1522', 'number': '18', 'volume': '15', 'publisher': 'Wiley', 'month': 'sep', 'year': '2003', 'url': 'https://doi.org/10.1002%2Fadma.200305275', 'doi': '10.1002/adma.200305275', 'ENTRYTYPE': 'article', 'ID': 'Kline_2003'}\n",
      "{'journal': 'Advanced Materials', 'title': 'Controlling the Field-Effect Mobility of Regioregular Polythiophene by Changing the Molecular Weight', 'author': \"R.J. Kline and M.D. McGehee and E.N. Kadnikova and J. Liu and J.M.J. Fr{\\\\'{e}}chet\", 'pages': '1519--1522', 'number': '18', 'volume': '15', 'publisher': 'Wiley', 'month': 'sep', 'year': '2003', 'url': 'https://doi.org/10.1002%2Fadma.200305275', 'doi': '10.1002/adma.200305275', 'ENTRYTYPE': 'article', 'ID': 'Kline_2003'}\n",
      "{'journal': 'Macromolecules', 'title': 'Dependence of Regioregular Poly(3-hexylthiophene) Film Morphology and Field-Effect Mobility on Molecular Weight', 'author': \"R. Joseph Kline and Michael D. McGehee and Ekaterina N. Kadnikova and Jinsong Liu and Jean M. J. Fr{\\\\'{e}}chet and Michael F. Toney\", 'pages': '3312--3319', 'number': '8', 'volume': '38', 'publisher': 'American Chemical Society ({ACS})', 'month': 'mar', 'year': '2005', 'url': 'https://doi.org/10.1021%2Fma047415f', 'doi': '10.1021/ma047415f', 'ENTRYTYPE': 'article', 'ID': 'Kline_2005'}\n",
      "{'journal': 'Macromolecules', 'title': 'Mesoscale Morphology and Charge Transport in Colloidal Networks of Poly(3-hexylthiophene)', 'author': 'Gregory M. Newbloom and Felix S. Kim and Samson A. Jenekhe and Danilo C. Pozzo', 'pages': '3801--3809', 'number': '10', 'volume': '44', 'publisher': 'American Chemical Society ({ACS})', 'month': 'may', 'year': '2011', 'url': 'https://doi.org/10.1021%2Fma2000515', 'doi': '10.1021/ma2000515', 'ENTRYTYPE': 'article', 'ID': 'Newbloom_2011'}\n",
      "{'journal': 'Macromolecules', 'title': 'Mesoscale Morphology and Charge Transport in Colloidal Networks of Poly(3-hexylthiophene)', 'author': 'Gregory M. Newbloom and Felix S. Kim and Samson A. Jenekhe and Danilo C. Pozzo', 'pages': '3801--3809', 'number': '10', 'volume': '44', 'publisher': 'American Chemical Society ({ACS})', 'month': 'may', 'year': '2011', 'url': 'https://doi.org/10.1021%2Fma2000515', 'doi': '10.1021/ma2000515', 'ENTRYTYPE': 'article', 'ID': 'Newbloom_2011'}\n",
      "{'journal': 'The Journal of Physical Chemistry C', 'title': 'Charge Transport in Ordered and Disordered Regions in Pristine and Sonicated-Poly(3-hexylthiophene) Films', 'author': 'Byoungnam Park and Doo-Hyun Ko', 'pages': '1746--1752', 'number': '3', 'volume': '118', 'publisher': 'American Chemical Society ({ACS})', 'month': 'jan', 'year': '2014', 'url': 'https://doi.org/10.1021%2Fjp4116047', 'doi': '10.1021/jp4116047', 'ENTRYTYPE': 'article', 'ID': 'Park_2014'}\n"
     ]
    },
    {
     "name": "stdout",
     "output_type": "stream",
     "text": [
      "{'journal': 'Journal of Polymer Science Part B: Polymer Physics', 'title': 'Control of aggregate formation in poly(3-hexylthiophene) by solvent, molecular weight, and synthetic method', 'author': 'Christina Scharsich and Ruth H. Lohwasser and Michael Sommer and Udom Asawapirom and Ullrich Scherf and Mukundan Thelakkat and Dieter Neher and Anna KÃ¶hler', 'pages': '442--453', 'number': '6', 'volume': '50', 'publisher': 'Wiley', 'month': 'dec', 'year': '2011', 'url': 'https://doi.org/10.1002%2Fpolb.23022', 'doi': '10.1002/polb.23022', 'ENTRYTYPE': 'article', 'ID': 'Scharsich_2011'}\n",
      "{'journal': 'Journal of Polymer Science Part B: Polymer Physics', 'title': 'Control of aggregate formation in poly(3-hexylthiophene) by solvent, molecular weight, and synthetic method', 'author': 'Christina Scharsich and Ruth H. Lohwasser and Michael Sommer and Udom Asawapirom and Ullrich Scherf and Mukundan Thelakkat and Dieter Neher and Anna KÃ¶hler', 'pages': '442--453', 'number': '6', 'volume': '50', 'publisher': 'Wiley', 'month': 'dec', 'year': '2011', 'url': 'https://doi.org/10.1002%2Fpolb.23022', 'doi': '10.1002/polb.23022', 'ENTRYTYPE': 'article', 'ID': 'Scharsich_2011'}\n",
      "{'journal': 'Journal of Applied Physics', 'title': 'Relationship between the microscopic morphology and the charge transport properties in poly(3-hexylthiophene) field-effect transistors', 'author': 'M. Surin and Ph. Lecl{\\\\`{e}}re and R. Lazzaroni and J. D. Yuen and G. Wang and D. Moses and A. J. Heeger and S. Cho and K. Lee', 'pages': '033712', 'number': '3', 'volume': '100', 'publisher': '{AIP} Publishing', 'month': 'aug', 'year': '2006', 'url': 'https://doi.org/10.1063%2F1.2222065', 'doi': '10.1063/1.2222065', 'ENTRYTYPE': 'article', 'ID': 'Surin_2006'}\n",
      "{'journal': 'Journal of Applied Physics', 'title': 'Relationship between the microscopic morphology and the charge transport properties in poly(3-hexylthiophene) field-effect transistors', 'author': 'M. Surin and Ph. Lecl{\\\\`{e}}re and R. Lazzaroni and J. D. Yuen and G. Wang and D. Moses and A. J. Heeger and S. Cho and K. Lee', 'pages': '033712', 'number': '3', 'volume': '100', 'publisher': '{AIP} Publishing', 'month': 'aug', 'year': '2006', 'url': 'https://doi.org/10.1063%2F1.2222065', 'doi': '10.1063/1.2222065', 'ENTRYTYPE': 'article', 'ID': 'Surin_2006'}\n",
      "{'journal': 'Synthetic Metals', 'title': 'N-Aryl carbazole derivatives for non-doped red {OLEDs}', 'author': 'Hui-ying Fu and Huan-rong Wu and Xiao-yuan Hou and Fei Xiao and Bing-xian Shao', 'pages': '809--814', 'number': '11-13', 'volume': '156', 'publisher': 'Elsevier {BV}', 'month': 'jun', 'year': '2006', 'url': 'https://doi.org/10.1016%2Fj.synthmet.2006.04.013', 'doi': '10.1016/j.synthmet.2006.04.013', 'ENTRYTYPE': 'article', 'ID': 'Fu_2006'}\n",
      "{'journal': 'Advanced Functional Materials', 'title': 'Effect of Molecular Weight and Annealing of Poly(3-hexylthiophene)s on the Performance of Organic Field-Effect Transistors', 'author': 'A. Zen and J. Pflaum and S. Hirschmann and W. Zhuang and F. Jaiser and U. Asawapirom and J.{\\\\hspace{0.167em}}P. Rabe and U. Scherf and D. Neher', 'pages': '757--764', 'number': '8', 'volume': '14', 'publisher': 'Wiley', 'month': 'aug', 'year': '2004', 'url': 'https://doi.org/10.1002%2Fadfm.200400017', 'doi': '10.1002/adfm.200400017', 'ENTRYTYPE': 'article', 'ID': 'Zen_2004'}\n",
      "{'journal': 'Advanced Functional Materials', 'title': 'Entanglement of Conjugated Polymer Chains Influences Molecular Self-Assembly and Carrier Transport', 'author': 'Kui Zhao and Hadayat Ullah Khan and Ruipeng Li and Yisong Su and Aram Amassian', 'pages': '6024--6035', 'number': '48', 'volume': '23', 'publisher': 'Wiley', 'month': 'jun', 'year': '2013', 'url': 'https://doi.org/10.1002%2Fadfm.201301007', 'doi': '10.1002/adfm.201301007', 'ENTRYTYPE': 'article', 'ID': 'Zhao_2013'}\n"
     ]
    }
   ],
   "source": [
    "for row in df.itertuples():\n",
    "    doidict = doi2dict(row[1])\n",
    "    print(doidict)"
   ]
  },
  {
   "cell_type": "code",
   "execution_count": 16,
   "metadata": {},
   "outputs": [
    {
     "ename": "UniqueViolation",
     "evalue": "오류:  중복된 키 값이 \"articles_citation_type_meta_key\" 고유 제약 조건을 위반함\nDETAIL:  (citation_type, meta)=(literature, {\"ID\": \"Choi_2014\", \"doi\": \"10.1002/adfm.201403708\", \"url\": \"https://doi.org/10.1002%2Fadfm.201403708\", \"year\": \"2014\", \"month\": \"dec\", \"pages\": \"920--927\", \"title\": \"Controlled Assembly of Poly(3-hexylthiophene): Managing the Disorder to Order Transition on the Nano- through Meso-Scales\", \"author\": \"Dalsu Choi and Mincheol Chang and Elsa Reichmanis\", \"number\": \"6\", \"volume\": \"25\", \"journal\": \"Advanced Functional Materials\", \"ENTRYTYPE\": \"article\", \"publisher\": \"Wiley\"}) 키가 이미 있습니다.\n",
     "output_type": "error",
     "traceback": [
      "\u001b[1;31m---------------------------------------------------------------------------\u001b[0m",
      "\u001b[1;31mUniqueViolation\u001b[0m                           Traceback (most recent call last)",
      "Input \u001b[1;32mIn [16]\u001b[0m, in \u001b[0;36m<cell line: 3>\u001b[1;34m()\u001b[0m\n\u001b[0;32m      9\u001b[0m     conn \u001b[38;5;241m=\u001b[39m pg\u001b[38;5;241m.\u001b[39mconnect(\u001b[38;5;241m*\u001b[39m\u001b[38;5;241m*\u001b[39mkwargs)\n\u001b[0;32m     11\u001b[0m     cur \u001b[38;5;241m=\u001b[39m conn\u001b[38;5;241m.\u001b[39mcursor()\n\u001b[1;32m---> 12\u001b[0m     \u001b[43mcur\u001b[49m\u001b[38;5;241;43m.\u001b[39;49m\u001b[43mexecute\u001b[49m\u001b[43m(\u001b[49m\u001b[43msql\u001b[49m\u001b[43m,\u001b[49m\u001b[43m \u001b[49m\u001b[43mtup\u001b[49m\u001b[43m)\u001b[49m\n\u001b[0;32m     13\u001b[0m     conn\u001b[38;5;241m.\u001b[39mcommit()\n\u001b[0;32m     15\u001b[0m \u001b[38;5;28mprint\u001b[39m(\u001b[38;5;124m\"\u001b[39m\u001b[38;5;124mConnection Successful\u001b[39m\u001b[38;5;124m\"\u001b[39m)\n",
      "\u001b[1;31mUniqueViolation\u001b[0m: 오류:  중복된 키 값이 \"articles_citation_type_meta_key\" 고유 제약 조건을 위반함\nDETAIL:  (citation_type, meta)=(literature, {\"ID\": \"Choi_2014\", \"doi\": \"10.1002/adfm.201403708\", \"url\": \"https://doi.org/10.1002%2Fadfm.201403708\", \"year\": \"2014\", \"month\": \"dec\", \"pages\": \"920--927\", \"title\": \"Controlled Assembly of Poly(3-hexylthiophene): Managing the Disorder to Order Transition on the Nano- through Meso-Scales\", \"author\": \"Dalsu Choi and Mincheol Chang and Elsa Reichmanis\", \"number\": \"6\", \"volume\": \"25\", \"journal\": \"Advanced Functional Materials\", \"ENTRYTYPE\": \"article\", \"publisher\": \"Wiley\"}) 키가 이미 있습니다.\n"
     ]
    }
   ],
   "source": [
    "sql = \"\"\"INSERT INTO Articles(%s) VALUES %s\"\"\"\n",
    "    \n",
    "for row in df.itertuples():\n",
    "    doidict = doi2dict(row[1])\n",
    "    columns = ['citation_type', 'meta']\n",
    "    values = ['literature', Json(doidict)]\n",
    "    tup = (AsIs(','.join(columns)), tuple(values))\n",
    "\n",
    "    conn = pg.connect(**kwargs)\n",
    "    \n",
    "    cur = conn.cursor()\n",
    "    cur.execute(sql, tup)\n",
    "    conn.commit()\n",
    "    \n",
    "print(\"Connection Successful\")\n",
    "print(\"Table(s) created successfully\")\n",
    "print(\"Operation successful\")\n",
    "\n",
    "conn.close()"
   ]
  },
  {
   "cell_type": "code",
   "execution_count": 94,
   "metadata": {},
   "outputs": [
    {
     "ename": "InvalidColumnReference",
     "evalue": "오류:  ON CONFLICT 절을 사용하는 경우, unique 나 exclude 제약 조건이 있어야 함\n",
     "output_type": "error",
     "traceback": [
      "\u001b[1;31m---------------------------------------------------------------------------\u001b[0m",
      "\u001b[1;31mInvalidColumnReference\u001b[0m                    Traceback (most recent call last)",
      "Input \u001b[1;32mIn [94]\u001b[0m, in \u001b[0;36m<cell line: 9>\u001b[1;34m()\u001b[0m\n\u001b[0;32m     15\u001b[0m     conn \u001b[38;5;241m=\u001b[39m pg\u001b[38;5;241m.\u001b[39mconnect(\u001b[38;5;241m*\u001b[39m\u001b[38;5;241m*\u001b[39mkwargs)\n\u001b[0;32m     17\u001b[0m     cur \u001b[38;5;241m=\u001b[39m conn\u001b[38;5;241m.\u001b[39mcursor()\n\u001b[1;32m---> 18\u001b[0m     \u001b[43mcur\u001b[49m\u001b[38;5;241;43m.\u001b[39;49m\u001b[43mexecute\u001b[49m\u001b[43m(\u001b[49m\u001b[43msql\u001b[49m\u001b[43m,\u001b[49m\u001b[43m \u001b[49m\u001b[43mtup\u001b[49m\u001b[43m)\u001b[49m\n\u001b[0;32m     20\u001b[0m \u001b[38;5;28mprint\u001b[39m(\u001b[38;5;124m\"\u001b[39m\u001b[38;5;124mConnection Successful\u001b[39m\u001b[38;5;124m\"\u001b[39m)\n\u001b[0;32m     23\u001b[0m \u001b[38;5;28mprint\u001b[39m(\u001b[38;5;124m\"\u001b[39m\u001b[38;5;124mTable(s) created successfully\u001b[39m\u001b[38;5;124m\"\u001b[39m)\n",
      "\u001b[1;31mInvalidColumnReference\u001b[0m: 오류:  ON CONFLICT 절을 사용하는 경우, unique 나 exclude 제약 조건이 있어야 함\n"
     ]
    }
   ],
   "source": [
    "#Failed\n",
    "\n",
    "sql = \"\"\"INSERT INTO Articles(%s) VALUES %s\n",
    "\n",
    "ON CONFLICT (citation_type) DO UPDATE\n",
    "    SET citation_type = excluded.citation_type,\n",
    "        meta = excluded.meta\"\"\"\n",
    "    \n",
    "for row in df.itertuples():\n",
    "    doidict = doi2dict(row[1])\n",
    "    columns = ['citation_type', 'meta']\n",
    "    values = ['literature', Json(doidict)]\n",
    "    tup = (AsIs(','.join(columns)), tuple(values))\n",
    "\n",
    "    conn = pg.connect(**kwargs)\n",
    "    \n",
    "    cur = conn.cursor()\n",
    "    cur.execute(sql, tup)\n",
    "    conn.commit()\n",
    "    \n",
    "print(\"Connection Successful\")\n",
    "print(\"Table(s) created successfully\")\n",
    "print(\"Operation successful\")\n",
    "\n",
    "conn.close()\n",
    "\n",
    "# Error: when use \"ON CONFLICT\", unique or exclude conditoin shoul existe"
   ]
  },
  {
   "cell_type": "code",
   "execution_count": 92,
   "metadata": {},
   "outputs": [
    {
     "ename": "InvalidColumnReference",
     "evalue": "오류:  ON CONFLICT 절을 사용하는 경우, unique 나 exclude 제약 조건이 있어야 함\n",
     "output_type": "error",
     "traceback": [
      "\u001b[1;31m---------------------------------------------------------------------------\u001b[0m",
      "\u001b[1;31mInvalidColumnReference\u001b[0m                    Traceback (most recent call last)",
      "Input \u001b[1;32mIn [92]\u001b[0m, in \u001b[0;36m<cell line: 7>\u001b[1;34m()\u001b[0m\n\u001b[0;32m     13\u001b[0m     conn \u001b[38;5;241m=\u001b[39m pg\u001b[38;5;241m.\u001b[39mconnect(\u001b[38;5;241m*\u001b[39m\u001b[38;5;241m*\u001b[39mkwargs)\n\u001b[0;32m     14\u001b[0m     cur \u001b[38;5;241m=\u001b[39m conn\u001b[38;5;241m.\u001b[39mcursor()\n\u001b[1;32m---> 16\u001b[0m     \u001b[43mcur\u001b[49m\u001b[38;5;241;43m.\u001b[39;49m\u001b[43mexecute\u001b[49m\u001b[43m(\u001b[49m\u001b[43msql\u001b[49m\u001b[43m,\u001b[49m\u001b[43m \u001b[49m\u001b[43mtup\u001b[49m\u001b[43m)\u001b[49m\n\u001b[0;32m     17\u001b[0m     conn\u001b[38;5;241m.\u001b[39mcommit()\n\u001b[0;32m     19\u001b[0m \u001b[38;5;28mprint\u001b[39m(\u001b[38;5;124m\"\u001b[39m\u001b[38;5;124mConnection Successful\u001b[39m\u001b[38;5;124m\"\u001b[39m)\n",
      "\u001b[1;31mInvalidColumnReference\u001b[0m: 오류:  ON CONFLICT 절을 사용하는 경우, unique 나 exclude 제약 조건이 있어야 함\n"
     ]
    }
   ],
   "source": [
    "#Failed\n",
    "\n",
    "sql = \"\"\"INSERT INTO Articles(%s) VALUES %s\n",
    "\n",
    "ON CONFLICT (exp_id) DO UPDATE\n",
    "    SET citation_type = excluded.citation_type,\n",
    "        meta = excluded.meta\"\"\"\n",
    "    \n",
    "for row in df.itertuples():\n",
    "    doidict = doi2dict(row[1])\n",
    "    columns = ['citation_type', 'meta']\n",
    "    values = ['literature', Json(doidict)]\n",
    "    tup = (AsIs(','.join(columns)), tuple(values))\n",
    "\n",
    "    conn = pg.connect(**kwargs)\n",
    "    cur = conn.cursor()\n",
    "    \n",
    "    cur.execute(sql, tup)\n",
    "    conn.commit()\n",
    "    \n",
    "print(\"Connection Successful\")\n",
    "print(\"Table(s) created successfully\")\n",
    "print(\"Operation successful\")\n",
    "\n",
    "conn.close()\n",
    "\n",
    "# result is weired, exp_id is started at #33"
   ]
  },
  {
   "cell_type": "code",
   "execution_count": 99,
   "metadata": {},
   "outputs": [
    {
     "ename": "InvalidColumnReference",
     "evalue": "오류:  ON CONFLICT 절을 사용하는 경우, unique 나 exclude 제약 조건이 있어야 함\n",
     "output_type": "error",
     "traceback": [
      "\u001b[1;31m---------------------------------------------------------------------------\u001b[0m",
      "\u001b[1;31mInvalidColumnReference\u001b[0m                    Traceback (most recent call last)",
      "Input \u001b[1;32mIn [99]\u001b[0m, in \u001b[0;36m<cell line: 7>\u001b[1;34m()\u001b[0m\n\u001b[0;32m     13\u001b[0m     conn \u001b[38;5;241m=\u001b[39m pg\u001b[38;5;241m.\u001b[39mconnect(\u001b[38;5;241m*\u001b[39m\u001b[38;5;241m*\u001b[39mkwargs)\n\u001b[0;32m     15\u001b[0m     cur \u001b[38;5;241m=\u001b[39m conn\u001b[38;5;241m.\u001b[39mcursor()\n\u001b[1;32m---> 16\u001b[0m     \u001b[43mcur\u001b[49m\u001b[38;5;241;43m.\u001b[39;49m\u001b[43mexecute\u001b[49m\u001b[43m(\u001b[49m\u001b[43msql\u001b[49m\u001b[43m,\u001b[49m\u001b[43m \u001b[49m\u001b[43mtup\u001b[49m\u001b[43m)\u001b[49m\n\u001b[0;32m     17\u001b[0m     conn\u001b[38;5;241m.\u001b[39mcommit()\n\u001b[0;32m     19\u001b[0m \u001b[38;5;28mprint\u001b[39m(\u001b[38;5;124m\"\u001b[39m\u001b[38;5;124mConnection Successful\u001b[39m\u001b[38;5;124m\"\u001b[39m)\n",
      "\u001b[1;31mInvalidColumnReference\u001b[0m: 오류:  ON CONFLICT 절을 사용하는 경우, unique 나 exclude 제약 조건이 있어야 함\n"
     ]
    }
   ],
   "source": [
    "sql = \"\"\"INSERT INTO Articles(%s) VALUES %s\n",
    "\n",
    "ON CONFLICT (meta) DO UPDATE\n",
    "    SET citation_type = excluded.citation_type,\n",
    "        meta = excluded.meta\"\"\"\n",
    "    \n",
    "for row in df.itertuples():\n",
    "    doidict = doi2dict(row[1])\n",
    "    columns = ['citation_type', 'meta']\n",
    "    values = ['literature', Json(doidict)]\n",
    "    tup = (AsIs(','.join(columns)), tuple(values))\n",
    "\n",
    "    conn = pg.connect(**kwargs)\n",
    "    \n",
    "    cur = conn.cursor()\n",
    "    cur.execute(sql, tup)\n",
    "    conn.commit()\n",
    "    \n",
    "print(\"Connection Successful\")\n",
    "print(\"Table(s) created successfully\")\n",
    "print(\"Operation successful\")\n",
    "conn.close()\n",
    "\n",
    "# Error: when use \"ON CONFLICT\", unique or exclude conditoin shoul existe"
   ]
  },
  {
   "cell_type": "code",
   "execution_count": 25,
   "metadata": {},
   "outputs": [
    {
     "name": "stdout",
     "output_type": "stream",
     "text": [
      "Connection Successful\n",
      "Table(s) created successfully\n",
      "Operation successful\n"
     ]
    }
   ],
   "source": [
    "sql = \"\"\"INSERT INTO Articles(%s) VALUES %s\n",
    "\n",
    "ON CONFLICT (citation_type, meta) DO UPDATE\n",
    "    SET citation_type = excluded.citation_type,\n",
    "        meta = excluded.meta\"\"\"\n",
    "    \n",
    "for row in df.itertuples():\n",
    "    doidict = doi2dict(row[1])\n",
    "    columns = ['citation_type', 'meta']\n",
    "    values = ['literature', Json(doidict)]\n",
    "    tup = (AsIs(','.join(columns)), tuple(values))\n",
    "\n",
    "    conn = pg.connect(**kwargs)\n",
    "    \n",
    "    cur = conn.cursor()\n",
    "    cur.execute(sql, tup)\n",
    "    conn.commit()\n",
    "    \n",
    "print(\"Connection Successful\")\n",
    "print(\"Table(s) created successfully\")\n",
    "print(\"Operation successful\")\n",
    "conn.close()\n",
    "\n",
    "# exp_id number don't start at 1"
   ]
  },
  {
   "cell_type": "code",
   "execution_count": 31,
   "metadata": {},
   "outputs": [
    {
     "name": "stdout",
     "output_type": "stream",
     "text": [
      "Connection Successful\n",
      "Table(s) created successfully\n",
      "Operation successful\n"
     ]
    }
   ],
   "source": [
    "sql = \"\"\"INSERT INTO Articles(%s) VALUES %s\n",
    "\n",
    "ON CONFLICT (citation_type, meta) DO UPDATE\n",
    "    SET citation_type = excluded.citation_type,\n",
    "        meta = excluded.meta\"\"\"\n",
    "    \n",
    "for row in df.itertuples():\n",
    "    doidict = doi2dict(row[1])\n",
    "    columns = ['citation_type', 'meta']\n",
    "    values = ['literature', Json(doidict)]\n",
    "    tup = (AsIs(','.join(columns)), tuple(values))\n",
    "\n",
    "    conn = pg.connect(**kwargs)\n",
    "    \n",
    "    cur = conn.cursor()\n",
    "    cur.execute(sql, tup)\n",
    "    conn.commit()\n",
    "    \n",
    "print(\"Connection Successful\")\n",
    "print(\"Table(s) created successfully\")\n",
    "print(\"Operation successful\")\n",
    "conn.close()\n"
   ]
  },
  {
   "cell_type": "code",
   "execution_count": null,
   "metadata": {},
   "outputs": [],
   "source": [
    "## I left off talking about inserting new tuples that already exist... and violating key constraints. What about sequencing?\n",
    "## Let's insert like 5 doi's, see what happens"
   ]
  }
 ],
 "metadata": {
  "kernelspec": {
   "display_name": "Python 3 (ipykernel)",
   "language": "python",
   "name": "python3"
  },
  "language_info": {
   "codemirror_mode": {
    "name": "ipython",
    "version": 3
   },
   "file_extension": ".py",
   "mimetype": "text/x-python",
   "name": "python",
   "nbconvert_exporter": "python",
   "pygments_lexer": "ipython3",
   "version": "3.9.12"
  }
 },
 "nbformat": 4,
 "nbformat_minor": 4
}
