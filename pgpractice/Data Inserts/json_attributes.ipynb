{
 "cells": [
  {
   "cell_type": "markdown",
   "metadata": {},
   "source": [
    "### JSON Objects in PostgreSQL\n",
    "\n",
    "**Author**: Aaron Liu & Ron Volkovinsky\n",
    "\n",
    "**Date**: 5/10/2023\n",
    "\n",
    "**Objective**: Practice basic insert queries using SQL, and the corresponding programming to automate the process in psycopg2\n",
    "\n",
    "## Setup\n",
    "\n",
    "Some functions in python are already given in the cells below:\n",
    "\n",
    "**DOI JSON retrieval (doi2dict)**\n",
    "(Credit Ron Volkovinsky)"
   ]
  },
  {
   "cell_type": "code",
   "execution_count": 5,
   "metadata": {},
   "outputs": [
    {
     "data": {
      "text/plain": [
       "dict"
      ]
     },
     "execution_count": 5,
     "metadata": {},
     "output_type": "execute_result"
    }
   ],
   "source": [
    "import requests\n",
    "import json\n",
    "import pandas as pd\n",
    "import bibtexparser\n",
    "import pprint\n",
    "\n",
    "def doi2dict(doi):\n",
    "    #create url\n",
    "    url = \"http://dx.doi.org/\" + doi\n",
    "    \n",
    "    #create dictionary of http bibtex headers that requests will retrieve from the url\n",
    "    headers = {\"accept\": \"application/x-bibtex\"}\n",
    "    \n",
    "    #reqeusts information specified by bibtex from url\n",
    "    r = requests.get(url, headers = headers).text    \n",
    "\n",
    "    #parse the returned bibtex text to a dictionary\n",
    "    #NOTE: USE bibtexparser.customization to split strings into list, etc. (https://bibtexparser.readthedocs.io/en/master/bibtexparser.html?highlight=bparser#module-bibtexparser.bparser)\n",
    "    bibdata = bibtexparser.bparser.BibTexParser().parse(r)\n",
    "    \n",
    "    #return dict of metadata\n",
    "    return bibdata.entries[0]\n",
    "\n",
    "doi = '10.1021/acsami.1c20994'\n",
    "doi2 = '10.1021/acscentsci.9b00476'\n",
    "\n",
    "doidict = doi2dict(doi2)"
   ]
  },
  {
   "cell_type": "markdown",
   "metadata": {},
   "source": [
    "**Connection Details**\n",
    "\n",
    "Fill in your connection details here. Note that `127.0.0.1`, `localhost`, and your **local IP address** (found using the `ipconfig` command in your command line) are all synonymous with your local computer as a server. If you are connecting to an external server, you of course need to find the appropriate connection details of that server.\n",
    "\n",
    "I recommend creating your own database as a test environment for interacting with your database. You must do this either through psql or pgAdmin, externally from Python. Call the database whatever you want, like `pg_practice` or `ofetdb_testenv`, etc. Either way, the default username and password are what go into the connection details. The port by default for PostgreSQL is almost always `5432`, unless this was specified differently during your installation of PostgreSQL."
   ]
  },
  {
   "cell_type": "code",
   "execution_count": null,
   "metadata": {},
   "outputs": [],
   "source": [
    "conn_kwargs = {\n",
    "    \"host\"      : \"localhost\",\n",
    "    \"database\"  : \"test\", ## FILL IN CONNECTION DETAILS HERE\n",
    "    \"user\"      : \"postgres\",\n",
    "    \"password\"  : \"password\",\n",
    "    \"port\"      : \"5432\",\n",
    "}\n",
    "\n",
    "conn = pg.connect(**conn_kwargs)\n",
    "print(\"Connection Successful\")\n",
    "\n",
    "conn.close()\n",
    "print(\"Connection Closed\")"
   ]
  },
  {
   "cell_type": "code",
   "execution_count": 16,
   "metadata": {},
   "outputs": [],
   "source": [
    "# Postgres python\n",
    "import psycopg2 as pg\n",
    "import numpy as np\n",
    "from psycopg2.extensions import AsIs\n",
    "\n",
    "# import os\n",
    "# import functools\n",
    "# import sys\n",
    "\n",
    "# Adapters necessary for converting python data types to PostgreSQL compatible data types \n",
    "def addapt_numpy_float64(numpy_float64):\n",
    "    return AsIs(numpy_float64)\n",
    "\n",
    "def addapt_numpy_int64(numpy_int64):\n",
    "    return AsIs(numpy_int64)\n",
    "\n",
    "def nan_to_null(f,\n",
    "        _NULL=AsIs('NULL'),\n",
    "        _Float=pg.extensions.Float):\n",
    "    if not np.isnan(f):\n",
    "        return _Float(f)\n",
    "    return _NULL\n",
    "\n",
    "pg.extensions.register_adapter(np.float64, addapt_numpy_float64)\n",
    "pg.extensions.register_adapter(np.int64, addapt_numpy_int64)\n",
    "pg.extensions.register_adapter(float, nan_to_null)\n",
    "\n",
    "param_dict = {\n",
    "    \"host\"      : \"127.0.0.1\",\n",
    "    \"database\"  : \"ofetdb_testenv\",\n",
    "    \"user\"      : \"postgres\",\n",
    "    \"password\"  : \"password\",\n",
    "    \"port\"      : \"5432\",\n",
    "}\n",
    "\n",
    "def connect(params_dict):\n",
    "    \"\"\" Connect to the PostgreSQL database server \"\"\"\n",
    "    conn = None\n",
    "    try:\n",
    "        # connect to the PostgreSQL server\n",
    "        print('Connecting to the PostgreSQL database...')\n",
    "        conn = pg.connect(**params_dict)\n",
    "    except (Exception, pg.DatabaseError) as error:\n",
    "        print(error)\n",
    "        sys.exit(1) \n",
    "    print(\"Connection successful\")\n",
    "    return conn"
   ]
  },
  {
   "cell_type": "code",
   "execution_count": 22,
   "metadata": {},
   "outputs": [
    {
     "data": {
      "text/plain": [
       "dict"
      ]
     },
     "execution_count": 22,
     "metadata": {},
     "output_type": "execute_result"
    }
   ],
   "source": [
    "# Create a table that holds journal article information\n",
    "sql = '''\n",
    "    CREATE TABLE IF NOT EXISTS EXPERIMENT_INFO (\n",
    "        exp_id              SERIAL          PRIMARY KEY,\n",
    "        citation_type       VARCHAR(20),\n",
    "        meta                JSONB,\n",
    "        UNIQUE(citation_type, meta)\n",
    "    );\n",
    "'''\n",
    "\n",
    "cur.execute(sql)\n",
    "\n",
    "print(\"Table(s) created successfully\")\n",
    "conn.commit()\n",
    "\n",
    "print(\"Operation successful\")\n",
    "conn.close()"
   ]
  },
  {
   "cell_type": "code",
   "execution_count": null,
   "metadata": {},
   "outputs": [],
   "source": [
    "from psycopg2.extras import Json \n",
    "\n",
    "doi = '10.1021/acsami.1c20994'\n",
    "doi2 = '10.1021/acscentsci.9b00476'\n",
    "\n",
    "doidict = doi2dict(doi)\n",
    "\n",
    "a = Json(doidict)\n",
    "# type(a)\n",
    "print(a)"
   ]
  },
  {
   "cell_type": "code",
   "execution_count": 7,
   "metadata": {},
   "outputs": [
    {
     "name": "stdout",
     "output_type": "stream",
     "text": [
      "Connnection Successful\n",
      "Table(s) created successfully\n",
      "Operation successful\n"
     ]
    }
   ],
   "source": [
    "import psycopg2\n",
    "\n",
    "kwargs = {\n",
    "    'database': 'test',\n",
    "    'user': 'postgres',\n",
    "    'password': 'password',\n",
    "    'host': '127.0.0.1',\n",
    "    'port': '5432'\n",
    "}\n",
    "\n",
    "# %% Create Tables for EXPERIMENT_INFO\n",
    "\n",
    "conn = psycopg2.connect(**kwargs)\n",
    "\n",
    "print(\"Connection Successful\")\n",
    "\n",
    "cur = conn.cursor()\n",
    "cur.execute(\n",
    "    '''\n",
    "    CREATE TABLE IF NOT EXISTS EXPERIMENT_INFO (\n",
    "        exp_id              SERIAL          PRIMARY KEY,\n",
    "        citation_type       VARCHAR(20),\n",
    "        meta                JSONB,\n",
    "        UNIQUE(citation_type, meta)\n",
    "    );\n",
    "    '''\n",
    ")\n",
    "\n",
    "print(\"Table(s) created successfully\")\n",
    "conn.commit()\n",
    "\n",
    "print(\"Operation successful\")\n",
    "conn.close()"
   ]
  },
  {
   "cell_type": "code",
   "execution_count": 26,
   "metadata": {},
   "outputs": [
    {
     "data": {
      "text/plain": [
       "<psycopg2._json.Json at 0x221a91df520>"
      ]
     },
     "execution_count": 26,
     "metadata": {},
     "output_type": "execute_result"
    }
   ],
   "source": [
    "Json(doidict)"
   ]
  },
  {
   "cell_type": "code",
   "execution_count": 44,
   "metadata": {},
   "outputs": [
    {
     "name": "stdout",
     "output_type": "stream",
     "text": [
      "Connection Successful\n"
     ]
    },
    {
     "ename": "UniqueViolation",
     "evalue": "duplicate key value violates unique constraint \"experiment_info_citation_type_meta_key\"\nDETAIL:  Key (citation_type, meta)=(literature, {\"ID\": \"Lin_2019\", \"doi\": \"10.1021/acscentsci.9b00476\", \"url\": \"https://doi.org/10.1021%2Facscentsci.9b00476\", \"year\": \"2019\", \"month\": \"sep\", \"pages\": \"1523--1531\", \"title\": \"{BigSMILES}: A Structurally-Based Line Notation for Describing Macromolecules\", \"author\": \"Tzyy-Shyang Lin and Connor W. Coley and Hidenobu Mochigase and Haley K. Beech and Wencong Wang and Zi Wang and Eliot Woods and Stephen L. Craig and Jeremiah A. Johnson and Julia A. Kalow and Klavs F. Jensen and Bradley D. Olsen\", \"number\": \"9\", \"volume\": \"5\", \"journal\": \"{ACS} Central Science\", \"ENTRYTYPE\": \"article\", \"publisher\": \"American Chemical Society ({ACS})\"}) already exists.\n",
     "output_type": "error",
     "traceback": [
      "\u001b[1;31m---------------------------------------------------------------------------\u001b[0m",
      "\u001b[1;31mUniqueViolation\u001b[0m                           Traceback (most recent call last)",
      "\u001b[1;32m<ipython-input-44-24b79dbafd0e>\u001b[0m in \u001b[0;36m<module>\u001b[1;34m\u001b[0m\n\u001b[0;32m     11\u001b[0m \u001b[1;33m\u001b[0m\u001b[0m\n\u001b[0;32m     12\u001b[0m \u001b[0mcur\u001b[0m \u001b[1;33m=\u001b[0m \u001b[0mconn\u001b[0m\u001b[1;33m.\u001b[0m\u001b[0mcursor\u001b[0m\u001b[1;33m(\u001b[0m\u001b[1;33m)\u001b[0m\u001b[1;33m\u001b[0m\u001b[1;33m\u001b[0m\u001b[0m\n\u001b[1;32m---> 13\u001b[1;33m \u001b[0mcur\u001b[0m\u001b[1;33m.\u001b[0m\u001b[0mexecute\u001b[0m\u001b[1;33m(\u001b[0m\u001b[0msql\u001b[0m\u001b[1;33m,\u001b[0m \u001b[0mtup\u001b[0m\u001b[1;33m)\u001b[0m\u001b[1;33m\u001b[0m\u001b[1;33m\u001b[0m\u001b[0m\n\u001b[0m\u001b[0;32m     14\u001b[0m \u001b[1;33m\u001b[0m\u001b[0m\n\u001b[0;32m     15\u001b[0m \u001b[0mprint\u001b[0m\u001b[1;33m(\u001b[0m\u001b[1;34m\"Table(s) created successfully\"\u001b[0m\u001b[1;33m)\u001b[0m\u001b[1;33m\u001b[0m\u001b[1;33m\u001b[0m\u001b[0m\n",
      "\u001b[1;31mUniqueViolation\u001b[0m: duplicate key value violates unique constraint \"experiment_info_citation_type_meta_key\"\nDETAIL:  Key (citation_type, meta)=(literature, {\"ID\": \"Lin_2019\", \"doi\": \"10.1021/acscentsci.9b00476\", \"url\": \"https://doi.org/10.1021%2Facscentsci.9b00476\", \"year\": \"2019\", \"month\": \"sep\", \"pages\": \"1523--1531\", \"title\": \"{BigSMILES}: A Structurally-Based Line Notation for Describing Macromolecules\", \"author\": \"Tzyy-Shyang Lin and Connor W. Coley and Hidenobu Mochigase and Haley K. Beech and Wencong Wang and Zi Wang and Eliot Woods and Stephen L. Craig and Jeremiah A. Johnson and Julia A. Kalow and Klavs F. Jensen and Bradley D. Olsen\", \"number\": \"9\", \"volume\": \"5\", \"journal\": \"{ACS} Central Science\", \"ENTRYTYPE\": \"article\", \"publisher\": \"American Chemical Society ({ACS})\"}) already exists.\n"
     ]
    }
   ],
   "source": [
    "sql = \"INSERT INTO experiment_info(%s) VALUES %s\"\n",
    "\n",
    "columns = ['citation_type', 'meta']\n",
    "values = ['literature', Json(doidict)]\n",
    "\n",
    "tup = (AsIs(','.join(columns)), tuple(values))\n",
    "\n",
    "conn = psycopg2.connect(**kwargs)\n",
    "\n",
    "print(\"Connection Successful\")\n",
    "\n",
    "cur = conn.cursor()\n",
    "cur.execute(sql, tup)\n",
    "\n",
    "print(\"Table(s) created successfully\")\n",
    "conn.commit()\n",
    "\n",
    "print(\"Operation successful\")\n",
    "conn.close()\n"
   ]
  },
  {
   "cell_type": "code",
   "execution_count": null,
   "metadata": {},
   "outputs": [],
   "source": [
    "## I left off talking about inserting new tuples that already exist... and violating key constraints. What about sequencing?\n",
    "## Let's insert like 5 doi's, see what happens"
   ]
  }
 ],
 "metadata": {
  "kernelspec": {
   "display_name": "Python 3",
   "language": "python",
   "name": "python3"
  },
  "language_info": {
   "codemirror_mode": {
    "name": "ipython",
    "version": 3
   },
   "file_extension": ".py",
   "mimetype": "text/x-python",
   "name": "python",
   "nbconvert_exporter": "python",
   "pygments_lexer": "ipython3",
   "version": "3.8.3"
  }
 },
 "nbformat": 4,
 "nbformat_minor": 4
}
