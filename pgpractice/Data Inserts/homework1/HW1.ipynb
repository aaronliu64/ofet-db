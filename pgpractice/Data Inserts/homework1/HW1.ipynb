{
 "cells": [
  {
   "attachments": {},
   "cell_type": "markdown",
   "metadata": {},
   "source": [
    "## Data Insert Exercises\n",
    "\n",
    "In this set of exercises, you will practice a series of transactions using a dataset of solution-based experiments. You will find the data you need under `data\\solution_experiments.xlsx`.\n",
    "\n",
    "The first two sheets `solvent` and `polymer` contain a list of chemicals that are contained in a hypothetical laboratory storage. The third sheet, `solution`, contains a list of solutions that a hypothetical student named Jason, has made in the last several months."
   ]
  },
  {
   "attachments": {},
   "cell_type": "markdown",
   "metadata": {},
   "source": [
    "### 1. Create Polymer and Solvent Tables\n",
    "\n",
    "First, please create from scratch two tables which contain the chemical inventory of the laboratory (Solvent and Polymer). \n",
    "\n",
    "* Solvent contains three attributes: a unique identifier given from its PubChem CID, its IUPAC name, and boiling points\n",
    "* Polymer should contain a unique identifier of your choice (e.g., \"polymer_id\"), two columns for its common name and its full name, and three fields for molecular weight information (Mn, Mw, dispersity)\n",
    "\n",
    "The primary key for `solvent` should be the PubChem CID, and the primary key for `polymer` should be a one that you generate. You may use the `SERIAL` data type to facilitate automatic key generation for new rows. Make sure you add `UNIQUE` constraints that properly account for the real-world scenario."
   ]
  },
  {
   "cell_type": "code",
   "execution_count": null,
   "metadata": {},
   "outputs": [],
   "source": []
  },
  {
   "attachments": {},
   "cell_type": "markdown",
   "metadata": {},
   "source": [
    "### 2. Create a Record of Solutions\n",
    "\n",
    "Next, we must create a table to store new experimental records of solutions that are made from the laboratory reagents available in inventory. Recently, Jason has only been interested in testing the solubility of single polymers in solution. In his digital lab notebook, he has written down the date he made the solution, the concentration of the solution, and what polymer and solvent he used. Usually, Jason was a good student and wrote down the batch information (molecular weights, dispersity) of the polymer, but sometimes he was an idiot and forgot. Regardless, we should record all of the data points. \n",
    "\n",
    "1. Create an entity-relationship diagram that shows the connections between polymer, solvent, and solution.\n",
    "\n",
    "2. Create a table `solution` that accurately models the conceptual schema you generated in the ERD.\n",
    "\n",
    "`solution` should contain five attributes: This includes:\n",
    "\n",
    "* A primary key (a solution identifier)\n",
    "* Two foreign keys (referencing the polymer and solvent table)\n",
    "* Two fields that describe the solution concentration and the date the solution was created\n",
    "\n",
    "**Warning**: Do not use the given dataset columns to decide how you actually name your columns. Name your attributes in a way that is friendly to programming. For this example, feel free to ignore units. We will deal with that another day."
   ]
  },
  {
   "cell_type": "code",
   "execution_count": null,
   "metadata": {},
   "outputs": [],
   "source": []
  },
  {
   "attachments": {},
   "cell_type": "markdown",
   "metadata": {},
   "source": [
    "### 3. Populate the Lab Inventory\n",
    "\n",
    "In this example, you can pretend that you exported Sheets 1 and 2 of solution_experiments.xlsx from an online inventory manager, and you want to input it into your own database. Upload the inventory in sheets 1 and 2 to `polymer` and `solvent`. \n",
    "\n",
    "As a note: sometimes, the online manager accidentally duplicates records, so you want to ensure that no duplicates exist in your local copy. "
   ]
  },
  {
   "cell_type": "code",
   "execution_count": null,
   "metadata": {},
   "outputs": [],
   "source": []
  },
  {
   "attachments": {},
   "cell_type": "markdown",
   "metadata": {},
   "source": [
    "### 4. Update Jason's Experimental Records\n",
    "\n",
    "Using the \"Solution\" sheet in the Excel file, figure out a way to import Jason's historical record of solution-based experiments into the `solution` table you made in PostgreSQL. Make sure you properly tailor Jason's dataset to the schema that you created in **Part 2**. \n",
    "\n",
    "Hints:\n",
    "* You may have to do some python pre-processing to generate the tuple you want. Don't be afraid to make a few helper functions that do that.\n",
    "* Jason is not going to write PubChem IDs in his laboratory notebook, because he's not insane. You will have to find a way to look up the PubChem ID that is associated with a given solvent name. You might be able to do this in your SQL query. More information: https://dba.stackexchange.com/questions/46410/how-do-i-insert-a-row-which-contains-a-foreign-key\n",
    "* Similarly, you're not putting all of the polymer information into your solution table, because that would be redundant. Instead, you need to look up which polymer he used from the known inventory, and assign the polymer_id that way\n",
    "\n",
    "If the link above does not help, try to find your own resources! Programming isn't always easy, but this is a standard transaction that many other people have probably tried to do. Learn how to learn!"
   ]
  },
  {
   "cell_type": "code",
   "execution_count": null,
   "metadata": {},
   "outputs": [],
   "source": []
  },
  {
   "attachments": {},
   "cell_type": "markdown",
   "metadata": {},
   "source": [
    "### 5. Upload New Experiments\n",
    "\n",
    "Two weeks later, Jason compiles another dataset with a new set of solutions. After speaking with his advisor, he has actually decided to test a few new solvents to try out. You can find these new solutions within `data/new_experiments.xlsx`\n",
    "\n",
    "Add these new experiments to the relational database that you have generated. \n",
    "\n",
    "* Note that the solution table contains reagents that have not previously been added to the inventory. What happens when you try to import the data with the queries you generated above? What type of constraint is this called?\n",
    "* Can you figure out how to structure queries or a workflow that will account for this situation? For example: Try inserting the record. If the solvent does not exist, get the PubChem CID using an API, add it to the `solvent` table, and retry the add. Normally, I would also ask you do this with polymers; i.e., if the polymer does not exist, similarly add new information to the `polymer` table, then retry the add -- but for now let's try the exercise with solvent only. You can assume he only experimented on existing polymers.\n",
    "\n",
    "The below code block contains a simple *Chemical Name to PubChem CID* function. You may use it to facilitate the programming process."
   ]
  },
  {
   "cell_type": "code",
   "execution_count": null,
   "metadata": {},
   "outputs": [],
   "source": [
    "import pubchempy as pcpy #You may have to pip or conda install pubchempy API. \n",
    "\n",
    "#Read more here: https://pubchempy.readthedocs.io/en/latest/\n",
    "\n",
    "def name2cid(chemName):\n",
    "    cid = pcpy.get_cids(chemName)\n",
    "    #if chemname isn't valid, cid will return an empty array. if so, this if statement will return an error message.\n",
    "    if not cid:\n",
    "        return 'Please enter a valid name.'\n",
    "    else:\n",
    "        return cid\n",
    "\n",
    "name2cid('chloroform')"
   ]
  },
  {
   "attachments": {},
   "cell_type": "markdown",
   "metadata": {},
   "source": [
    "### Bonus\n",
    "\n",
    "You may have seen that a lot of these queries can be challenging to program using just psycopg2. Many online articles and tutorials recommend the use of SQLAlchemy to facilitate the generation of queries, and many Python users prefer it because it \"requires little knowledge of SQL\". Your bonus assignment is to test this theory by exploring SQLAlchemy on your own. For example, can you perform all of the questions in this homework with the help of an SQLAlchemy connection to your database? You are a superstar if you do this entire exercise with SQLAlchemy, and you'll be on your way to helping develop OFETdb. But for starters, try the first few problems.\n",
    "\n",
    "Here is a tutorial I found, but feel free to find others on YouTube or Google, or just ask ChatGPT.\n",
    "https://www.learndatasci.com/tutorials/using-databases-python-postgres-sqlalchemy-and-alembic/"
   ]
  }
 ],
 "metadata": {
  "kernelspec": {
   "display_name": "Python 3",
   "language": "python",
   "name": "python3"
  },
  "language_info": {
   "codemirror_mode": {
    "name": "ipython",
    "version": 3
   },
   "file_extension": ".py",
   "mimetype": "text/x-python",
   "name": "python",
   "nbconvert_exporter": "python",
   "pygments_lexer": "ipython3",
   "version": "3.8.3"
  }
 },
 "nbformat": 4,
 "nbformat_minor": 4
}
