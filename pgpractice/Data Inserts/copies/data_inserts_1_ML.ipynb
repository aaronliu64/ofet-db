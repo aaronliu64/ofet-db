{
 "cells": [
  {
   "cell_type": "markdown",
   "metadata": {},
   "source": [
    "# PostgreSQL and Python 1\n",
    "\n",
    "**Author**: Aaron Liu\n",
    "\n",
    "**Date**: 5/9/2023\n",
    "\n",
    "**Objective**: Practice basic insert queries using SQL, and the corresponding programming to automate the process in psycopg2\n",
    "\n",
    "## Setup\n",
    "\n",
    "Some functions in python are already given in the cells below:\n",
    "\n",
    "**DOI JSON retrieval (doi2dict)**\n",
    "(Credit Ron Volkovinsky)"
   ]
  },
  {
   "cell_type": "code",
   "execution_count": 1,
   "metadata": {},
   "outputs": [
    {
     "ename": "ModuleNotFoundError",
     "evalue": "No module named 'bibtexparser'",
     "output_type": "error",
     "traceback": [
      "\u001b[1;31m---------------------------------------------------------------------------\u001b[0m",
      "\u001b[1;31mModuleNotFoundError\u001b[0m                       Traceback (most recent call last)",
      "Input \u001b[1;32mIn [1]\u001b[0m, in \u001b[0;36m<cell line: 4>\u001b[1;34m()\u001b[0m\n\u001b[0;32m      2\u001b[0m \u001b[38;5;28;01mimport\u001b[39;00m \u001b[38;5;21;01mjson\u001b[39;00m\n\u001b[0;32m      3\u001b[0m \u001b[38;5;28;01mimport\u001b[39;00m \u001b[38;5;21;01mpandas\u001b[39;00m \u001b[38;5;28;01mas\u001b[39;00m \u001b[38;5;21;01mpd\u001b[39;00m\n\u001b[1;32m----> 4\u001b[0m \u001b[38;5;28;01mimport\u001b[39;00m \u001b[38;5;21;01mbibtexparser\u001b[39;00m \u001b[38;5;66;03m#API for requesting DOI information\u001b[39;00m\n\u001b[0;32m      5\u001b[0m \u001b[38;5;28;01mimport\u001b[39;00m \u001b[38;5;21;01mpprint\u001b[39;00m \u001b[38;5;28;01mas\u001b[39;00m \u001b[38;5;21;01mpp\u001b[39;00m \u001b[38;5;66;03m#The function pp.pprint helps with better visualizing nested key-value information\u001b[39;00m\n\u001b[0;32m      7\u001b[0m \u001b[38;5;66;03m# Given a valid doi string, return a dictionary of digital object information. Credit: Ron Volkovinsky\u001b[39;00m\n",
      "\u001b[1;31mModuleNotFoundError\u001b[0m: No module named 'bibtexparser'"
     ]
    }
   ],
   "source": [
    "import requests\n",
    "import json\n",
    "import pandas as pd\n",
    "import bibtexparser #API for requesting DOI information\n",
    "import pprint as pp #The function pp.pprint helps with better visualizing nested key-value information\n",
    "\n",
    "# Given a valid doi string, return a dictionary of digital object information. Credit: Ron Volkovinsky\n",
    "def doi2dict(doi):\n",
    "    #create url\n",
    "    url = \"http://dx.doi.org/\" + doi\n",
    "    \n",
    "    #create dictionary of http bibtex headers that requests will retrieve from the url\n",
    "    headers = {\"accept\": \"application/x-bibtex\"}\n",
    "    \n",
    "    #reqeusts information specified by bibtex from url\n",
    "    r = requests.get(url, headers = headers).text    \n",
    "\n",
    "    #parse the returned bibtex text to a dictionary\n",
    "    #NOTE: USE bibtexparser.customization to split strings into list, etc. (https://bibtexparser.readthedocs.io/en/master/bibtexparser.html?highlight=bparser#module-bibtexparser.bparser)\n",
    "    bibdata = bibtexparser.bparser.BibTexParser().parse(r)\n",
    "    \n",
    "    #return dict of metadata\n",
    "    return bibdata.entries[0]\n",
    "\n",
    "doi = '10.1021/acsami.1c20994'\n",
    "\n",
    "doidict = doi2dict(doi)\n",
    "pp.pprint(doidict)"
   ]
  },
  {
   "cell_type": "markdown",
   "metadata": {},
   "source": [
    "**Premade psycopg2 functions**\n",
    "\n",
    "When using pandas or numpy to work with data types, adapters are required to switch between Python and PostgreSQL data types. A connection function is also provided, for your convenience."
   ]
  },
  {
   "cell_type": "code",
   "execution_count": 2,
   "metadata": {},
   "outputs": [],
   "source": [
    "import psycopg2 as pg # Postgres python\n",
    "import numpy as np\n",
    "import sys\n",
    "from psycopg2.extensions import AsIs\n",
    "\n",
    "# Adapters necessary for converting python data types to PostgreSQL compatible data types \n",
    "def addapt_numpy_float64(numpy_float64):\n",
    "    return AsIs(numpy_float64)\n",
    "\n",
    "def addapt_numpy_int64(numpy_int64):\n",
    "    return AsIs(numpy_int64)\n",
    "\n",
    "def nan_to_null(f,\n",
    "        _NULL=AsIs('NULL'),\n",
    "        _Float=pg.extensions.Float):\n",
    "    if not np.isnan(f):\n",
    "        return _Float(f)\n",
    "    return _NULL\n",
    "\n",
    "pg.extensions.register_adapter(np.float64, addapt_numpy_float64)\n",
    "pg.extensions.register_adapter(np.int64, addapt_numpy_int64)\n",
    "pg.extensions.register_adapter(float, nan_to_null)\n",
    "\n",
    "def connect(params_dict):\n",
    "    \"\"\" Connect to the PostgreSQL database server \"\"\"\n",
    "    conn = None\n",
    "    try:\n",
    "        # connect to the PostgreSQL server\n",
    "        print('Connecting to the PostgreSQL database...')\n",
    "        conn = pg.connect(**params_dict)\n",
    "    except (Exception, pg.DatabaseError) as error:\n",
    "        print(error)\n",
    "        sys.exit(1) \n",
    "    print(\"Connection successful\")\n",
    "    return conn"
   ]
  },
  {
   "cell_type": "markdown",
   "metadata": {},
   "source": [
    "**Connection Details**\n",
    "\n",
    "Fill in your connection details here. Note that `127.0.0.1`, `localhost`, and your **local IP address** (found using the `ipconfig` command in your command line) are all synonymous with your local computer as a server. If you are connecting to an external server, you of course need to find the appropriate connection details of that server.\n",
    "\n",
    "I recommend creating your own database as a test environment for interacting with your database. You must do this either through psql or pgAdmin, externally from Python. Call the database whatever you want, like `pg_practice` or `ofetdb_testenv`, etc. Either way, the default username and password are what go into the connection details. The port by default for PostgreSQL is almost always `5432`, unless this was specified differently during your installation of PostgreSQL."
   ]
  },
  {
   "cell_type": "code",
   "execution_count": 3,
   "metadata": {},
   "outputs": [
    {
     "name": "stdout",
     "output_type": "stream",
     "text": [
      "Connection Successful\n",
      "Connection Closed\n"
     ]
    }
   ],
   "source": [
    "conn_kwargs = {\n",
    "    \"host\"      : \"localhost\",\n",
    "    \"database\"  : \"test\", ## FILL IN CONNECTION DETAILS HERE\n",
    "    \"user\"      : \"postgres\",\n",
    "    \"password\"  : \"myL220q1W@\",\n",
    "    \"port\"      : \"5432\",\n",
    "}\n",
    "\n",
    "conn = pg.connect(**conn_kwargs)\n",
    "print(\"Connection Successful\")\n",
    "\n",
    "conn.close()\n",
    "print(\"Connection Closed\")"
   ]
  },
  {
   "cell_type": "markdown",
   "metadata": {},
   "source": [
    "**ALWAYS** ensure that you close a connection after any given operation. Any idle connections can otherwise prevent database managers from updating the database on the backend."
   ]
  },
  {
   "cell_type": "markdown",
   "metadata": {},
   "source": [
    "**Creating Tables**\n",
    "\n",
    "For this session, we will work with two different tables of information. The first is a list of chemicals, and the second is a list of journal articles."
   ]
  },
  {
   "cell_type": "code",
   "execution_count": 4,
   "metadata": {
    "scrolled": true
   },
   "outputs": [
    {
     "name": "stdout",
     "output_type": "stream",
     "text": [
      "Connection Successful\n",
      "Table(s) created successfully\n",
      "Operation successful\n"
     ]
    }
   ],
   "source": [
    "# pg.connect returns a connection instance, based on the login parameters\n",
    "conn = pg.connect(**conn_kwargs)\n",
    "print(\"Connection Successful\")\n",
    "\n",
    "# A cursor object is used to query the database from Python\n",
    "cur = conn.cursor()\n",
    "\n",
    "# The execute command takes a query as an argument. This query is creating a SOLVENT table. \n",
    "# Note, inside the triple quotes is exactly what you would type into an SQL interface\n",
    "cur.execute(\n",
    "    '''\n",
    "    CREATE TABLE IF NOT EXISTS SOLVENT (\n",
    "        pubchem_cid   INT         PRIMARY KEY,\n",
    "        iupac_name    VARCHAR(50) UNIQUE,\n",
    "        boiling_point FLOAT\n",
    "    );\n",
    "    '''\n",
    ")\n",
    "\n",
    "# More elegantly, you can of course pass a string that contains the query into the execute command, like this:\n",
    "sql = '''\n",
    "    CREATE TABLE IF NOT EXISTS EXPERIMENT_INFO (\n",
    "        exp_id              SERIAL          PRIMARY KEY,\n",
    "        citation_type       VARCHAR(20),\n",
    "        meta                JSONB,\n",
    "        UNIQUE(citation_type, meta)\n",
    "    );\n",
    "'''\n",
    "\n",
    "cur.execute(sql)\n",
    "\n",
    "print(\"Table(s) created successfully\")\n",
    "conn.commit()\n",
    "\n",
    "print(\"Operation successful\")\n",
    "conn.close()"
   ]
  },
  {
   "cell_type": "markdown",
   "metadata": {},
   "source": [
    "## Data Inserts"
   ]
  },
  {
   "cell_type": "markdown",
   "metadata": {},
   "source": [
    "Let's start by filling up the `SOLVENT` table with some chemicals. From SQL, the syntax would be as follows:"
   ]
  },
  {
   "cell_type": "code",
   "execution_count": 5,
   "metadata": {},
   "outputs": [
    {
     "name": "stdout",
     "output_type": "stream",
     "text": [
      "Connection Successful\n",
      "Table(s) created successfully\n",
      "Operation successful\n",
      "Connection closed\n"
     ]
    }
   ],
   "source": [
    "# Again, we can store the query as a string and execute it with psycopg2\n",
    "sql = '''\n",
    "INSERT INTO SOLVENT(pubchem_cid, iupac_name, boiling_point) \n",
    "VALUES (13, '1,2,4-trichlorobenzene', 214.4)\n",
    "'''\n",
    "\n",
    "# pg.connect returns a connection instance, based on the login parameters\n",
    "conn = pg.connect(**conn_kwargs)\n",
    "print(\"Connection Successful\")\n",
    "\n",
    "# A cursor object is used to query the database from Python\n",
    "cur = conn.cursor()\n",
    "\n",
    "cur.execute(sql)\n",
    "\n",
    "print(\"Table(s) created successfully\")\n",
    "conn.commit()\n",
    "\n",
    "print(\"Operation successful\")\n",
    "conn.close()\n",
    "print(\"Connection closed\")"
   ]
  },
  {
   "cell_type": "markdown",
   "metadata": {},
   "source": [
    "**String Formatting**\n",
    "\n",
    "The above code functions well enough, but it's really not scalable. What if you want to add 10 different solvents at a time? An advantage of psycopg2 is that it makes room for automating most queries. To illustrate this, let's look at something that has nothing to do with psycopg2, but just Python syntax in general: string formatting. \n",
    "\n",
    "See below for two possible ways of printing a string. Read more at: https://www.geeksforgeeks.org/what-does-s-mean-in-a-python-format-string/#"
   ]
  },
  {
   "cell_type": "code",
   "execution_count": 6,
   "metadata": {},
   "outputs": [
    {
     "name": "stdout",
     "output_type": "stream",
     "text": [
      "My name is Theodore\n"
     ]
    }
   ],
   "source": [
    "print(\"My name is Theodore\")"
   ]
  },
  {
   "cell_type": "code",
   "execution_count": 7,
   "metadata": {},
   "outputs": [
    {
     "name": "stdout",
     "output_type": "stream",
     "text": [
      "My name is Theodore\n"
     ]
    }
   ],
   "source": [
    "name = \"Theodore\"\n",
    "print(\"My name is %s\" % name)"
   ]
  },
  {
   "cell_type": "markdown",
   "metadata": {},
   "source": [
    "Okay, but what is the utility of this? A couple things: most importantly, you can use the `%s` to cast anything as a string, even if it's a different data type. Secondly, it allows you to automate things through loops. The `%s` is kind of like a placeholder."
   ]
  },
  {
   "cell_type": "code",
   "execution_count": 8,
   "metadata": {},
   "outputs": [
    {
     "name": "stdout",
     "output_type": "stream",
     "text": [
      "The boiling point of 1,2,4-trichlorobenzene is 214.4°C\n",
      "The boiling point of benzene is 80.1°C\n",
      "The boiling point of toluene is 110.6°C\n",
      "The boiling point of chloroform is 61.2°C\n",
      "The boiling point of 1,1,2,2-tetrachloroethane is 146.6°C\n",
      "The boiling point of 1-chloronaphthalene is 305.2°C\n"
     ]
    }
   ],
   "source": [
    "solvents = [\"1,2,4-trichlorobenzene\", \"benzene\", \"toluene\", \"chloroform\", \"1,1,2,2-tetrachloroethane\", \"1-chloronaphthalene\"]\n",
    "boiling_points = [214.4, 80.1, 110.6, 61.2, 146.6, 305.2]\n",
    "\n",
    "my_str = \"The boiling point of %s is %s°C\"\n",
    "\n",
    "for solvent, bp in zip(solvents, boiling_points):\n",
    "    print(my_str % (solvent, bp))\n",
    "\n",
    "\n",
    "# # A string that will be repeated\n",
    "# my_str = \"The boiling point of %s is %s°C\"\n",
    "\n",
    "# # Print out a statement for all matching boiling points\n",
    "# for solvent, bp in zip(solvents, boiling_points):\n",
    "#     print(my_str % (solvent, bp))"
   ]
  },
  {
   "cell_type": "markdown",
   "metadata": {},
   "source": [
    "Now, let's see how psycopg2 helps to apply the simplest formatting case to an insert. Note the INSERT statement that we use before presents the columns and values as a *tuple* (see: https://www.geeksforgeeks.org/tuples-in-python/)."
   ]
  },
  {
   "cell_type": "code",
   "execution_count": 10,
   "metadata": {},
   "outputs": [
    {
     "ename": "NameError",
     "evalue": "name 'tup' is not defined",
     "output_type": "error",
     "traceback": [
      "\u001b[1;31m---------------------------------------------------------------------------\u001b[0m",
      "\u001b[1;31mNameError\u001b[0m                                 Traceback (most recent call last)",
      "Input \u001b[1;32mIn [10]\u001b[0m, in \u001b[0;36m<cell line: 1>\u001b[1;34m()\u001b[0m\n\u001b[1;32m----> 1\u001b[0m \u001b[38;5;28mprint\u001b[39m(\u001b[43mtup\u001b[49m[\u001b[38;5;241m0\u001b[39m])\n",
      "\u001b[1;31mNameError\u001b[0m: name 'tup' is not defined"
     ]
    }
   ],
   "source": [
    "print(tup[0])"
   ]
  },
  {
   "cell_type": "code",
   "execution_count": 11,
   "metadata": {
    "scrolled": true
   },
   "outputs": [
    {
     "name": "stdout",
     "output_type": "stream",
     "text": [
      "Connection Successful\n"
     ]
    },
    {
     "ename": "UniqueViolation",
     "evalue": "오류:  중복된 키 값이 \"solvent_pkey\" 고유 제약 조건을 위반함\nDETAIL:  (pubchem_cid)=(13) 키가 이미 있습니다.\n",
     "output_type": "error",
     "traceback": [
      "\u001b[1;31m---------------------------------------------------------------------------\u001b[0m",
      "\u001b[1;31mUniqueViolation\u001b[0m                           Traceback (most recent call last)",
      "Input \u001b[1;32mIn [11]\u001b[0m, in \u001b[0;36m<cell line: 18>\u001b[1;34m()\u001b[0m\n\u001b[0;32m     15\u001b[0m \u001b[38;5;66;03m# A cursor object is used to query the database from Python\u001b[39;00m\n\u001b[0;32m     16\u001b[0m cur \u001b[38;5;241m=\u001b[39m conn\u001b[38;5;241m.\u001b[39mcursor()\n\u001b[1;32m---> 18\u001b[0m \u001b[43mcur\u001b[49m\u001b[38;5;241;43m.\u001b[39;49m\u001b[43mexecute\u001b[49m\u001b[43m(\u001b[49m\u001b[43msql\u001b[49m\u001b[43m,\u001b[49m\u001b[43m \u001b[49m\u001b[43mtup\u001b[49m\u001b[43m)\u001b[49m\n\u001b[0;32m     20\u001b[0m \u001b[38;5;28mprint\u001b[39m(\u001b[38;5;124m\"\u001b[39m\u001b[38;5;124mRecord inserted successfully\u001b[39m\u001b[38;5;124m\"\u001b[39m)\n\u001b[0;32m     21\u001b[0m conn\u001b[38;5;241m.\u001b[39mcommit()\n",
      "\u001b[1;31mUniqueViolation\u001b[0m: 오류:  중복된 키 값이 \"solvent_pkey\" 고유 제약 조건을 위반함\nDETAIL:  (pubchem_cid)=(13) 키가 이미 있습니다.\n"
     ]
    }
   ],
   "source": [
    "# Again, we can store the query as a string and execute it with psycopg2\n",
    "sql = '''\n",
    "INSERT INTO SOLVENT (%s) VALUES %s\n",
    "'''\n",
    "\n",
    "columns = [\"pubchem_cid\", \"iupac_name\", \"boiling_point\"]\n",
    "values = (13, '1,2,4-trichlorobenzene', 214.4)\n",
    "\n",
    "tup = (AsIs(','.join(columns)), values)\n",
    "\n",
    "# pg.connect returns a connection instance, based on the login parameters\n",
    "conn = pg.connect(**conn_kwargs)\n",
    "print(\"Connection Successful\")\n",
    "\n",
    "# A cursor object is used to query the database from Python\n",
    "cur = conn.cursor()\n",
    "\n",
    "cur.execute(sql, tup)\n",
    "\n",
    "print(\"Record inserted successfully\")\n",
    "conn.commit()\n",
    "\n",
    "print(\"Operation successful\")\n",
    "conn.close()\n",
    "print(\"Connection closed\")"
   ]
  },
  {
   "cell_type": "code",
   "execution_count": 9,
   "metadata": {},
   "outputs": [
    {
     "ename": "NameError",
     "evalue": "name 'columns' is not defined",
     "output_type": "error",
     "traceback": [
      "\u001b[1;31m---------------------------------------------------------------------------\u001b[0m",
      "\u001b[1;31mNameError\u001b[0m                                 Traceback (most recent call last)",
      "Input \u001b[1;32mIn [9]\u001b[0m, in \u001b[0;36m<cell line: 1>\u001b[1;34m()\u001b[0m\n\u001b[1;32m----> 1\u001b[0m \u001b[38;5;124m'\u001b[39m\u001b[38;5;124m,\u001b[39m\u001b[38;5;124m'\u001b[39m\u001b[38;5;241m.\u001b[39mjoin(\u001b[43mcolumns\u001b[49m)\n",
      "\u001b[1;31mNameError\u001b[0m: name 'columns' is not defined"
     ]
    }
   ],
   "source": [
    "','.join(columns)"
   ]
  },
  {
   "cell_type": "code",
   "execution_count": 10,
   "metadata": {},
   "outputs": [
    {
     "ename": "NameError",
     "evalue": "name 'columns' is not defined",
     "output_type": "error",
     "traceback": [
      "\u001b[1;31m---------------------------------------------------------------------------\u001b[0m",
      "\u001b[1;31mNameError\u001b[0m                                 Traceback (most recent call last)",
      "Input \u001b[1;32mIn [10]\u001b[0m, in \u001b[0;36m<cell line: 1>\u001b[1;34m()\u001b[0m\n\u001b[1;32m----> 1\u001b[0m sql \u001b[38;5;241m%\u001b[39m (\u001b[38;5;124m'\u001b[39m\u001b[38;5;124m,\u001b[39m\u001b[38;5;124m'\u001b[39m\u001b[38;5;241m.\u001b[39mjoin(\u001b[43mcolumns\u001b[49m), values)\n",
      "\u001b[1;31mNameError\u001b[0m: name 'columns' is not defined"
     ]
    }
   ],
   "source": [
    "sql % (','.join(columns), values)"
   ]
  },
  {
   "cell_type": "markdown",
   "metadata": {},
   "source": [
    "This code block will delete rows from the SOLVENT table, in case of the need to reset the table for this lesson."
   ]
  },
  {
   "cell_type": "code",
   "execution_count": 79,
   "metadata": {},
   "outputs": [
    {
     "name": "stdout",
     "output_type": "stream",
     "text": [
      "Connection Successful\n",
      "All rows deleted\n",
      "Operation successful\n",
      "Connection closed\n"
     ]
    }
   ],
   "source": [
    "delete_query = \"DELETE FROM SOLVENT *\"\n",
    "\n",
    "# pg.connect returns a connection instance, based on the login parameters\n",
    "conn = pg.connect(**conn_kwargs)\n",
    "print(\"Connection Successful\")\n",
    "\n",
    "# A cursor object is used to query the database from Python\n",
    "cur = conn.cursor()\n",
    "\n",
    "cur.execute(delete_query)\n",
    "\n",
    "print(\"All rows deleted\")\n",
    "conn.commit()\n",
    "\n",
    "print(\"Operation successful\")\n",
    "conn.close()\n",
    "print(\"Connection closed\")"
   ]
  },
  {
   "cell_type": "code",
   "execution_count": 52,
   "metadata": {},
   "outputs": [],
   "source": [
    "def pg_insert(sql, tup):\n",
    "    \n",
    "    try:\n",
    "        # Database connection\n",
    "        conn = pg.connect(**conn_kwargs)\n",
    "        cur = conn.cursor()\n",
    "        \n",
    "        # Pass SQL query, using string and placeholders\n",
    "        cur.execute(sql, tup)\n",
    "        \n",
    "#         # Fetch result\n",
    "#         fetched = cur.fetchone()[0]\n",
    "        \n",
    "        # Commit result\n",
    "        conn.commit()\n",
    "        print(\"Operation Successful\")\n",
    "\n",
    "        cur.close()\n",
    "        conn.close()\n",
    "        \n",
    "    except (Exception, pg.DatabaseError) as error:\n",
    "        # If database connection unsuccessful, then close connection \n",
    "        print(\"Error: %s\" % error)\n",
    "        conn.rollback()\n",
    "        cur.close()\n",
    "        conn.close()\n",
    "    \n",
    "    return \n",
    "\n"
   ]
  },
  {
   "cell_type": "markdown",
   "metadata": {},
   "source": [
    "### Exercise: Insert from Excel\n",
    "\n",
    "The Microsoft Excel file `solvents.xlsx` contains simple data that obeys the same schema as the SOLVENT table. Write code to automate the population of the SOLVENT table using psycopg2, tuple logic, and other python syntax."
   ]
  },
  {
   "cell_type": "code",
   "execution_count": 60,
   "metadata": {},
   "outputs": [
    {
     "data": {
      "text/html": [
       "<div>\n",
       "<style scoped>\n",
       "    .dataframe tbody tr th:only-of-type {\n",
       "        vertical-align: middle;\n",
       "    }\n",
       "\n",
       "    .dataframe tbody tr th {\n",
       "        vertical-align: top;\n",
       "    }\n",
       "\n",
       "    .dataframe thead th {\n",
       "        text-align: right;\n",
       "    }\n",
       "</style>\n",
       "<table border=\"1\" class=\"dataframe\">\n",
       "  <thead>\n",
       "    <tr style=\"text-align: right;\">\n",
       "      <th></th>\n",
       "      <th>pubchem_cid</th>\n",
       "      <th>iupac_name</th>\n",
       "      <th>boiling_point</th>\n",
       "    </tr>\n",
       "  </thead>\n",
       "  <tbody>\n",
       "    <tr>\n",
       "      <th>0</th>\n",
       "      <td>13</td>\n",
       "      <td>1,2,4-trichlorobenzene</td>\n",
       "      <td>214.4</td>\n",
       "    </tr>\n",
       "    <tr>\n",
       "      <th>1</th>\n",
       "      <td>241</td>\n",
       "      <td>benzene</td>\n",
       "      <td>80.1</td>\n",
       "    </tr>\n",
       "    <tr>\n",
       "      <th>2</th>\n",
       "      <td>1140</td>\n",
       "      <td>toluene</td>\n",
       "      <td>110.6</td>\n",
       "    </tr>\n",
       "    <tr>\n",
       "      <th>3</th>\n",
       "      <td>6212</td>\n",
       "      <td>chloroform</td>\n",
       "      <td>61.2</td>\n",
       "    </tr>\n",
       "    <tr>\n",
       "      <th>4</th>\n",
       "      <td>6591</td>\n",
       "      <td>1,1,2,2-tetrachloroethane</td>\n",
       "      <td>146.6</td>\n",
       "    </tr>\n",
       "    <tr>\n",
       "      <th>5</th>\n",
       "      <td>7003</td>\n",
       "      <td>1-chloronaphthalene</td>\n",
       "      <td>305.2</td>\n",
       "    </tr>\n",
       "    <tr>\n",
       "      <th>6</th>\n",
       "      <td>7239</td>\n",
       "      <td>1,2-dichlorobenzene</td>\n",
       "      <td>180.5</td>\n",
       "    </tr>\n",
       "    <tr>\n",
       "      <th>7</th>\n",
       "      <td>7501</td>\n",
       "      <td>styrene</td>\n",
       "      <td>145.5</td>\n",
       "    </tr>\n",
       "    <tr>\n",
       "      <th>8</th>\n",
       "      <td>7809</td>\n",
       "      <td>1,4-xylene</td>\n",
       "      <td>138.4</td>\n",
       "    </tr>\n",
       "    <tr>\n",
       "      <th>9</th>\n",
       "      <td>7947</td>\n",
       "      <td>1,3,5-trimethylbenzene</td>\n",
       "      <td>164.5</td>\n",
       "    </tr>\n",
       "    <tr>\n",
       "      <th>10</th>\n",
       "      <td>7964</td>\n",
       "      <td>chlorobenzene</td>\n",
       "      <td>131.6</td>\n",
       "    </tr>\n",
       "    <tr>\n",
       "      <th>11</th>\n",
       "      <td>8030</td>\n",
       "      <td>thiophene</td>\n",
       "      <td>84.2</td>\n",
       "    </tr>\n",
       "    <tr>\n",
       "      <th>12</th>\n",
       "      <td>13229</td>\n",
       "      <td>cyclohexylbenzene</td>\n",
       "      <td>257.0</td>\n",
       "    </tr>\n",
       "  </tbody>\n",
       "</table>\n",
       "</div>"
      ],
      "text/plain": [
       "    pubchem_cid                 iupac_name  boiling_point\n",
       "0            13     1,2,4-trichlorobenzene          214.4\n",
       "1           241                    benzene           80.1\n",
       "2          1140                    toluene          110.6\n",
       "3          6212                 chloroform           61.2\n",
       "4          6591  1,1,2,2-tetrachloroethane          146.6\n",
       "5          7003        1-chloronaphthalene          305.2\n",
       "6          7239        1,2-dichlorobenzene          180.5\n",
       "7          7501                    styrene          145.5\n",
       "8          7809                 1,4-xylene          138.4\n",
       "9          7947     1,3,5-trimethylbenzene          164.5\n",
       "10         7964              chlorobenzene          131.6\n",
       "11         8030                  thiophene           84.2\n",
       "12        13229          cyclohexylbenzene          257.0"
      ]
     },
     "execution_count": 60,
     "metadata": {},
     "output_type": "execute_result"
    }
   ],
   "source": [
    "df = pd.read_excel('solvents.xlsx')\n",
    "df"
   ]
  },
  {
   "cell_type": "code",
   "execution_count": 73,
   "metadata": {},
   "outputs": [
    {
     "name": "stdout",
     "output_type": "stream",
     "text": [
      "Pandas(pubchem_cid=13, iupac_name='1,2,4-trichlorobenzene', boiling_point=214.4)\n",
      "Pandas(pubchem_cid=241, iupac_name='benzene', boiling_point=80.1)\n",
      "Pandas(pubchem_cid=1140, iupac_name='toluene', boiling_point=110.6)\n",
      "Pandas(pubchem_cid=6212, iupac_name='chloroform', boiling_point=61.2)\n",
      "Pandas(pubchem_cid=6591, iupac_name='1,1,2,2-tetrachloroethane', boiling_point=146.6)\n",
      "Pandas(pubchem_cid=7003, iupac_name='1-chloronaphthalene', boiling_point=305.2)\n",
      "Pandas(pubchem_cid=7239, iupac_name='1,2-dichlorobenzene', boiling_point=180.5)\n",
      "Pandas(pubchem_cid=7501, iupac_name='styrene', boiling_point=145.5)\n",
      "Pandas(pubchem_cid=7809, iupac_name='1,4-xylene', boiling_point=138.4)\n",
      "Pandas(pubchem_cid=7947, iupac_name='1,3,5-trimethylbenzene', boiling_point=164.5)\n",
      "Pandas(pubchem_cid=7964, iupac_name='chlorobenzene', boiling_point=131.6)\n",
      "Pandas(pubchem_cid=8030, iupac_name='thiophene', boiling_point=84.2)\n",
      "Pandas(pubchem_cid=13229, iupac_name='cyclohexylbenzene', boiling_point=257.0)\n"
     ]
    }
   ],
   "source": [
    "for row in df.itertuples(index=False):\n",
    "    print(row)"
   ]
  },
  {
   "cell_type": "code",
   "execution_count": 80,
   "metadata": {},
   "outputs": [
    {
     "name": "stdout",
     "output_type": "stream",
     "text": [
      "Operation Successful\n",
      "Operation Successful\n",
      "Operation Successful\n",
      "Operation Successful\n",
      "Operation Successful\n",
      "Operation Successful\n",
      "Operation Successful\n",
      "Operation Successful\n",
      "Operation Successful\n",
      "Operation Successful\n",
      "Operation Successful\n",
      "Operation Successful\n",
      "Operation Successful\n",
      "Connection Successful\n"
     ]
    },
    {
     "ename": "UniqueViolation",
     "evalue": "오류:  중복된 키 값이 \"solvent_pkey\" 고유 제약 조건을 위반함\nDETAIL:  (pubchem_cid)=(13229) 키가 이미 있습니다.\n",
     "output_type": "error",
     "traceback": [
      "\u001b[1;31m---------------------------------------------------------------------------\u001b[0m",
      "\u001b[1;31mUniqueViolation\u001b[0m                           Traceback (most recent call last)",
      "Input \u001b[1;32mIn [80]\u001b[0m, in \u001b[0;36m<cell line: 17>\u001b[1;34m()\u001b[0m\n\u001b[0;32m     14\u001b[0m \u001b[38;5;66;03m# A cursor object is used to query the database from Python\u001b[39;00m\n\u001b[0;32m     15\u001b[0m cur \u001b[38;5;241m=\u001b[39m conn\u001b[38;5;241m.\u001b[39mcursor()\n\u001b[1;32m---> 17\u001b[0m \u001b[43mcur\u001b[49m\u001b[38;5;241;43m.\u001b[39;49m\u001b[43mexecute\u001b[49m\u001b[43m(\u001b[49m\u001b[43msql\u001b[49m\u001b[43m,\u001b[49m\u001b[43m \u001b[49m\u001b[43mtup\u001b[49m\u001b[43m)\u001b[49m\n\u001b[0;32m     19\u001b[0m \u001b[38;5;28mprint\u001b[39m(\u001b[38;5;124m\"\u001b[39m\u001b[38;5;124mRecord inserted successfully\u001b[39m\u001b[38;5;124m\"\u001b[39m)\n\u001b[0;32m     20\u001b[0m conn\u001b[38;5;241m.\u001b[39mcommit()\n",
      "\u001b[1;31mUniqueViolation\u001b[0m: 오류:  중복된 키 값이 \"solvent_pkey\" 고유 제약 조건을 위반함\nDETAIL:  (pubchem_cid)=(13229) 키가 이미 있습니다.\n"
     ]
    }
   ],
   "source": [
    "sql = '''\n",
    "INSERT INTO SOLVENT (%s) values %s\n",
    "'''\n",
    "\n",
    "columns = [\"pubchem_cid\", \"iupac_name\", \"boiling_point\"]\n",
    "\n",
    "for row in df.itertuples(index=False):\n",
    "    tup = (AsIs(','.join(columns)), row)\n",
    "    pg_insert(sql, tup)\n",
    "# pg.connect returns a connection instance, based on the login parameters\n",
    "conn = pg.connect(**conn_kwargs)\n",
    "print(\"Connection Successful\")\n",
    "\n",
    "# A cursor object is used to query the database from Python\n",
    "cur = conn.cursor()\n",
    "\n",
    "cur.execute(sql, tup)\n",
    "\n",
    "print(\"Record inserted successfully\")\n",
    "conn.commit()\n",
    "\n",
    "print(\"Operation successful\")\n",
    "conn.close()\n",
    "print(\"Connection closed\")"
   ]
  },
  {
   "cell_type": "code",
   "execution_count": 72,
   "metadata": {},
   "outputs": [
    {
     "name": "stdout",
     "output_type": "stream",
     "text": [
      "Record inserted successfully\n",
      "Operation successful\n",
      "Connection closed\n"
     ]
    }
   ],
   "source": [
    "#sql = '''\n",
    "#INSERT INTO SOLVENT (%s) VALUES %s\n",
    "#'''\n",
    "#\n",
    "#columns = [\"pubchem_cid\", \"iupac_name\", \"boiling_point\"]\n",
    "\n",
    "#for row in df.itertuples(index=False):\n",
    "#    tup = (AsIs(','.join(columns)), (row[0], row[1], row[2]))\n",
    "\n",
    "#    conn = pg.connect(**conn_kwargs)\n",
    "#    cur = conn.cursor()\n",
    "#    cur.execute(sql, tup)\n",
    "\n",
    "#print(\"Record inserted successfully\")\n",
    "#conn.commit()\n",
    "\n",
    "#print(\"Operation successful\")\n",
    "#conn.close()\n",
    "#print(\"Connection closed\")"
   ]
  },
  {
   "cell_type": "code",
   "execution_count": 48,
   "metadata": {},
   "outputs": [
    {
     "data": {
      "text/plain": [
       "((13, '1,2,4-trichlorobenzene', 214.4),\n",
       " (241, 'benzene', 80.1),\n",
       " 1140,\n",
       " 'toluene',\n",
       " 110.6)"
      ]
     },
     "execution_count": 48,
     "metadata": {},
     "output_type": "execute_result"
    }
   ],
   "source": [
    "#df_array = df.values\n",
    "#df_list = df_array.tolist()\n",
    "\n",
    "#for i in enumerate(df_list):\n",
    "#    p = df_list[i]\n",
    "#    a = tuple(p)\n",
    "#    tup_exp = ()\n",
    "#    tup_exp + a\n",
    "#tup_exp = (tuple(df_list[0]),tuple(df_list[1]))\n",
    "#tup_exp = tup_exp + tuple(df_list[2])\n",
    "\n",
    "tup_exp + tuple(df_list[2])"
   ]
  },
  {
   "cell_type": "code",
   "execution_count": 19,
   "metadata": {},
   "outputs": [
    {
     "name": "stdout",
     "output_type": "stream",
     "text": [
      "Connection Successful\n"
     ]
    },
    {
     "ename": "TypeError",
     "evalue": "not all arguments converted during string formatting",
     "output_type": "error",
     "traceback": [
      "\u001b[1;31m---------------------------------------------------------------------------\u001b[0m",
      "\u001b[1;31mTypeError\u001b[0m                                 Traceback (most recent call last)",
      "Input \u001b[1;32mIn [19]\u001b[0m, in \u001b[0;36m<cell line: 13>\u001b[1;34m()\u001b[0m\n\u001b[0;32m     10\u001b[0m \u001b[38;5;66;03m#A cursor object is used to query the database from Python\u001b[39;00m\n\u001b[0;32m     11\u001b[0m cur \u001b[38;5;241m=\u001b[39m conn\u001b[38;5;241m.\u001b[39mcursor()\n\u001b[1;32m---> 13\u001b[0m \u001b[43mcur\u001b[49m\u001b[38;5;241;43m.\u001b[39;49m\u001b[43mexecute\u001b[49m\u001b[43m(\u001b[49m\u001b[43msql\u001b[49m\u001b[43m,\u001b[49m\u001b[43m \u001b[49m\u001b[43mtup_exp\u001b[49m\u001b[43m)\u001b[49m\n\u001b[0;32m     15\u001b[0m \u001b[38;5;28mprint\u001b[39m(\u001b[38;5;124m\"\u001b[39m\u001b[38;5;124mRecord inserted successfully\u001b[39m\u001b[38;5;124m\"\u001b[39m)\n\u001b[0;32m     16\u001b[0m conn\u001b[38;5;241m.\u001b[39mcommit()\n",
      "\u001b[1;31mTypeError\u001b[0m: not all arguments converted during string formatting"
     ]
    }
   ],
   "source": [
    "sql = '''\n",
    "INSERT INTO SOLVENT (%s) PUBCHEM_CID %s IUPAC_NAME %s BOILING_POINT %s\n",
    "'''\n",
    "tup = (AsIs(','.join(columns)), tup_exp)\n",
    "\n",
    "# pg.connect returns a connection instance, based on the login parameters\n",
    "conn = pg.connect(**conn_kwargs)\n",
    "print(\"Connection Successful\")\n",
    "\n",
    "#A cursor object is used to query the database from Python\n",
    "cur = conn.cursor()\n",
    "\n",
    "cur.execute(sql, tup_exp)\n",
    "\n",
    "print(\"Record inserted successfully\")\n",
    "conn.commit()\n",
    "\n",
    "print(\"Operation successful\")\n",
    "conn.close()\n",
    "print(\"Connection closed\")"
   ]
  },
  {
   "cell_type": "code",
   "execution_count": null,
   "metadata": {},
   "outputs": [],
   "source": []
  },
  {
   "cell_type": "code",
   "execution_count": null,
   "metadata": {},
   "outputs": [],
   "source": []
  },
  {
   "cell_type": "code",
   "execution_count": null,
   "metadata": {},
   "outputs": [],
   "source": []
  },
  {
   "cell_type": "code",
   "execution_count": 24,
   "metadata": {
    "scrolled": false
   },
   "outputs": [
    {
     "name": "stdout",
     "output_type": "stream",
     "text": [
      "'{\"journal\": \"{ACS} Central Science\", \"title\": \"{BigSMILES}: A Structurally-Based Line Notation for Describing Macromolecules\", \"author\": \"Tzyy-Shyang Lin and Connor W. Coley and Hidenobu Mochigase and Haley K. Beech and Wencong Wang and Zi Wang and Eliot Woods and Stephen L. Craig and Jeremiah A. Johnson and Julia A. Kalow and Klavs F. Jensen and Bradley D. Olsen\", \"pages\": \"1523--1531\", \"number\": \"9\", \"volume\": \"5\", \"publisher\": \"American Chemical Society ({ACS})\", \"month\": \"sep\", \"year\": \"2019\", \"url\": \"https://doi.org/10.1021%2Facscentsci.9b00476\", \"doi\": \"10.1021/acscentsci.9b00476\", \"ENTRYTYPE\": \"article\", \"ID\": \"Lin_2019\"}'\n"
     ]
    }
   ],
   "source": [
    "a = Json(doidict)\n",
    "# type(a)\n",
    "print(a)"
   ]
  },
  {
   "cell_type": "code",
   "execution_count": 7,
   "metadata": {},
   "outputs": [
    {
     "name": "stdout",
     "output_type": "stream",
     "text": [
      "Connnection Successful\n",
      "Table(s) created successfully\n",
      "Operation successful\n"
     ]
    }
   ],
   "source": [
    "import psycopg2\n",
    "from psycopg2.extras import Json \n",
    "\n",
    "\n",
    "kwargs = {\n",
    "    'database': 'test',\n",
    "    'user': 'postgres',\n",
    "    'password': 'password',\n",
    "    'host': '127.0.0.1',\n",
    "    'port': '5432'\n",
    "}\n",
    "\n",
    "# %% Create Tables for EXPERIMENT_INFO\n",
    "\n",
    "conn = psycopg2.connect(**kwargs)\n",
    "\n",
    "print(\"Connection Successful\")\n",
    "\n",
    "cur = conn.cursor()\n",
    "cur.execute(\n",
    "    '''\n",
    "    CREATE TABLE IF NOT EXISTS EXPERIMENT_INFO (\n",
    "        exp_id              SERIAL          PRIMARY KEY,\n",
    "        citation_type       VARCHAR(20),\n",
    "        meta                JSONB,\n",
    "        UNIQUE(citation_type, meta)\n",
    "    );\n",
    "    '''\n",
    ")\n",
    "\n",
    "print(\"Table(s) created successfully\")\n",
    "conn.commit()\n",
    "\n",
    "print(\"Operation successful\")\n",
    "conn.close()"
   ]
  },
  {
   "cell_type": "code",
   "execution_count": 26,
   "metadata": {},
   "outputs": [
    {
     "data": {
      "text/plain": [
       "<psycopg2._json.Json at 0x221a91df520>"
      ]
     },
     "execution_count": 26,
     "metadata": {},
     "output_type": "execute_result"
    }
   ],
   "source": [
    "Json(doidict)"
   ]
  },
  {
   "cell_type": "code",
   "execution_count": 44,
   "metadata": {},
   "outputs": [
    {
     "name": "stdout",
     "output_type": "stream",
     "text": [
      "Connection Successful\n"
     ]
    },
    {
     "ename": "UniqueViolation",
     "evalue": "duplicate key value violates unique constraint \"experiment_info_citation_type_meta_key\"\nDETAIL:  Key (citation_type, meta)=(literature, {\"ID\": \"Lin_2019\", \"doi\": \"10.1021/acscentsci.9b00476\", \"url\": \"https://doi.org/10.1021%2Facscentsci.9b00476\", \"year\": \"2019\", \"month\": \"sep\", \"pages\": \"1523--1531\", \"title\": \"{BigSMILES}: A Structurally-Based Line Notation for Describing Macromolecules\", \"author\": \"Tzyy-Shyang Lin and Connor W. Coley and Hidenobu Mochigase and Haley K. Beech and Wencong Wang and Zi Wang and Eliot Woods and Stephen L. Craig and Jeremiah A. Johnson and Julia A. Kalow and Klavs F. Jensen and Bradley D. Olsen\", \"number\": \"9\", \"volume\": \"5\", \"journal\": \"{ACS} Central Science\", \"ENTRYTYPE\": \"article\", \"publisher\": \"American Chemical Society ({ACS})\"}) already exists.\n",
     "output_type": "error",
     "traceback": [
      "\u001b[1;31m---------------------------------------------------------------------------\u001b[0m",
      "\u001b[1;31mUniqueViolation\u001b[0m                           Traceback (most recent call last)",
      "\u001b[1;32m<ipython-input-44-24b79dbafd0e>\u001b[0m in \u001b[0;36m<module>\u001b[1;34m\u001b[0m\n\u001b[0;32m     11\u001b[0m \u001b[1;33m\u001b[0m\u001b[0m\n\u001b[0;32m     12\u001b[0m \u001b[0mcur\u001b[0m \u001b[1;33m=\u001b[0m \u001b[0mconn\u001b[0m\u001b[1;33m.\u001b[0m\u001b[0mcursor\u001b[0m\u001b[1;33m(\u001b[0m\u001b[1;33m)\u001b[0m\u001b[1;33m\u001b[0m\u001b[1;33m\u001b[0m\u001b[0m\n\u001b[1;32m---> 13\u001b[1;33m \u001b[0mcur\u001b[0m\u001b[1;33m.\u001b[0m\u001b[0mexecute\u001b[0m\u001b[1;33m(\u001b[0m\u001b[0msql\u001b[0m\u001b[1;33m,\u001b[0m \u001b[0mtup\u001b[0m\u001b[1;33m)\u001b[0m\u001b[1;33m\u001b[0m\u001b[1;33m\u001b[0m\u001b[0m\n\u001b[0m\u001b[0;32m     14\u001b[0m \u001b[1;33m\u001b[0m\u001b[0m\n\u001b[0;32m     15\u001b[0m \u001b[0mprint\u001b[0m\u001b[1;33m(\u001b[0m\u001b[1;34m\"Table(s) created successfully\"\u001b[0m\u001b[1;33m)\u001b[0m\u001b[1;33m\u001b[0m\u001b[1;33m\u001b[0m\u001b[0m\n",
      "\u001b[1;31mUniqueViolation\u001b[0m: duplicate key value violates unique constraint \"experiment_info_citation_type_meta_key\"\nDETAIL:  Key (citation_type, meta)=(literature, {\"ID\": \"Lin_2019\", \"doi\": \"10.1021/acscentsci.9b00476\", \"url\": \"https://doi.org/10.1021%2Facscentsci.9b00476\", \"year\": \"2019\", \"month\": \"sep\", \"pages\": \"1523--1531\", \"title\": \"{BigSMILES}: A Structurally-Based Line Notation for Describing Macromolecules\", \"author\": \"Tzyy-Shyang Lin and Connor W. Coley and Hidenobu Mochigase and Haley K. Beech and Wencong Wang and Zi Wang and Eliot Woods and Stephen L. Craig and Jeremiah A. Johnson and Julia A. Kalow and Klavs F. Jensen and Bradley D. Olsen\", \"number\": \"9\", \"volume\": \"5\", \"journal\": \"{ACS} Central Science\", \"ENTRYTYPE\": \"article\", \"publisher\": \"American Chemical Society ({ACS})\"}) already exists.\n"
     ]
    }
   ],
   "source": [
    "sql = \"INSERT INTO experiment_info(%s) VALUES %s\"\n",
    "\n",
    "columns = ['citation_type', 'meta']\n",
    "values = ['literature', Json(doidict)]\n",
    "\n",
    "tup = (AsIs(','.join(columns)), tuple(values))\n",
    "\n",
    "conn = psycopg2.connect(**kwargs)\n",
    "\n",
    "print(\"Connection Successful\")\n",
    "\n",
    "cur = conn.cursor()\n",
    "cur.execute(sql, tup)\n",
    "\n",
    "print(\"Table(s) created successfully\")\n",
    "conn.commit()\n",
    "\n",
    "print(\"Operation successful\")\n",
    "conn.close()\n"
   ]
  },
  {
   "cell_type": "code",
   "execution_count": null,
   "metadata": {},
   "outputs": [],
   "source": [
    "## I left off talking about inserting new tuples that already exist... and violating key constraints. What about sequencing?\n",
    "## Let's insert like 5 doi's, see what happens"
   ]
  }
 ],
 "metadata": {
  "kernelspec": {
   "display_name": "Python 3 (ipykernel)",
   "language": "python",
   "name": "python3"
  },
  "language_info": {
   "codemirror_mode": {
    "name": "ipython",
    "version": 3
   },
   "file_extension": ".py",
   "mimetype": "text/x-python",
   "name": "python",
   "nbconvert_exporter": "python",
   "pygments_lexer": "ipython3",
   "version": "3.9.12"
  }
 },
 "nbformat": 4,
 "nbformat_minor": 4
}
