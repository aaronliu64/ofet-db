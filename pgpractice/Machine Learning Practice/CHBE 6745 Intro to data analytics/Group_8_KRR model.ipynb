{
 "cells": [
  {
   "cell_type": "markdown",
   "metadata": {
    "colab_type": "text",
    "id": "snaKdIIlTKI-"
   },
   "source": [
    "# ChBE 6745 Course Project - KRR\n",
    "\n",
    "**Group 8**\n",
    "\n",
    "*Group members: Aaron Liu, Brian Khau, Max Bukhovko, Nicole (Yuge) Hu, Rahul Venkatesh*\n",
    "\n",
    "## Background\n",
    "### Context\n",
    "PET and many polyesters are susceptible to thermo-oxidative decomposition, especially when exposed to high temperatures. As this degradation causes a significant drop in mechanical properties, additives are typically blended into the polymer to enhance thermal stability. Thus, a contemporary problem is the **discovery of small-molecule additives** that can adequately improve the mechanical property persistence of polymer fibers after thermal exposure.\n",
    "\n",
    "To quantify \"stability\", we will be using a metric known as **tenacity persistence** as our response variable $y$. This quantity is defined as:\n",
    "\n",
    "\\begin{align*}\n",
    "  y = \\frac{\\text{tenacity after treatment}}{\\text{tenacity before treatment}} (100\\%)\n",
    "\\end{align*}\n",
    "\n",
    "Tenacity is a measure of a fiber's ultimate breaking strength; the higher the tenacity, the more resistant the fiber is against breaking. In this case study, the samples were held in a water vessel and placed in a heater at 120$^\\circ$C for 3 days. \n",
    "\n",
    "### Objective\n",
    "The main objective of this project is to use a database of small-molecule additives and their calculated molecular descriptors to predict the tenacity persistence for polyethylene terephthlate (PET) fibers after heat exposure. This construct is also known as a quantitative structure-activity relationship (QSAR) model. **Because we are attempting to quantify a continuous variable, we will be using a QSAR regression model.**\n",
    "\n",
    "\n",
    "\n",
    "### Dataset Details\n",
    "* The data outlined in the Excel file `PETadditives_database_and_descriptors.csv` has previously been mined from patent US 3,491,057. This patent describes multiple nitrogen-containing additives added to PET fibers to improve their thermo-oxidative stability.  \n",
    "* The response variable $y$ refers to the experimentally measured tenacity persistence for PET fibers augmented with a given additive. Note that $y$ has been measured in several different ways, such as in dry conditions after 1 hour, or wet conditions after 15 hours. \n",
    "* The features ($x_0$, $x_1$, $x_2$...)are molecular descriptors derived from the structure of the additive. These include descriptors such as molecular weight and branching, and were previously calculated using alvaDesc 1.0.12. Our dataset consists of 42 observations with 1862 molecular desciptors. For a complete list on the molecular descriptors, refer to this link: https://www.alvascience.com/alvadesc-descriptors/\n",
    "\n",
    "## Baseline Model \n",
    "\n",
    "### Summary\n",
    "In our baseline model, we performed a simple principle component regression (PCR), where we applied the following steps.\n",
    "1. Scale the entire dataset. (Standard scaling)\n",
    "2. Split the dataset into training and validation datasets using `train_test_split` with a hold out percentage of 20%. \n",
    "3. Naive implementation of PCA on all feature space to identify high variance principal components. \n",
    "4. Perform dimensionality reduction by using an arbitrary heuristic of retaining principal components which total to 90% of cumulative variance. \n",
    "5. Develop a linear regression model based on this subset of principal components. \n",
    "6. Assess the fitting of the given model on validation data.\n",
    "\n",
    "### Major fallacies with our baseline model\n",
    "Notably, our baseline model exhibits 3 major fallacies:\n",
    "1. Scaling the entire dataset. This contaminates the validation data set because the mean and variance used to calculate the model should only be based on the training dataset.\n",
    "2. Naive implementation of PCA results in loss in performance compared to the SciKit-Learn implementation.\n",
    "3. Use of a threshold heuristic. This fixes the number of principal components used and provides no control to optimize the model.\n",
    "\n",
    "## Improved Methodology\n",
    "We have improved our modeling pipeline to account for these fallacies.\n",
    "1. **Improved speed, efficiency, and clarity.** We use the `Pipeline()` class to wrap together all our transforms and estimators, including scaling. In addition, we will use built-in functions whenever possible (such as `PCA()`).\n",
    "\n",
    "2. **Cross-validation/resampling accuracy estimates.**  We implement `LeaveOneOut()` or `KFold()` implicitly through `GridSearchCV()` to aid in hyperparameter tuning. This enables us to select appropriate hyperparameters, such as the number of principal components or regularization strength.\n",
    "\n",
    "3. **More generalized regression models.** `LinearRegression()` works best when the underlying model exhibits linear correlations. Because this assumption may not hold (as with use of discrete variables or nonlinear trends), we have also looked models that perform feature selection (`LASSO()`) and dimensionality reduction(`PCA()`, `PLS()`). We will try a nonlinear PCA like kernel PCA in a future iteration of this model."
   ]
  },
  {
   "cell_type": "markdown",
   "metadata": {
    "colab_type": "text",
    "id": "3wziKks2TKJB"
   },
   "source": [
    "## Report accomplishments\n",
    "Refer to the below figure for a visual explanation of our pipeline. In this report, we have compared the performance of the following pipelines using `LeaveOneOut()` cross-validation from `GridSearchCV()`.\n",
    "\n",
    "### Pipeline Description\n",
    "Model from previous report:\n",
    "* Streamlined Baseline Model: Principal Component Regression (PCR).\n",
    "    * pipeline = `StandardScaler()`, `PCA()`, `LinearRegression()`\n",
    "\n",
    "Linear models:\n",
    "* Naive model: Ordinary Least Squares (OLS).\n",
    "    * pipeline = `StandardScaler()`, `LinearRegression()`\n",
    "* Improved Model 1: L1-regularized least-squares (LASSO).\n",
    "    * pipeline = `StandardScaler()`, `Lasso()`\n",
    "* Improved Model 2: Partial-least squares regression (PLSR).\n",
    "    * pipeline= `StandardScaler()`, `PLSRegression()`\n",
    "\n",
    "Advanced models:\n",
    "* Improved Model 3: Neural networks.\n",
    "    * This is accomplished using code other than a pipeline; refer to the end of the document for more details on results and implementation."
   ]
  },
  {
   "cell_type": "markdown",
   "metadata": {
    "colab_type": "text",
    "id": "oF01Q2TqTKJD"
   },
   "source": [
    "### Summary of (Linear) Model Results\n",
    "\n",
    "Note that while the summary for the linear models are here, the artificial neural network was tested on numerous different test-validation splits at the end of the document.\n",
    "\n",
    "Using `np.random.seed(0)`:\n",
    "\n",
    "|        | Hyperparameter | Training R2 | Validation R2 | Training RMSE | Validation RMSE |\n",
    "|--------|----------------|-------------|---------------|---------------|-----------------|\n",
    "| OLS    |                | 1.0000      | -4.4251       | 0.0000        | 3.8539          |\n",
    "| PCR    | 19 components  | 0.8350      | -2.0211       | 1.1167        | 2.8759          |\n",
    "| LASSO  | alpha=0.316    | 0.8554      | -2.2197       | 1.0455        | 2.9690          |\n",
    "| PLSR   | 4 components   | 1.0000      | -4.4249       | 0.0112        | 3.8539          |\n",
    "\n",
    "Using `np.random.seed(10)`:\n",
    "\n",
    "|       | Hyperparameter| Training R2 | Validation R2 | Training RMSE | Validation RMSE |\n",
    "|-------|---------------|-------------|---------------|---------------|-----------------|\n",
    "| OLS   |               | 1.0000      | -1.0536       | 0.0000        | 2.8496          |\n",
    "| PCR   | 10 components | 0.5320      | -0.1913       | 1.8608        | 2.1704          |\n",
    "| LASSO | alpha = 0.316 | 0.8235      | -4.9698       | 1.1428        | 4.8586          |\n",
    "| PLSR  | 4 components  | 0.7931      | -1.0244       | 1.2371        | 2.8293          |\n",
    "\n",
    "Using `np.random.seed(40)` (as a \"lucky\" seed):\n",
    "\n",
    "|       | Hyperparameter | Training R2 | Validation R2 | Training RMSE | Validation RMSE |\n",
    "|-------|----------------|-------------|---------------|---------------|-----------------|\n",
    "| OLS   |                | 1.0000      | 0.1603        | 0.0000        | 2.3059          | \n",
    "| PCR   | 10 components  | 0.5096      | 0.2350        | 1.8195        | 2.2009          |\n",
    "| LASSO | alpha=0.233    | 0.8673      | 0.0678        | 0.9465        | 2.4295          |\n",
    "| PLSR  | 4 components   | 0.7389      | 0.2827        | 1.3276        | 2.1311          |"
   ]
  },
  {
   "cell_type": "markdown",
   "metadata": {
    "colab_type": "text",
    "id": "ZxcF-GCHTKJE"
   },
   "source": [
    "## Commentary and Future Improvements\n",
    "\n",
    "We have developed muliple linear models to analyze how well they can model the data. An interesting observation is that the models perform analogously; for instance, if the baseline ordinary least-squares model performs badly, then the other models will also exhibit a poor validation $R^2$.\n",
    "\n",
    "Furthermore, picking a \"lucky\" split results in high-performing values. The discrepancy between different hold-out splits is an indication of the heterogenity of our dataset. Because each observation represents a different additive, the test-train split likely results in two subsets with dissimilar values. This means that our training model can perform poorly depending on which additives are held out in the testing split.\n",
    "\n",
    "To combat this, we may attempt a generative model to synthesize more data in our final report, such that the test and train data appear similar."
   ]
  },
  {
   "cell_type": "markdown",
   "metadata": {
    "colab_type": "text",
    "id": "4OBWn4HSTKJG"
   },
   "source": [
    "## Import Data and Read into pandas"
   ]
  },
  {
   "cell_type": "code",
   "execution_count": 343,
   "metadata": {
    "colab": {
     "base_uri": "https://localhost:8080/",
     "height": 296
    },
    "colab_type": "code",
    "id": "pfE9Oh3qTKJI",
    "outputId": "ae15f0b0-6250-4a29-dcd1-ed2b42c5f4b7"
   },
   "outputs": [
    {
     "data": {
      "text/html": [
       "<div>\n",
       "<style scoped>\n",
       "    .dataframe tbody tr th:only-of-type {\n",
       "        vertical-align: middle;\n",
       "    }\n",
       "\n",
       "    .dataframe tbody tr th {\n",
       "        vertical-align: top;\n",
       "    }\n",
       "\n",
       "    .dataframe thead th {\n",
       "        text-align: right;\n",
       "    }\n",
       "</style>\n",
       "<table border=\"1\" class=\"dataframe\">\n",
       "  <thead>\n",
       "    <tr style=\"text-align: right;\">\n",
       "      <th></th>\n",
       "      <th>NAME</th>\n",
       "      <th>Addition Method</th>\n",
       "      <th>Amount Added</th>\n",
       "      <th>dry 1 hr</th>\n",
       "      <th>dry 2 hr</th>\n",
       "      <th>dry 3 hr</th>\n",
       "      <th>wet 3 day</th>\n",
       "      <th>wet 5 day</th>\n",
       "      <th>wet 15 day</th>\n",
       "      <th>MW</th>\n",
       "      <th>...</th>\n",
       "      <th>BLTA96</th>\n",
       "      <th>DLS_01</th>\n",
       "      <th>DLS_02</th>\n",
       "      <th>DLS_03</th>\n",
       "      <th>DLS_04</th>\n",
       "      <th>DLS_05</th>\n",
       "      <th>DLS_06</th>\n",
       "      <th>DLS_cons</th>\n",
       "      <th>LLS_01</th>\n",
       "      <th>LLS_02</th>\n",
       "    </tr>\n",
       "    <tr>\n",
       "      <th>No.</th>\n",
       "      <th></th>\n",
       "      <th></th>\n",
       "      <th></th>\n",
       "      <th></th>\n",
       "      <th></th>\n",
       "      <th></th>\n",
       "      <th></th>\n",
       "      <th></th>\n",
       "      <th></th>\n",
       "      <th></th>\n",
       "      <th></th>\n",
       "      <th></th>\n",
       "      <th></th>\n",
       "      <th></th>\n",
       "      <th></th>\n",
       "      <th></th>\n",
       "      <th></th>\n",
       "      <th></th>\n",
       "      <th></th>\n",
       "      <th></th>\n",
       "      <th></th>\n",
       "    </tr>\n",
       "  </thead>\n",
       "  <tbody>\n",
       "    <tr>\n",
       "      <th>1</th>\n",
       "      <td>CC1=CC=CC=C1N=C=NC2=CC=CC=C2C</td>\n",
       "      <td>A</td>\n",
       "      <td>0.25</td>\n",
       "      <td>68.5</td>\n",
       "      <td>59.0</td>\n",
       "      <td>50.7</td>\n",
       "      <td>18.8</td>\n",
       "      <td>0.0</td>\n",
       "      <td>0.0</td>\n",
       "      <td>222.31</td>\n",
       "      <td>...</td>\n",
       "      <td>-5.190376</td>\n",
       "      <td>1.0</td>\n",
       "      <td>1.000000</td>\n",
       "      <td>1.000000</td>\n",
       "      <td>0.6</td>\n",
       "      <td>0.5</td>\n",
       "      <td>1.0</td>\n",
       "      <td>0.871429</td>\n",
       "      <td>0.833333</td>\n",
       "      <td>1.0</td>\n",
       "    </tr>\n",
       "    <tr>\n",
       "      <th>2</th>\n",
       "      <td>O=C(N1)C2=CC=CC(CC3=CC=CC=C3)=C2C1=O</td>\n",
       "      <td>A</td>\n",
       "      <td>0.25</td>\n",
       "      <td>78.1</td>\n",
       "      <td>70.0</td>\n",
       "      <td>63.5</td>\n",
       "      <td>69.6</td>\n",
       "      <td>30.7</td>\n",
       "      <td>6.4</td>\n",
       "      <td>237.27</td>\n",
       "      <td>...</td>\n",
       "      <td>-4.354596</td>\n",
       "      <td>1.0</td>\n",
       "      <td>1.000000</td>\n",
       "      <td>1.000000</td>\n",
       "      <td>0.6</td>\n",
       "      <td>0.0</td>\n",
       "      <td>1.0</td>\n",
       "      <td>0.800000</td>\n",
       "      <td>0.833333</td>\n",
       "      <td>1.0</td>\n",
       "    </tr>\n",
       "    <tr>\n",
       "      <th>3</th>\n",
       "      <td>O=C(N1)C2=CC=CC(C(C)=O)=C2C1=O</td>\n",
       "      <td>A</td>\n",
       "      <td>0.25</td>\n",
       "      <td>74.3</td>\n",
       "      <td>67.6</td>\n",
       "      <td>60.1</td>\n",
       "      <td>55.1</td>\n",
       "      <td>22.4</td>\n",
       "      <td>0.0</td>\n",
       "      <td>189.18</td>\n",
       "      <td>...</td>\n",
       "      <td>-2.608074</td>\n",
       "      <td>1.0</td>\n",
       "      <td>0.833333</td>\n",
       "      <td>0.833333</td>\n",
       "      <td>0.4</td>\n",
       "      <td>0.0</td>\n",
       "      <td>1.0</td>\n",
       "      <td>0.723810</td>\n",
       "      <td>0.666667</td>\n",
       "      <td>1.0</td>\n",
       "    </tr>\n",
       "  </tbody>\n",
       "</table>\n",
       "<p>3 rows × 1884 columns</p>\n",
       "</div>"
      ],
      "text/plain": [
       "                                     NAME Addition Method  Amount Added  \\\n",
       "No.                                                                       \n",
       "1           CC1=CC=CC=C1N=C=NC2=CC=CC=C2C               A          0.25   \n",
       "2    O=C(N1)C2=CC=CC(CC3=CC=CC=C3)=C2C1=O               A          0.25   \n",
       "3          O=C(N1)C2=CC=CC(C(C)=O)=C2C1=O               A          0.25   \n",
       "\n",
       "     dry 1 hr  dry 2 hr  dry 3 hr  wet 3 day  wet 5 day  wet 15 day      MW  \\\n",
       "No.                                                                           \n",
       "1        68.5      59.0      50.7       18.8        0.0         0.0  222.31   \n",
       "2        78.1      70.0      63.5       69.6       30.7         6.4  237.27   \n",
       "3        74.3      67.6      60.1       55.1       22.4         0.0  189.18   \n",
       "\n",
       "     ...    BLTA96  DLS_01    DLS_02    DLS_03  DLS_04  DLS_05  DLS_06  \\\n",
       "No.  ...                                                                 \n",
       "1    ... -5.190376     1.0  1.000000  1.000000     0.6     0.5     1.0   \n",
       "2    ... -4.354596     1.0  1.000000  1.000000     0.6     0.0     1.0   \n",
       "3    ... -2.608074     1.0  0.833333  0.833333     0.4     0.0     1.0   \n",
       "\n",
       "     DLS_cons    LLS_01  LLS_02  \n",
       "No.                              \n",
       "1    0.871429  0.833333     1.0  \n",
       "2    0.800000  0.833333     1.0  \n",
       "3    0.723810  0.666667     1.0  \n",
       "\n",
       "[3 rows x 1884 columns]"
      ]
     },
     "execution_count": 343,
     "metadata": {},
     "output_type": "execute_result"
    }
   ],
   "source": [
    "%matplotlib inline\n",
    "import pandas as pd\n",
    "import numpy as np\n",
    "import pylab as plt\n",
    "import seaborn as sns\n",
    "\n",
    "df = pd.read_csv('PETadditives_database_and_descriptors.csv',index_col=\"No.\")\n",
    "df.head(3) # First 5 columns"
   ]
  },
  {
   "cell_type": "markdown",
   "metadata": {
    "colab_type": "text",
    "id": "1s--diyyTKJa"
   },
   "source": [
    "## Filter Data\n",
    "\n",
    "Since our dataset above contains various processing parameters, such as additive method and the amount of additive added, we additionally filtered the observations to correspond to additive method A and 0.25 as the amount added. Also note that we have multiple outputs, corresponding to tenacities measured at different conditions. **We will be using the first output, dry 1 hour.**"
   ]
  },
  {
   "cell_type": "code",
   "execution_count": 344,
   "metadata": {
    "colab": {
     "base_uri": "https://localhost:8080/",
     "height": 143
    },
    "colab_type": "code",
    "id": "QEtSHKGCTKJb",
    "outputId": "854bf7cd-3ac3-4d51-8cd6-08e820f11140"
   },
   "outputs": [
    {
     "data": {
      "text/html": [
       "<div>\n",
       "<style scoped>\n",
       "    .dataframe tbody tr th:only-of-type {\n",
       "        vertical-align: middle;\n",
       "    }\n",
       "\n",
       "    .dataframe tbody tr th {\n",
       "        vertical-align: top;\n",
       "    }\n",
       "\n",
       "    .dataframe thead th {\n",
       "        text-align: right;\n",
       "    }\n",
       "</style>\n",
       "<table border=\"1\" class=\"dataframe\">\n",
       "  <thead>\n",
       "    <tr style=\"text-align: right;\">\n",
       "      <th></th>\n",
       "      <th>dry 1 hr</th>\n",
       "      <th>dry 2 hr</th>\n",
       "      <th>dry 3 hr</th>\n",
       "      <th>wet 3 day</th>\n",
       "      <th>wet 5 day</th>\n",
       "      <th>wet 15 day</th>\n",
       "    </tr>\n",
       "    <tr>\n",
       "      <th>No.</th>\n",
       "      <th></th>\n",
       "      <th></th>\n",
       "      <th></th>\n",
       "      <th></th>\n",
       "      <th></th>\n",
       "      <th></th>\n",
       "    </tr>\n",
       "  </thead>\n",
       "  <tbody>\n",
       "    <tr>\n",
       "      <th>1</th>\n",
       "      <td>68.5</td>\n",
       "      <td>59.0</td>\n",
       "      <td>50.7</td>\n",
       "      <td>18.8</td>\n",
       "      <td>0.0</td>\n",
       "      <td>0.0</td>\n",
       "    </tr>\n",
       "    <tr>\n",
       "      <th>2</th>\n",
       "      <td>78.1</td>\n",
       "      <td>70.0</td>\n",
       "      <td>63.5</td>\n",
       "      <td>69.6</td>\n",
       "      <td>30.7</td>\n",
       "      <td>6.4</td>\n",
       "    </tr>\n",
       "  </tbody>\n",
       "</table>\n",
       "</div>"
      ],
      "text/plain": [
       "     dry 1 hr  dry 2 hr  dry 3 hr  wet 3 day  wet 5 day  wet 15 day\n",
       "No.                                                                \n",
       "1        68.5      59.0      50.7       18.8        0.0         0.0\n",
       "2        78.1      70.0      63.5       69.6       30.7         6.4"
      ]
     },
     "execution_count": 344,
     "metadata": {},
     "output_type": "execute_result"
    }
   ],
   "source": [
    "# filter and extract dry 0 hr values as y\n",
    "df_filtered = df[(df['Amount Added'] == 0.25)&(df['Addition Method'] == 'A')]\n",
    "df_Y = df_filtered.iloc[:,3:9]\n",
    "df_Y.head(2)"
   ]
  },
  {
   "cell_type": "code",
   "execution_count": 345,
   "metadata": {
    "colab": {
     "base_uri": "https://localhost:8080/",
     "height": 210
    },
    "colab_type": "code",
    "id": "u1QsbuGATKJw",
    "outputId": "bc3eea19-9e9f-4372-b54b-9cc1ea9a3d87"
   },
   "outputs": [
    {
     "data": {
      "text/html": [
       "<div>\n",
       "<style scoped>\n",
       "    .dataframe tbody tr th:only-of-type {\n",
       "        vertical-align: middle;\n",
       "    }\n",
       "\n",
       "    .dataframe tbody tr th {\n",
       "        vertical-align: top;\n",
       "    }\n",
       "\n",
       "    .dataframe thead th {\n",
       "        text-align: right;\n",
       "    }\n",
       "</style>\n",
       "<table border=\"1\" class=\"dataframe\">\n",
       "  <thead>\n",
       "    <tr style=\"text-align: right;\">\n",
       "      <th></th>\n",
       "      <th>MW</th>\n",
       "      <th>AMW</th>\n",
       "      <th>Sv</th>\n",
       "      <th>Se</th>\n",
       "      <th>Sp</th>\n",
       "      <th>Si</th>\n",
       "      <th>Mv</th>\n",
       "      <th>Me</th>\n",
       "      <th>Mp</th>\n",
       "      <th>Mi</th>\n",
       "      <th>...</th>\n",
       "      <th>BLTA96</th>\n",
       "      <th>DLS_01</th>\n",
       "      <th>DLS_02</th>\n",
       "      <th>DLS_03</th>\n",
       "      <th>DLS_04</th>\n",
       "      <th>DLS_05</th>\n",
       "      <th>DLS_06</th>\n",
       "      <th>DLS_cons</th>\n",
       "      <th>LLS_01</th>\n",
       "      <th>LLS_02</th>\n",
       "    </tr>\n",
       "    <tr>\n",
       "      <th>No.</th>\n",
       "      <th></th>\n",
       "      <th></th>\n",
       "      <th></th>\n",
       "      <th></th>\n",
       "      <th></th>\n",
       "      <th></th>\n",
       "      <th></th>\n",
       "      <th></th>\n",
       "      <th></th>\n",
       "      <th></th>\n",
       "      <th></th>\n",
       "      <th></th>\n",
       "      <th></th>\n",
       "      <th></th>\n",
       "      <th></th>\n",
       "      <th></th>\n",
       "      <th></th>\n",
       "      <th></th>\n",
       "      <th></th>\n",
       "      <th></th>\n",
       "      <th></th>\n",
       "    </tr>\n",
       "  </thead>\n",
       "  <tbody>\n",
       "    <tr>\n",
       "      <th>1</th>\n",
       "      <td>222.31</td>\n",
       "      <td>7.171290</td>\n",
       "      <td>20.2036</td>\n",
       "      <td>30.5052</td>\n",
       "      <td>21.5798</td>\n",
       "      <td>34.4878</td>\n",
       "      <td>0.651729</td>\n",
       "      <td>0.984039</td>\n",
       "      <td>0.696123</td>\n",
       "      <td>1.11251</td>\n",
       "      <td>...</td>\n",
       "      <td>-5.190376</td>\n",
       "      <td>1.0</td>\n",
       "      <td>1.0</td>\n",
       "      <td>1.0</td>\n",
       "      <td>0.6</td>\n",
       "      <td>0.5</td>\n",
       "      <td>1.0</td>\n",
       "      <td>0.871429</td>\n",
       "      <td>0.833333</td>\n",
       "      <td>1.0</td>\n",
       "    </tr>\n",
       "    <tr>\n",
       "      <th>2</th>\n",
       "      <td>237.27</td>\n",
       "      <td>8.181724</td>\n",
       "      <td>20.0850</td>\n",
       "      <td>29.1744</td>\n",
       "      <td>20.7217</td>\n",
       "      <td>31.9931</td>\n",
       "      <td>0.692586</td>\n",
       "      <td>1.006014</td>\n",
       "      <td>0.714541</td>\n",
       "      <td>1.10321</td>\n",
       "      <td>...</td>\n",
       "      <td>-4.354596</td>\n",
       "      <td>1.0</td>\n",
       "      <td>1.0</td>\n",
       "      <td>1.0</td>\n",
       "      <td>0.6</td>\n",
       "      <td>0.0</td>\n",
       "      <td>1.0</td>\n",
       "      <td>0.800000</td>\n",
       "      <td>0.833333</td>\n",
       "      <td>1.0</td>\n",
       "    </tr>\n",
       "  </tbody>\n",
       "</table>\n",
       "<p>2 rows × 1875 columns</p>\n",
       "</div>"
      ],
      "text/plain": [
       "         MW       AMW       Sv       Se       Sp       Si        Mv        Me  \\\n",
       "No.                                                                             \n",
       "1    222.31  7.171290  20.2036  30.5052  21.5798  34.4878  0.651729  0.984039   \n",
       "2    237.27  8.181724  20.0850  29.1744  20.7217  31.9931  0.692586  1.006014   \n",
       "\n",
       "           Mp       Mi  ...    BLTA96  DLS_01  DLS_02  DLS_03  DLS_04  DLS_05  \\\n",
       "No.                     ...                                                     \n",
       "1    0.696123  1.11251  ... -5.190376     1.0     1.0     1.0     0.6     0.5   \n",
       "2    0.714541  1.10321  ... -4.354596     1.0     1.0     1.0     0.6     0.0   \n",
       "\n",
       "     DLS_06  DLS_cons    LLS_01  LLS_02  \n",
       "No.                                      \n",
       "1       1.0  0.871429  0.833333     1.0  \n",
       "2       1.0  0.800000  0.833333     1.0  \n",
       "\n",
       "[2 rows x 1875 columns]"
      ]
     },
     "execution_count": 345,
     "metadata": {},
     "output_type": "execute_result"
    }
   ],
   "source": [
    "# Define X dataframe\n",
    "\n",
    "df_X = df_filtered.iloc[:,9:]\n",
    "# mask out columns where all the rows are the same value\n",
    "nunique = df_X.apply(pd.Series.nunique)\n",
    "cols_to_drop = nunique[nunique == 1].index\n",
    "df_X.drop(cols_to_drop, axis=1)\n",
    "df_X.head(2)"
   ]
  },
  {
   "cell_type": "markdown",
   "metadata": {
    "colab_type": "text",
    "id": "X4bbtO_wTKJ4"
   },
   "source": [
    "## Model Helper Functions"
   ]
  },
  {
   "cell_type": "markdown",
   "metadata": {
    "colab_type": "text",
    "id": "bMxWCE2FCLUq"
   },
   "source": [
    "To improve readability within this notebook, we have constructed a small set of helper functions that encapsulate visualization or pipeline tasks later on:"
   ]
  },
  {
   "cell_type": "markdown",
   "metadata": {
    "colab_type": "text",
    "id": "XpPXm6UmQD20"
   },
   "source": [
    "The `parity_plotter` code block takes in a fitted `GridSearch` object along with the testing and validation data.\n",
    "* Plots the corresponding parity plot using the object's best estimator.\n",
    "* Prints out the R2 and RMSE scores for the training and validation sets."
   ]
  },
  {
   "cell_type": "code",
   "execution_count": 346,
   "metadata": {
    "colab": {},
    "colab_type": "code",
    "id": "7_InWNA1TKJ5"
   },
   "outputs": [],
   "source": [
    "from sklearn.metrics import mean_squared_error\n",
    "\n",
    "def parity_plotter(grid_search_obj, X_train, X_valid, y_train, y_valid):\n",
    "    # input: gridsearch object, training and validation datasets\n",
    "    # output: None\n",
    "    # prints out parity plots and scores\n",
    "    \n",
    "    # Compute and output scores\n",
    "    print(\"Best parameters: {}\".format(grid_search_obj.best_params_))\n",
    "    \n",
    "    yhat_train = grid_search_obj.best_estimator_.predict(X_train)\n",
    "    train_score = grid_search_obj.best_estimator_.score(X_train, y_train)\n",
    "    print(\"Training R2 score: {}\".format(train_score))\n",
    "    rmse_train = np.sqrt(mean_squared_error(y_train, yhat_train))\n",
    "    print(\"Training RMSE: {}\".format(rmse_train))\n",
    "          \n",
    "    yhat_valid = grid_search_obj.best_estimator_.predict(X_valid)\n",
    "    valid_score = grid_search_obj.best_estimator_.score(X_valid, y_valid)\n",
    "    print(\"Validation R2 score: {}\".format(valid_score))\n",
    "    rmse_train = np.sqrt(mean_squared_error(y_valid, yhat_valid))\n",
    "    print(\"Validation RMSE: {}\".format(rmse_train))\n",
    "\n",
    "    # Superimpose testing and training points\n",
    "    fig, ax = plt.subplots()\n",
    "    ax.scatter(y_train, yhat_train, label='training')\n",
    "    ax.scatter(y_valid, yhat_valid, label='validation')\n",
    "    ax.plot(y_train, y_train, 'k-');\n",
    "          \n",
    "    ax.set_xlabel(\"Actual y\")\n",
    "    ax.set_ylabel(\"Predicted y\")\n",
    "    ax.legend()\n",
    "          \n",
    "    return"
   ]
  },
  {
   "cell_type": "markdown",
   "metadata": {
    "colab_type": "text",
    "id": "TbYQoxNzQqdI"
   },
   "source": [
    "The `gridsearch_pipeline_fit` code block takes in `Pipeline` object for the model, a parameter grid, and the associated training and validation data. \n",
    "* Fits and returns a `GridSearch` object. \n",
    "* Prints out the best hyperparameters for the associated pipeline. "
   ]
  },
  {
   "cell_type": "code",
   "execution_count": 347,
   "metadata": {
    "colab": {},
    "colab_type": "code",
    "id": "kGQG5UqBTKKB"
   },
   "outputs": [],
   "source": [
    "from sklearn.model_selection import LeaveOneOut\n",
    "\n",
    "def gridsearch_pipeline_fit(pipe, param_grid, X_train, X_valid, y_train, y_valid):\n",
    "    # input: pipeline object, parameter grid (as dict)\n",
    "    # uses leave one out cross-validation iterator with score as max_error\n",
    "    # output: grid_search_obj\n",
    "    \n",
    "    cv = LeaveOneOut()\n",
    "    search = GridSearchCV(estimator=pipe, param_grid=param_grid, scoring='neg_root_mean_squared_error',n_jobs=-1,cv=cv,return_train_score=True)\n",
    "    search.fit(X_train, y_train) \n",
    "    \n",
    "    print(\"Best parameter (CV test score=%0.3f):\" % search.best_score_)\n",
    "    print(search.best_params_)\n",
    "    \n",
    "    return search"
   ]
  },
  {
   "cell_type": "code",
   "execution_count": 348,
   "metadata": {},
   "outputs": [],
   "source": [
    "def one_param_plotter(grid_search_obj, hyperparameter, X_train, X_test,is_log=True):\n",
    "    # input: grid_search_object, hyperparameter as string\n",
    "    # plots training/testing score as a function of hyperparameter (with errors) \n",
    "    # output:None\n",
    "    \n",
    "    if len(grid_search_obj.param_grid) != 1:\n",
    "        print('cannot plot more than one hyperparameter')\n",
    "        return\n",
    "    \n",
    "    if hyperparameter not in grid_search_obj.param_grid.keys():\n",
    "        print('key does not exist in param_grid')\n",
    "        return\n",
    "    \n",
    "    N_train = search.cv.get_n_splits(X_train)\n",
    "    N_test = search.cv.get_n_splits(X_test)\n",
    "    \n",
    "    train_scores = grid_search_obj.cv_results_['mean_train_score'] * -1\n",
    "    train_scores_stdev = grid_search_obj.cv_results_['std_train_score']/np.sqrt(N_train) * -1\n",
    "\n",
    "    test_scores = grid_search_obj.cv_results_['mean_test_score'] * -1\n",
    "    test_scores_stdev = grid_search_obj.cv_results_['std_test_score']/np.sqrt(N_test) * -1\n",
    "\n",
    "    # plot error lines showing +/- std. deviation of the scores\n",
    "    train_std_error = train_scores_stdev\n",
    "    test_std_error = test_scores_stdev\n",
    "    \n",
    "    param_range = grid_search_obj.param_grid[hyperparameter]\n",
    "    fig, ax = plt.subplots(1,2, figsize=(15,5))\n",
    "    \n",
    "    if is_log: # linear plot\n",
    "        # plot training scores   \n",
    "        ax[0].semilogx(param_range, train_scores + train_std_error, 'b-')\n",
    "        ax[0].semilogx(param_range, train_scores - train_std_error, 'b-')\n",
    "        ax[0].semilogx(param_range, train_scores, 'ko-')\n",
    "        # plot testing scores\n",
    "        ax[1].semilogx(param_range, test_scores + test_std_error, 'b-')\n",
    "        ax[1].semilogx(param_range, test_scores - test_std_error, 'b-')\n",
    "        ax[1].semilogx(param_range, test_scores, 'ko-')  \n",
    "        \n",
    "    else:   # linear plot\n",
    "        # plot training scores   \"\"\n",
    "        ax[0].plot(param_range, train_scores + train_std_error, 'b-')\n",
    "        ax[0].plot(param_range, train_scores - train_std_error, 'b-')\n",
    "        ax[0].plot(param_range, train_scores, 'ko-')\n",
    "        # plot testing scores\n",
    "        ax[1].plot(param_range, test_scores + test_std_error, 'b-')\n",
    "        ax[1].plot(param_range, test_scores - test_std_error,'b-')\n",
    "        ax[1].plot(param_range, test_scores, 'ko-')  \n",
    "        \n",
    "    ax[0].fill_between(param_range, \n",
    "                       train_scores + train_std_error, train_scores - train_std_error, alpha=0.2)\n",
    "    ax[0].set_ylabel('Train RMSE +/- std error')\n",
    "    ax[0].set_xlabel(hyperparameter)\n",
    "    ax[0].axhline(np.max(train_scores), linestyle='-', color='.5')\n",
    "    ax[0].set_title('Train RMSE vs {}'.format(hyperparameter))\n",
    "\n",
    "    ax[1].fill_between(param_range, \n",
    "                       test_scores + test_std_error, test_scores - test_std_error, alpha=0.2)\n",
    "    ax[1].set_ylabel('Test RMSE +/- std error')\n",
    "    ax[1].set_xlabel(hyperparameter)\n",
    "    ax[1].axhline(np.max(test_scores), linestyle='-', color='.5')\n",
    "    ax[1].set_title('Test RMSE vs {}'.format(hyperparameter))\n",
    "\n",
    "    return fig, ax"
   ]
  },
  {
   "cell_type": "markdown",
   "metadata": {
    "colab_type": "text",
    "id": "o6QGYJZARboA"
   },
   "source": [
    "The `one_param_plotter` function takes in a fitted `GridSearch` object, the hyperparameter to plot against, and the associated testing data.\n",
    "* Plots the mean training and testing errors associated with cross-validation."
   ]
  },
  {
   "cell_type": "markdown",
   "metadata": {
    "colab_type": "text",
    "id": "agKF5Ax2TKKZ"
   },
   "source": [
    "## Split Dataset for Testing and Validation"
   ]
  },
  {
   "cell_type": "code",
   "execution_count": 349,
   "metadata": {},
   "outputs": [],
   "source": [
    "from sklearn.model_selection import train_test_split\n",
    "from sklearn.utils import shuffle\n",
    "\n",
    "# Split the dataframes with 20% hold out\n",
    "np.random.seed(0) # May change later\n",
    "df_X_train, df_X_test, df_y_train, df_y_test  = train_test_split(df_X, df_Y, test_size=0.20)\n",
    "df_X_train, df_y_train = shuffle(df_X_train, df_y_train)"
   ]
  },
  {
   "cell_type": "markdown",
   "metadata": {
    "colab_type": "text",
    "id": "iKrxe4MgTKKx"
   },
   "source": [
    "## Improved Model #3: Kernel Ridge Regression (KRR)"
   ]
  },
  {
   "cell_type": "code",
   "execution_count": 350,
   "metadata": {},
   "outputs": [],
   "source": [
    "def plot_sensitivity(r2_train_list, r2_valid_list, rmse_train_list, rmse_valid_list, figName=None):\n",
    "    fig, ax = plt.subplots(1, 2, figsize=[10,5])\n",
    "\n",
    "    ax[0].scatter(range(1, len(r2_train_list)+1), r2_valid_list, marker='.', label='test')\n",
    "    ax[0].scatter(range(1, len(r2_train_list)+1), r2_train_list, marker='+', color='r',label='train')\n",
    "    ax[0].set_xlabel('Validation #')\n",
    "    ax[0].set_ylabel('r_2')\n",
    "    ax[0].legend()\n",
    "\n",
    "    print('r2 for training set = {:.4f} +- {:.4f}'.format(np.mean(r2_train_list), np.std(r2_train_list)))\n",
    "    print('r2 for validation set = {:.4f} +- {:.4f}'.format(np.mean(r2_valid_list), np.std(r2_valid_list)))\n",
    "\n",
    "    # rmse plot\n",
    "\n",
    "    ax[1].scatter(range(1, len(r2_train_list)+1), rmse_valid_list, marker='.', label='test')\n",
    "    ax[1].scatter(range(1, len(r2_train_list)+1), rmse_train_list, marker='+', color='r',label='train')\n",
    "    ax[1].set_xlabel('Validation #')\n",
    "    ax[1].set_ylabel('RMSE')\n",
    "    ax[1].legend()\n",
    "\n",
    "    print('RMSE for training set = {:.4f} +- {:.4f}'.format(np.mean(rmse_train_list), np.std(rmse_train_list)))\n",
    "    print('RMSE for validation set = {:.4f} +- {:.4f}'.format(np.mean(rmse_valid_list), np.std(rmse_valid_list)))\n",
    "\n",
    "    if figName is not None:\n",
    "        fig.savefig(figName+'.png', dpi=300, bbox_inches='tight')\n"
   ]
  },
  {
   "cell_type": "code",
   "execution_count": 351,
   "metadata": {},
   "outputs": [
    {
     "name": "stdout",
     "output_type": "stream",
     "text": [
      "Best parameter (CV test score=-1.787):\n",
      "{'krr__alpha': 1e-08, 'krr__gamma': 1.6681005372000591e-06}\n",
      "Best parameter (CV test score=-2.036):\n",
      "{'krr__alpha': 0.003593813663804626, 'krr__gamma': 1.2915496650148827e-07}\n",
      "Best parameter (CV test score=-2.028):\n",
      "{'krr__alpha': 2.1544346900318867e-05, 'krr__gamma': 1e-08}\n",
      "Best parameter (CV test score=-1.883):\n",
      "{'krr__alpha': 0.04641588833612782, 'krr__gamma': 1.6681005372000591e-06}\n",
      "Best parameter (CV test score=-2.048):\n",
      "{'krr__alpha': 2.1544346900318867e-05, 'krr__gamma': 1e-08}\n",
      "Best parameter (CV test score=-1.472):\n",
      "{'krr__alpha': 1e-08, 'krr__gamma': 1.6681005372000591e-06}\n",
      "Best parameter (CV test score=-1.757):\n",
      "{'krr__alpha': 0.0002782559402207126, 'krr__gamma': 1.6681005372000591e-06}\n",
      "Best parameter (CV test score=-1.399):\n",
      "{'krr__alpha': 1e-08, 'krr__gamma': 1.6681005372000591e-06}\n",
      "Best parameter (CV test score=-2.002):\n",
      "{'krr__alpha': 0.04641588833612782, 'krr__gamma': 1.6681005372000591e-06}\n",
      "Best parameter (CV test score=-2.104):\n",
      "{'krr__alpha': 0.003593813663804626, 'krr__gamma': 1.6681005372000591e-06}\n",
      "Best parameter (CV test score=-1.775):\n",
      "{'krr__alpha': 0.003593813663804626, 'krr__gamma': 1.6681005372000591e-06}\n",
      "Best parameter (CV test score=-1.415):\n",
      "{'krr__alpha': 1e-08, 'krr__gamma': 1.6681005372000591e-06}\n",
      "Best parameter (CV test score=-1.798):\n",
      "{'krr__alpha': 0.0002782559402207126, 'krr__gamma': 1.6681005372000591e-06}\n",
      "Best parameter (CV test score=-1.101):\n",
      "{'krr__alpha': 1e-08, 'krr__gamma': 1.6681005372000591e-06}\n",
      "Best parameter (CV test score=-1.899):\n",
      "{'krr__alpha': 2.1544346900318867e-05, 'krr__gamma': 1e-08}\n",
      "Best parameter (CV test score=-1.763):\n",
      "{'krr__alpha': 0.003593813663804626, 'krr__gamma': 1.6681005372000591e-06}\n",
      "Best parameter (CV test score=-1.733):\n",
      "{'krr__alpha': 0.003593813663804626, 'krr__gamma': 1.6681005372000591e-06}\n",
      "Best parameter (CV test score=-1.996):\n",
      "{'krr__alpha': 0.003593813663804626, 'krr__gamma': 1.6681005372000591e-06}\n",
      "Best parameter (CV test score=-1.558):\n",
      "{'krr__alpha': 0.003593813663804626, 'krr__gamma': 1.6681005372000591e-06}\n",
      "Best parameter (CV test score=-2.022):\n",
      "{'krr__alpha': 0.04641588833612782, 'krr__gamma': 1.6681005372000591e-06}\n",
      "r2 for training set = 0.6601 +- 0.2990\n",
      "r2 for validation set = -0.5734 +- 1.2856\n",
      "RMSE for training set = 1.2287 +- 0.8725\n",
      "RMSE for validation set = 2.9507 +- 0.7882\n"
     ]
    },
    {
     "data": {
      "image/png": "[encoded data removed]",
      "text/plain": [
       "<Figure size 720x360 with 2 Axes>"
      ]
     },
     "metadata": {
      "needs_background": "light"
     },
     "output_type": "display_data"
    }
   ],
   "source": [
    "np.random.seed(0) # May change later\n",
    "\n",
    "num_iter = 20\n",
    "\n",
    "list_RMSE_training = []\n",
    "list_RMSE_validation = []\n",
    "list_r2_training = []\n",
    "list_r2_validation = []\n",
    "list_alpha = []\n",
    "list_gamma = []\n",
    "\n",
    "hyperparameter1 = 'krr__alpha'\n",
    "hyperparameter2 = 'krr__gamma'\n",
    "# search for smaller grid\n",
    "param_grid = {'krr__gamma': np.logspace(-8,2,10),\n",
    "              'krr__alpha': np.logspace(-8,2,10)}\n",
    "\n",
    "\n",
    "for i in range(num_iter):\n",
    "    df_X_train, df_X_test, df_y_train, df_y_test  = train_test_split(df_X, df_Y, test_size=0.20)\n",
    "    df_X_train, df_y_train = shuffle(df_X_train, df_y_train)\n",
    "    search = gridsearch_pipeline_fit(pipe, param_grid, df_X_train, df_X_test, df_y_train.iloc[:,0], df_y_test.iloc[:,0])\n",
    "    yhat_train = search.best_estimator_.predict(df_X_train)\n",
    "    train_score = search.best_estimator_.score(df_X_train, df_y_train.iloc[:,0])\n",
    "    rmse_train = np.sqrt(mean_squared_error(df_y_train.iloc[:,0], yhat_train))\n",
    "    yhat_valid = search.best_estimator_.predict(df_X_test)\n",
    "    valid_score = search.best_estimator_.score(df_X_test, df_y_test.iloc[:,0])\n",
    "    rmse_valid = np.sqrt(mean_squared_error(df_y_test.iloc[:,0], yhat_valid))\n",
    "\n",
    "    list_RMSE_training.append(rmse_train)\n",
    "    list_RMSE_validation.append(rmse_valid)\n",
    "    list_r2_training.append(train_score)\n",
    "    list_r2_validation.append(valid_score)\n",
    "    \n",
    "    list_alpha.append(search.best_params_[hyperparameter1])\n",
    "    list_gamma.append(search.best_params_[hyperparameter2])\n",
    "\n",
    "plot_sensitivity(list_r2_training, list_r2_validation, list_RMSE_training, list_RMSE_validation)"
   ]
  },
  {
   "cell_type": "code",
   "execution_count": 354,
   "metadata": {},
   "outputs": [
    {
     "name": "stdout",
     "output_type": "stream",
     "text": [
      "0.008251277778807912\n",
      "1.3424381780851222e-06\n"
     ]
    }
   ],
   "source": [
    "avg_alpha = np.mean(list_alpha)\n",
    "avg_gamma = np.mean(list_gamma)\n",
    "\n",
    "print(avg_alpha)\n",
    "print(avg_gamma)"
   ]
  },
  {
   "cell_type": "markdown",
   "metadata": {},
   "source": [
    "### Effect of alpha values"
   ]
  },
  {
   "cell_type": "code",
   "execution_count": 355,
   "metadata": {},
   "outputs": [],
   "source": [
    "from sklearn.model_selection import train_test_split\n",
    "from sklearn.utils import shuffle\n",
    "\n",
    "# Split the dataframes with 20% hold out\n",
    "np.random.seed(40) # May change later\n",
    "df_X_train, df_X_test, df_y_train, df_y_test  = train_test_split(df_X, df_Y, test_size=0.20)\n",
    "df_X_train, df_y_train = shuffle(df_X_train, df_y_train)"
   ]
  },
  {
   "cell_type": "code",
   "execution_count": 361,
   "metadata": {},
   "outputs": [
    {
     "name": "stdout",
     "output_type": "stream",
     "text": [
      "Best parameter (CV test score=-1.932):\n",
      "{'krr__alpha': 0.09426684551178845}\n"
     ]
    }
   ],
   "source": [
    "from sklearn.model_selection import GridSearchCV\n",
    "from sklearn.decomposition import PCA\n",
    "from sklearn.linear_model import LinearRegression\n",
    "from sklearn.pipeline import Pipeline\n",
    "from sklearn.preprocessing import StandardScaler\n",
    "from sklearn.kernel_ridge import KernelRidge\n",
    "\n",
    "\n",
    "# Create pipeline\n",
    "scaler = StandardScaler()\n",
    "\n",
    "\n",
    "# Create pipeline\n",
    "scaler = StandardScaler()\n",
    "krr = KernelRidge(kernel='rbf', gamma = avg_gamma) \n",
    "pipe = Pipeline(steps=[('scaler', scaler), ('krr', krr)] )\n",
    "param_grid = {'krr__alpha': np.logspace(-5,0,40)}\n",
    "\n",
    "search = gridsearch_pipeline_fit(pipe, param_grid, df_X_train, df_X_test, df_y_train.iloc[:,0], df_y_test.iloc[:,0])"
   ]
  },
  {
   "cell_type": "code",
   "execution_count": 362,
   "metadata": {
    "colab": {
     "base_uri": "https://localhost:8080/",
     "height": 251
    },
    "colab_type": "code",
    "id": "ywrgDtPXTKK8",
    "outputId": "e408262d-8d87-46d2-fdfd-e922089c919c",
    "scrolled": false
   },
   "outputs": [
    {
     "data": {
      "text/plain": [
       "(<Figure size 1080x360 with 2 Axes>,\n",
       " array([<matplotlib.axes._subplots.AxesSubplot object at 0x000002C00A37A8C8>,\n",
       "        <matplotlib.axes._subplots.AxesSubplot object at 0x000002C008907388>],\n",
       "       dtype=object))"
      ]
     },
     "execution_count": 362,
     "metadata": {},
     "output_type": "execute_result"
    },
    {
     "data": {
      "image/png": "[encoded data removed]",
      "text/plain": [
       "<Figure size 1080x360 with 2 Axes>"
      ]
     },
     "metadata": {
      "needs_background": "light"
     },
     "output_type": "display_data"
    }
   ],
   "source": [
    "one_param_plotter(search, 'krr__alpha', df_X_train, df_X_test)"
   ]
  },
  {
   "cell_type": "code",
   "execution_count": null,
   "metadata": {},
   "outputs": [],
   "source": []
  },
  {
   "cell_type": "markdown",
   "metadata": {},
   "source": [
    "### Effect of gamma values"
   ]
  },
  {
   "cell_type": "code",
   "execution_count": 370,
   "metadata": {},
   "outputs": [
    {
     "name": "stdout",
     "output_type": "stream",
     "text": [
      "Best parameter (CV test score=-1.967):\n",
      "{'krr__gamma': 2.06913808111479e-07}\n"
     ]
    }
   ],
   "source": [
    "from sklearn.model_selection import GridSearchCV\n",
    "from sklearn.decomposition import PCA\n",
    "from sklearn.linear_model import LinearRegression\n",
    "from sklearn.pipeline import Pipeline\n",
    "from sklearn.preprocessing import StandardScaler\n",
    "from sklearn.kernel_ridge import KernelRidge\n",
    "\n",
    "\n",
    "# Create pipeline\n",
    "scaler = StandardScaler()\n",
    "#plsr = PLSRegression(n_components = 4, max_iter = 100000, tol = 0.0001)\n",
    "\n",
    "\n",
    "\n",
    "# Create pipeline\n",
    "scaler = StandardScaler()\n",
    "krr = KernelRidge(kernel='rbf', alpha = avg_alpha) \n",
    "pipe = Pipeline(steps=[('scaler', scaler), ('krr', krr)] )\n",
    "param_grid = {'krr__gamma': np.logspace(-7,-1,20)}\n",
    "\n",
    "search = gridsearch_pipeline_fit(pipe, param_grid, df_X_train, df_X_test, df_y_train.iloc[:,0], df_y_test.iloc[:,0])"
   ]
  },
  {
   "cell_type": "code",
   "execution_count": 371,
   "metadata": {},
   "outputs": [
    {
     "data": {
      "text/plain": [
       "(<Figure size 1080x360 with 2 Axes>,\n",
       " array([<matplotlib.axes._subplots.AxesSubplot object at 0x000002C009106D88>,\n",
       "        <matplotlib.axes._subplots.AxesSubplot object at 0x000002C00A64A548>],\n",
       "       dtype=object))"
      ]
     },
     "execution_count": 371,
     "metadata": {},
     "output_type": "execute_result"
    },
    {
     "data": {
      "image/png": "[encoded data removed]",
      "text/plain": [
       "<Figure size 1080x360 with 2 Axes>"
      ]
     },
     "metadata": {
      "needs_background": "light"
     },
     "output_type": "display_data"
    }
   ],
   "source": [
    "one_param_plotter(search, 'krr__gamma', df_X_train, df_X_test)"
   ]
  },
  {
   "cell_type": "markdown",
   "metadata": {},
   "source": [
    "### Parity plot for average alpha and gamma"
   ]
  },
  {
   "cell_type": "code",
   "execution_count": 383,
   "metadata": {},
   "outputs": [
    {
     "name": "stdout",
     "output_type": "stream",
     "text": [
      "Best parameter (CV test score=-2.063):\n",
      "{'krr__gamma': 1.3424381780851222e-06}\n"
     ]
    }
   ],
   "source": [
    "from sklearn.model_selection import GridSearchCV\n",
    "from sklearn.decomposition import PCA\n",
    "from sklearn.linear_model import LinearRegression\n",
    "from sklearn.pipeline import Pipeline\n",
    "from sklearn.preprocessing import StandardScaler\n",
    "from sklearn.kernel_ridge import KernelRidge\n",
    "\n",
    "\n",
    "# Create pipeline\n",
    "scaler = StandardScaler()\n",
    "#plsr = PLSRegression(n_components = 4, max_iter = 100000, tol = 0.0001)\n",
    "\n",
    "\n",
    "\n",
    "# Create pipeline\n",
    "scaler = StandardScaler()\n",
    "krr = KernelRidge(kernel='rbf', alpha = avg_alpha) \n",
    "pipe = Pipeline(steps=[('scaler', scaler), ('krr', krr)] )\n",
    "param_grid = {'krr__gamma': [avg_gamma,avg_gamma]}\n",
    "\n",
    "search = gridsearch_pipeline_fit(pipe, param_grid, df_X_train, df_X_test, df_y_train.iloc[:,0], df_y_test.iloc[:,0])"
   ]
  },
  {
   "cell_type": "code",
   "execution_count": 384,
   "metadata": {},
   "outputs": [
    {
     "name": "stdout",
     "output_type": "stream",
     "text": [
      "Best parameters: {'krr__gamma': 1.3424381780851222e-06}\n",
      "Training R2 score: 0.396661515361902\n",
      "Training RMSE: 2.0181085014283484\n",
      "Validation R2 score: 0.13200105671546503\n",
      "Validation RMSE: 2.3444093151939933\n"
     ]
    },
    {
     "data": {
      "image/png": "[encoded data removed]",
      "text/plain": [
       "<Figure size 432x288 with 1 Axes>"
      ]
     },
     "metadata": {
      "needs_background": "light"
     },
     "output_type": "display_data"
    }
   ],
   "source": [
    "parity_plotter(search, df_X_train, df_X_test, df_y_train.iloc[:,0], df_y_test.iloc[:,0])"
   ]
  },
  {
   "cell_type": "code",
   "execution_count": null,
   "metadata": {},
   "outputs": [],
   "source": []
  }
 ],
 "metadata": {
  "colab": {
   "collapsed_sections": [],
   "name": "Nicole 6pm Group 8 final improved model.ipynb",
   "provenance": []
  },
  "kernelspec": {
   "display_name": "Python 3",
   "language": "python",
   "name": "python3"
  },
  "language_info": {
   "codemirror_mode": {
    "name": "ipython",
    "version": 3
   },
   "file_extension": ".py",
   "mimetype": "text/x-python",
   "name": "python",
   "nbconvert_exporter": "python",
   "pygments_lexer": "ipython3",
   "version": "3.7.6"
  }
 },
 "nbformat": 4,
 "nbformat_minor": 1
}